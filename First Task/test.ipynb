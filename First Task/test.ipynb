{
 "cells": [
  {
   "cell_type": "code",
   "execution_count": 6,
   "metadata": {},
   "outputs": [
    {
     "name": "stdout",
     "output_type": "stream",
     "text": [
      "[array([1.]), array([1.]), array([1.]), array([1.]), array([1.]), array([1.]), array([1.]), array([0.66666667, 0.33333333]), array([1.]), array([1.]), array([1.]), array([1.]), array([1.]), array([1.]), array([1.]), array([1.]), array([1.]), array([1.]), array([0.66666667, 0.33333333]), array([1.]), array([1.]), array([1.]), array([1.]), array([1.]), array([1.]), array([1.]), array([0.33333333, 0.66666667]), array([1.]), array([0.66666667, 0.33333333]), array([1.]), array([1.]), array([1.]), array([1.]), array([1.]), array([1.]), array([1.]), array([1.]), array([1.]), array([1.]), array([0.66666667, 0.33333333]), array([1.]), array([1.]), array([1.]), array([1.]), array([1.]), array([0.66666667, 0.33333333]), array([0.33333333, 0.66666667]), array([0.66666667, 0.33333333]), array([1.]), array([1.]), array([0.33333333, 0.66666667]), array([1.]), array([1.]), array([1.]), array([1.]), array([1.]), array([1.]), array([1.]), array([1.]), array([0.66666667, 0.33333333]), array([0.33333333, 0.66666667]), array([0.66666667, 0.33333333]), array([1.]), array([1.]), array([1.]), array([1.]), array([0.66666667, 0.33333333]), array([1.]), array([1.]), array([1.]), array([1.]), array([1.]), array([1.]), array([1.]), array([0.33333333, 0.66666667]), array([1.]), array([1.]), array([1.]), array([1.]), array([1.]), array([1.]), array([1.]), array([0.33333333, 0.66666667]), array([1.]), array([0.66666667, 0.33333333]), array([1.]), array([1.]), array([1.]), array([1.]), array([1.])]\n"
     ]
    },
    {
     "ename": "ValueError",
     "evalue": "setting an array element with a sequence. The requested array has an inhomogeneous shape after 1 dimensions. The detected shape was (90,) + inhomogeneous part.",
     "output_type": "error",
     "traceback": [
      "\u001b[1;31m---------------------------------------------------------------------------\u001b[0m",
      "\u001b[1;31mValueError\u001b[0m                                Traceback (most recent call last)",
      "Cell \u001b[1;32mIn[6], line 7\u001b[0m\n\u001b[0;32m      5\u001b[0m predictions \u001b[38;5;241m=\u001b[39m [array([\u001b[38;5;241m1.\u001b[39m]), array([\u001b[38;5;241m1.\u001b[39m]), array([\u001b[38;5;241m1.\u001b[39m]), array([\u001b[38;5;241m1.\u001b[39m]), array([\u001b[38;5;241m1.\u001b[39m]), array([\u001b[38;5;241m1.\u001b[39m]), array([\u001b[38;5;241m1.\u001b[39m]), array([\u001b[38;5;241m0.66666667\u001b[39m, \u001b[38;5;241m0.33333333\u001b[39m]), array([\u001b[38;5;241m1.\u001b[39m]), array([\u001b[38;5;241m1.\u001b[39m]), array([\u001b[38;5;241m1.\u001b[39m]), array([\u001b[38;5;241m1.\u001b[39m]), array([\u001b[38;5;241m1.\u001b[39m]), array([\u001b[38;5;241m1.\u001b[39m]), array([\u001b[38;5;241m1.\u001b[39m]), array([\u001b[38;5;241m1.\u001b[39m]), array([\u001b[38;5;241m1.\u001b[39m]), array([\u001b[38;5;241m1.\u001b[39m]), array([\u001b[38;5;241m0.66666667\u001b[39m, \u001b[38;5;241m0.33333333\u001b[39m]), array([\u001b[38;5;241m1.\u001b[39m]), array([\u001b[38;5;241m1.\u001b[39m]), array([\u001b[38;5;241m1.\u001b[39m]), array([\u001b[38;5;241m1.\u001b[39m]), array([\u001b[38;5;241m1.\u001b[39m]), array([\u001b[38;5;241m1.\u001b[39m]), array([\u001b[38;5;241m1.\u001b[39m]), array([\u001b[38;5;241m0.33333333\u001b[39m, \u001b[38;5;241m0.66666667\u001b[39m]), array([\u001b[38;5;241m1.\u001b[39m]), array([\u001b[38;5;241m0.66666667\u001b[39m, \u001b[38;5;241m0.33333333\u001b[39m]), array([\u001b[38;5;241m1.\u001b[39m]), array([\u001b[38;5;241m1.\u001b[39m]), array([\u001b[38;5;241m1.\u001b[39m]), array([\u001b[38;5;241m1.\u001b[39m]), array([\u001b[38;5;241m1.\u001b[39m]), array([\u001b[38;5;241m1.\u001b[39m]), array([\u001b[38;5;241m1.\u001b[39m]), array([\u001b[38;5;241m1.\u001b[39m]), array([\u001b[38;5;241m1.\u001b[39m]), array([\u001b[38;5;241m1.\u001b[39m]), array([\u001b[38;5;241m0.66666667\u001b[39m, \u001b[38;5;241m0.33333333\u001b[39m]), array([\u001b[38;5;241m1.\u001b[39m]), array([\u001b[38;5;241m1.\u001b[39m]), array([\u001b[38;5;241m1.\u001b[39m]), array([\u001b[38;5;241m1.\u001b[39m]), array([\u001b[38;5;241m1.\u001b[39m]), array([\u001b[38;5;241m0.66666667\u001b[39m, \u001b[38;5;241m0.33333333\u001b[39m]), array([\u001b[38;5;241m0.33333333\u001b[39m, \u001b[38;5;241m0.66666667\u001b[39m]), array([\u001b[38;5;241m0.66666667\u001b[39m, \u001b[38;5;241m0.33333333\u001b[39m]), array([\u001b[38;5;241m1.\u001b[39m]), array([\u001b[38;5;241m1.\u001b[39m]), array([\u001b[38;5;241m0.33333333\u001b[39m, \u001b[38;5;241m0.66666667\u001b[39m]), array([\u001b[38;5;241m1.\u001b[39m]), array([\u001b[38;5;241m1.\u001b[39m]), array([\u001b[38;5;241m1.\u001b[39m]), array([\u001b[38;5;241m1.\u001b[39m]), array([\u001b[38;5;241m1.\u001b[39m]), array([\u001b[38;5;241m1.\u001b[39m]), array([\u001b[38;5;241m1.\u001b[39m]), array([\u001b[38;5;241m1.\u001b[39m]), array([\u001b[38;5;241m0.66666667\u001b[39m, \u001b[38;5;241m0.33333333\u001b[39m]), array([\u001b[38;5;241m0.33333333\u001b[39m, \u001b[38;5;241m0.66666667\u001b[39m]), array([\u001b[38;5;241m0.66666667\u001b[39m, \u001b[38;5;241m0.33333333\u001b[39m]), array([\u001b[38;5;241m1.\u001b[39m]), array([\u001b[38;5;241m1.\u001b[39m]), array([\u001b[38;5;241m1.\u001b[39m]), array([\u001b[38;5;241m1.\u001b[39m]), array([\u001b[38;5;241m0.66666667\u001b[39m, \u001b[38;5;241m0.33333333\u001b[39m]), array([\u001b[38;5;241m1.\u001b[39m]), array([\u001b[38;5;241m1.\u001b[39m]), array([\u001b[38;5;241m1.\u001b[39m]), array([\u001b[38;5;241m1.\u001b[39m]), array([\u001b[38;5;241m1.\u001b[39m]), array([\u001b[38;5;241m1.\u001b[39m]), array([\u001b[38;5;241m1.\u001b[39m]), array([\u001b[38;5;241m0.33333333\u001b[39m, \u001b[38;5;241m0.66666667\u001b[39m]), array([\u001b[38;5;241m1.\u001b[39m]), array([\u001b[38;5;241m1.\u001b[39m]), array([\u001b[38;5;241m1.\u001b[39m]), array([\u001b[38;5;241m1.\u001b[39m]), array([\u001b[38;5;241m1.\u001b[39m]), array([\u001b[38;5;241m1.\u001b[39m]), array([\u001b[38;5;241m1.\u001b[39m]), array([\u001b[38;5;241m0.33333333\u001b[39m, \u001b[38;5;241m0.66666667\u001b[39m]), array([\u001b[38;5;241m1.\u001b[39m]), array([\u001b[38;5;241m0.66666667\u001b[39m, \u001b[38;5;241m0.33333333\u001b[39m]), array([\u001b[38;5;241m1.\u001b[39m]), array([\u001b[38;5;241m1.\u001b[39m]), array([\u001b[38;5;241m1.\u001b[39m]), array([\u001b[38;5;241m1.\u001b[39m]), array([\u001b[38;5;241m1.\u001b[39m])]\n\u001b[0;32m      6\u001b[0m \u001b[38;5;28mprint\u001b[39m(predictions)\n\u001b[1;32m----> 7\u001b[0m predictions \u001b[38;5;241m=\u001b[39m \u001b[43mnp\u001b[49m\u001b[38;5;241;43m.\u001b[39;49m\u001b[43marray\u001b[49m\u001b[43m(\u001b[49m\u001b[43mpredictions\u001b[49m\u001b[43m)\u001b[49m\n\u001b[0;32m      8\u001b[0m \u001b[38;5;66;03m# Now, we can find the index of the maximum probability for each data point\u001b[39;00m\n\u001b[0;32m      9\u001b[0m predicted_labels \u001b[38;5;241m=\u001b[39m np\u001b[38;5;241m.\u001b[39margmax(predictions, axis\u001b[38;5;241m=\u001b[39m\u001b[38;5;241m1\u001b[39m)\n",
      "\u001b[1;31mValueError\u001b[0m: setting an array element with a sequence. The requested array has an inhomogeneous shape after 1 dimensions. The detected shape was (90,) + inhomogeneous part."
     ]
    }
   ],
   "source": [
    "import numpy as np\n",
    "from numpy import array\n",
    "\n",
    "\n",
    "predictions = [array([1.]), array([1.]), array([1.]), array([1.]), array([1.]), array([1.]), array([1.]), array([0.66666667, 0.33333333]), array([1.]), array([1.]), array([1.]), array([1.]), array([1.]), array([1.]), array([1.]), array([1.]), array([1.]), array([1.]), array([0.66666667, 0.33333333]), array([1.]), array([1.]), array([1.]), array([1.]), array([1.]), array([1.]), array([1.]), array([0.33333333, 0.66666667]), array([1.]), array([0.66666667, 0.33333333]), array([1.]), array([1.]), array([1.]), array([1.]), array([1.]), array([1.]), array([1.]), array([1.]), array([1.]), array([1.]), array([0.66666667, 0.33333333]), array([1.]), array([1.]), array([1.]), array([1.]), array([1.]), array([0.66666667, 0.33333333]), array([0.33333333, 0.66666667]), array([0.66666667, 0.33333333]), array([1.]), array([1.]), array([0.33333333, 0.66666667]), array([1.]), array([1.]), array([1.]), array([1.]), array([1.]), array([1.]), array([1.]), array([1.]), array([0.66666667, 0.33333333]), array([0.33333333, 0.66666667]), array([0.66666667, 0.33333333]), array([1.]), array([1.]), array([1.]), array([1.]), array([0.66666667, 0.33333333]), array([1.]), array([1.]), array([1.]), array([1.]), array([1.]), array([1.]), array([1.]), array([0.33333333, 0.66666667]), array([1.]), array([1.]), array([1.]), array([1.]), array([1.]), array([1.]), array([1.]), array([0.33333333, 0.66666667]), array([1.]), array([0.66666667, 0.33333333]), array([1.]), array([1.]), array([1.]), array([1.]), array([1.])]\n",
    "print(predictions)\n",
    "for # Now, we can find the index of the maximum probability for each data point\n",
    "predicted_labels = np.argmax(predictions, axis"
   ]
  },
  {
   "cell_type": "code",
   "execution_count": null,
   "metadata": {},
   "outputs": [],
   "source": []
  }
 ],
 "metadata": {
  "kernelspec": {
   "display_name": "Python 3",
   "language": "python",
   "name": "python3"
  },
  "language_info": {
   "codemirror_mode": {
    "name": "ipython",
    "version": 3
   },
   "file_extension": ".py",
   "mimetype": "text/x-python",
   "name": "python",
   "nbconvert_exporter": "python",
   "pygments_lexer": "ipython3",
   "version": "3.10.9"
  }
 },
 "nbformat": 4,
 "nbformat_minor": 2
}
