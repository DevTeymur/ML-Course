{
 "cells": [
  {
   "cell_type": "markdown",
   "metadata": {
    "deletable": false,
    "editable": false,
    "nbgrader": {
     "cell_type": "markdown",
     "checksum": "6da95f9f2030e872d9a4519e71b3e350",
     "grade": false,
     "grade_id": "cell-11fe0ac8a0e8c08a",
     "locked": true,
     "schema_version": 3,
     "solution": false,
     "task": false
    }
   },
   "source": [
    "# ECMM422 Machine Learning\n",
    "## Course Assessment 1\n",
    "\n",
    "This course assessment (CA) represents 40% of the overall module assessment.\n",
    "\n",
    "This is an individual exercise and your attention is drawn to the College and University guidelines on collaboration and plagiarism, which are available from the [College website](https://www.exeter.ac.uk/students/administration/complaintsandappeals/academicmisconduct/). \n",
    "Students are **not allowed** to use Large Language Models (such as ChatGPT, Claude, Gemini, etc) to generate code for the CA.\n",
    "\n",
    "\n",
    "**Submission information:**\n",
    "1. do not change the name of this notebook, i.e. the notebook file has to be: `ca.ipynb`\n",
    "2. do not add you name or student code in the notebook or in the file name\n",
    "3. do not remove or delete or add any cell in this notebook\n",
    "4. make sure to **remove** and **delete** the `raise NotImplementedError()` under the `# YOUR CODE HERE` and replace it with **your code**: note that if you leave it in the cell you will fail the associated test\n",
    "5. do not remove the function `save_history()` at the end of each cell. This function will save your edit operations on the code in the cell and will be used as proof of work, i.e. proof that you have been working on the questions assigned\n",
    "6. work always in the cells provided when developing your implementation, i.e. do not work on another notebook or with programming environments that do not operate on this notebook.\n",
    "7. when you are finished debugging **remove** all code that is not part of the function definition, i.e. leave only the clean function implementation in the cell: do not leave debugging `print` statements in the functions, and do not leave function invocations on test inputs\n",
    "8. make sure that the execution of the cell **does not produce any type of output**: the execution of the cell should only define the desired functions\n",
    "9. before the final submission run the function `check_and_prepare_for_submission()` in the last cell of the notebook: this function will create a zip archive called `ecmm422ca1.zip` which contains your notebook and the folder `proof_of_work`.\n",
    "10. Submit only the file `ecmm422ca1.zip`\n",
    "\n",
    "\n",
    "**Evaluation criteria:**\n",
    "\n",
    "Each question asks for one or more functions to be implemented. \n",
    "\n",
    "- Each function is awarded a number of marks. \n",
    "- One or more hidden unit tests are going to evaluate if all desired properties of the required function are met. \n",
    "- If the function passes a test all the associated marks are awarded, if it fails 0 marks are awarded.\n",
    "- If you make a typo error (e.g. misspelling a variable) this will likely causes a syntax error, the function execution will fail and you will be awarded 0 marks.\n",
    "- Do not make assumptions on the state of previous cells, i.e. expect each function to be evaluated independently, moreover expect each function to be tested in the unit tests on some *randomly* generated input.\n",
    "\n",
    "Although the test use a hard fail/pass strategy to assign marks, the presence of several questions and several unit tests per question allows a fine grading. \n",
    "\n",
    "The Checkpoints are not graded by default, but might be used to assign additional marks in case the execution of the code obtains the desired results even when some tests might fail.\n",
    "\n",
    "**Efficiency:** There is a cap of a few minutes on the execution of each cell and unit test. Make sure your code is not terribly inefficient (for example having a cell run for hours, e.g. using nested loops rather than NumPy functions that can work directly on  arrays), otherwise the execution of the cell/unit test will be interrupted and considered a failure. "
   ]
  },
  {
   "cell_type": "markdown",
   "metadata": {
    "deletable": false,
    "editable": false,
    "nbgrader": {
     "cell_type": "markdown",
     "checksum": "7c6b5e536ac19f860ad3461d8cd78984",
     "grade": false,
     "grade_id": "cell-b7361becee158bc9",
     "locked": true,
     "schema_version": 3,
     "solution": false,
     "task": false
    }
   },
   "source": [
    "## Conventions and notation:\n",
    "\n",
    "Do not assume any library is avaialble other than `matplotlib`, `numpy`, `scipy`.\n",
    "\n",
    "Assume Python 3.8.\n",
    "\n",
    "---\n",
    "\n",
    "In the rest of the notebook, the term `data matrix` refers to a two dimensional numpy array where instances are encoded as rows, e.g. a data matrix with 100 rows and 4 columns is to be interpreted as a collection of 100 instances (vectors) each of dimension four.\n",
    "\n",
    "Make sure to convert numpy `matrix` objects to numpy arrays when returning a data matrix: only arrays are acceptable, not  numpy `matrix` objects. \n",
    "\n",
    "In the rest of the notebook, the term `vector` refers to a **one** dimensional numpy array. \n",
    "\n",
    "When we explicitly use the term `column vector` we mean a two dimensional array of shape `(n,1)`, when we explicitly use the term `row vector` we mean a two dimensional vector of shape `(1,n)`.\n",
    "\n",
    "When the term `distance` is used we mean the Euclidean distance. \n",
    "\n",
    "The functions you are required to write often need to take in input and return as output such objects, i.e. numpy arrays, not python lists. Check the specifications for each required function in the question text. \n",
    "\n",
    "---\n",
    "\n",
    "**Do not use library functions** to directly solve a question unless explicity instructed to do so. That is, when a required function can be implemented directly by a library function it is intended that the candidate should write their own implementation of the function: for example it the Question asks to implement a function to compute the `accuracy` one cannot just wrap the function `accuracy_score` from `sklearn.metrics` in a custom function; if a question asks to implement the K-nearest_neighbor algorithm one cannot just wrap the function `KNeighborsClassifier` from `sklearn.neighbors` in a custom function.\n",
    "\n",
    "---\n",
    "\n",
    "Do not assume that the implementations provided in the Workshops exercises contain no mistakes. You should write and are ultimately responsible for the code that you submit in this Assessment.\n",
    "\n"
   ]
  },
  {
   "cell_type": "code",
   "execution_count": 1,
   "metadata": {
    "ExecuteTime": {
     "end_time": "2024-02-22T17:45:34.739166Z",
     "start_time": "2024-02-22T17:45:34.734254Z"
    },
    "deletable": false,
    "editable": false,
    "nbgrader": {
     "cell_type": "code",
     "checksum": "ae5641f52be62d406cd9aea7cc67176b",
     "grade": false,
     "grade_id": "cell-9e614a36d5268220",
     "locked": true,
     "schema_version": 3,
     "solution": false,
     "task": false
    }
   },
   "outputs": [],
   "source": [
    "%matplotlib inline\n",
    "import matplotlib.pyplot as plt\n",
    "from mpl_toolkits.mplot3d import Axes3D\n",
    "import numpy as np\n",
    "import scipy as sp\n",
    "from submission_utils import save_history, check_and_prepare_for_submission\n",
    "# import warnings filter\n",
    "from warnings import simplefilter\n",
    "# ignore all future warnings\n",
    "simplefilter(action='ignore', category=FutureWarning)"
   ]
  },
  {
   "cell_type": "markdown",
   "metadata": {
    "deletable": false,
    "editable": false,
    "nbgrader": {
     "cell_type": "markdown",
     "checksum": "700d100e477e2f7b3908f76bac351016",
     "grade": false,
     "grade_id": "cell-41308c8fadb8d614",
     "locked": true,
     "schema_version": 3,
     "solution": false,
     "task": false
    }
   },
   "source": [
    "## Question 1\n",
    "\n",
    "<div style=\"text-align: right\"><b>[14 marks]</b></div>\n",
    "\n",
    "**Generating and visualizing synthetic datasets**\n",
    "\n",
    "---\n",
    "\n",
    "**Objective:**\n",
    "The objective of this section of the programming assignment is to implement functions to generate synthetic datasets for binary classification tasks. You will be implementing three functions: `make_positive_data`, `make_negative_data`, and `make_dataset`.\n",
    "In addition you are to implement the functions `plot2d` and `plot3d` for visualizing data points in 2D and 3D space, respectively.\n",
    "\n",
    "Positive data should be generated as follows:\n",
    "\n",
    "- a total of `n_instances` will be generated, of which a fraction equal to `1-fraction_of_outliers` will be inliers and a fraction equal to `fraction_of_outliers` will be outliers.\n",
    "- the inliers will be generated using the composition of two multivariate normal distributions.\n",
    "- the inliers will be points in a vector space of dimension `n_informative_features+n_non_informative_features`, i.e. if `n_informative_features=2` and  `n_non_informative_features=3` the inliers will be points in a vector space of dimension 5.\n",
    "- the first `n_informative_features` features will be generated according to a multivariate normal distribution with mean `[1,1,...,1]` (i.e. the ONE vector in n-dimensions), and standard deviation `std`\n",
    "- the remaining `n_non_informative_features` features will be generated according to a multivariate normal distribution with zero mean and standard deviation `std`\n",
    "- the outliers will be generated in a similar way, but where the first `n_informative_features` features will be generated according to a multivariate normal distribution with mean `[-1,-1,...,-1]` (i.e. the negative ONE vector in n-dimensions), and standard deviation `outliers_std`\n",
    "- the remaining `n_non_informative_features` features for the outliers will be generated according to a multivariate normal distribution with zero mean and standard deviation `std`\n",
    "\n",
    "Negative data does not have outliers and should be generated as follows:\n",
    "\n",
    "- a total of `n_instances` will be generated\n",
    "- the instances will be generated using the composition of two multivariate normal distributions.\n",
    "- the instances will be points in a vector space of dimension `n_informative_features+n_non_informative_features`, i.e. if `n_informative_features=2` and  `n_non_informative_features=3` the instances will be points in a vector space of dimension 5.\n",
    "- the first `n_informative_features` features will be generated according to a multivariate normal distribution with mean `[-1,-1,...,-1]` (i.e. the negative ONE vector in n-dimensions) and standard deviation `std`\n",
    "- the remaining `n_non_informative_features` features will be generated according to a multivariate normal distribution with zero mean and standard deviation `std`\n",
    "\n",
    "The function `make_dataset` will generate a total of `n_instances` of which half will be positive (including the outliers) and halp will be negative. \n",
    "\n",
    "---\n",
    "\n",
    "**Instructions:**\n",
    "\n",
    "1. **make_positive_data:**\n",
    "   - Implement the function `make_positive_data` that generates synthetic data for the positive class.\n",
    "   - Parameters:\n",
    "     - `n_instances`: Total number of instances in the dataset.\n",
    "     - `fraction_of_outliers`: Fraction of outliers to include in the dataset.\n",
    "     - `n_informative_features`: Number of informative features.\n",
    "     - `n_non_informative_features`: Number of non-informative features.\n",
    "     - `std`: Standard deviation for generating data.\n",
    "     - `outliers_std`: Standard deviation for generating outliers.\n",
    "   - Returns:\n",
    "     - `data_mtx`: Synthetic data matrix for the positive class.\n",
    "<div style=\"text-align: right\"><b>[4 marks]</b></div>\n",
    "\n",
    "2. **make_negative_data:**\n",
    "   - Implement the function `make_negative_data` that generates synthetic data for the negative class.\n",
    "   - Parameters:\n",
    "     - `n_instances`: Total number of instances in the dataset.\n",
    "     - `n_informative_features`: Number of informative features.\n",
    "     - `n_non_informative_features`: Number of non-informative features.\n",
    "     - `std`: Standard deviation for generating data.\n",
    "   - Returns:\n",
    "     - `data_mtx`: Synthetic data matrix for the negative class.\n",
    "<div style=\"text-align: right\"><b>[3 marks]</b></div>\n",
    "\n",
    "3. **make_dataset:**\n",
    "   - Implement the function `make_dataset` that combines positive and negative data to create a dataset.\n",
    "   - Parameters:\n",
    "     - `n_instances`: Total number of instances in the dataset.\n",
    "     - `fraction_of_outliers`: Fraction of outliers to include in the positive class.\n",
    "     - `n_informative_features`: Number of informative features.\n",
    "     - `n_non_informative_features`: Number of non-informative features.\n",
    "     - `std`: Standard deviation for generating data.\n",
    "     - `outliers_std`: Standard deviation for generating outliers.\n",
    "   - Returns:\n",
    "     - `data_mtx`: Combined synthetic data matrix for both classes.\n",
    "     - `targets`: Array of binary labels (0 for negative class, 1 for positive class).\n",
    "<div style=\"text-align: right\"><b>[3 marks]</b></div>\n",
    "\n",
    "4. **plot2d:**\n",
    "   - Implement the function `plot2d` that visualizes a 2D dataset. Note, only the first two dimensions of `data_mtx` will be used for visualization.\n",
    "   - Parameters:\n",
    "     - `data_mtx`: 2D data matrix containing the data points.\n",
    "     - `targets` (optional): Array of target labels corresponding to each data point. If provided, the points will be colored based on their target labels.\n",
    "     - `title`: Title for the plot.\n",
    "     - `size`: Size of the plot.\n",
    "   - Returns:\n",
    "     - A scatter plot visualizing the 2D dataset.\n",
    "<div style=\"text-align: right\"><b>[2 marks]</b></div>\n",
    "\n",
    "5. **plot3d:**\n",
    "   - Implement the function `plot3d` that visualizes a 3D dataset. Note, only the first three dimensions of `data_mtx` will be used for visualization.\n",
    "   - Parameters:\n",
    "     - `data_mtx`: 3D data matrix containing the data points.\n",
    "     - `targets` (optional): Array of target labels corresponding to each data point. If provided, the points will be colored based on their target labels.\n",
    "     - `title`: Title for the plot.\n",
    "     - `size`: Size of the plot.\n",
    "   - Returns:\n",
    "     - A 3D scatter plot visualizing the 3D dataset.\n",
    "<div style=\"text-align: right\"><b>[2 marks]</b></div>\n",
    "---\n",
    "\n",
    "**Note:**\n",
    "- You should use the `numpy` library for generating random data matrices.\n",
    "- The function `make_dataset` should return the instances in random order, i.e. we should not have first all the positive instances followed by all the negative instances, but rather positive and negative instances should be randomly mixed. \n",
    "- You should use the `matplotlib` library for creating scatter plots.\n",
    "- For `plot2d`, only the first two dimensions of `data_mtx` will be used for visualization.\n",
    "- For `plot3d`, the first three dimensions of `data_mtx` will be used for visualization.\n",
    "- If `targets` are provided, points should be colored according to their target labels.\n",
    "- Make sure to set appropriate titles for the plots.\n",
    "\n",
    "--- "
   ]
  },
  {
   "cell_type": "code",
   "execution_count": 30,
   "metadata": {
    "ExecuteTime": {
     "end_time": "2024-02-22T17:45:34.765955Z",
     "start_time": "2024-02-22T17:45:34.742327Z"
    },
    "deletable": false,
    "nbgrader": {
     "cell_type": "code",
     "checksum": "751cd2b5bae082bb4a02b973bd7f6abd",
     "grade": false,
     "grade_id": "cell-7ff80e3f356e10bd",
     "locked": false,
     "schema_version": 3,
     "solution": true,
     "task": false
    }
   },
   "outputs": [],
   "source": [
    "def make_positive_data(n_instances, fraction_of_outliers, n_informative_features, n_non_informative_features, std, outliers_std):\n",
    "    # Calculation of the number of outliers and inliners\n",
    "    n_inliners = int((1 - fraction_of_outliers) * n_instances)\n",
    "    n_outliers = int(fraction_of_outliers * n_instances)\n",
    "    # print(f'Normal: {n_inliners}, outliers {n_outliers}')\n",
    "\n",
    "    # Generate inliners\n",
    "    informative_inliners = np.random.normal(1, std, (n_inliners, n_informative_features))\n",
    "    non_informative_inliners = np.random.normal(0, std, (n_inliners, n_non_informative_features))\n",
    "\n",
    "    # print(f'Informative inliners: {informative_inliners.shape}, non-informative inliners: {non_informative_inliners.shape}')\n",
    "    # print(f'{informative_inliners[:5]}')\n",
    "    # print(f'{non_informative_inliners[:5]}')\n",
    "\n",
    "    # Generate outliers\n",
    "    informative_outliers = np.random.normal(-1, outliers_std, (n_outliers, n_informative_features))\n",
    "    non_informative_outliers = np.random.normal(0, outliers_std, (n_outliers, n_non_informative_features))\n",
    "    # print(f'Informative outliers: {informative_outliers.shape}, non-informative outliers: {non_informative_outliers.shape}')\n",
    "    # print(f'{informative_outliers[:5]}')\n",
    "    # print(f'{non_informative_outliers[:5]}')\n",
    "\n",
    "    # Join all generated data\n",
    "    all_positive_data = np.concatenate((np.hstack((informative_inliners, non_informative_inliners)),\n",
    "                                    np.hstack((informative_outliers, non_informative_outliers))))\n",
    "    # print(f'All data: {all_positive_data.shape}')\n",
    "    # print(f'All data: {type(all_positive_data)}')\n",
    "    return all_positive_data\n",
    "\n",
    "def make_negative_data(n_instances, n_informative_features, n_non_informative_features, std):\n",
    "    informative = np.random.normal(-1, std, (n_instances, n_informative_features))\n",
    "    non_informative = np.random.normal(0, std, (n_instances, n_non_informative_features))\n",
    "    # print(f'Informative: {informative.shape}, non-informative: {non_informative.shape}')\n",
    "    # print(f'{informative[:5]}')\n",
    "    # print(f'{non_informative[:5]}')\n",
    "\n",
    "    all_negative_data = np.hstack((informative, non_informative))\n",
    "    # print(all_negative_data.shape)\n",
    "    # print(all_negative_data[:5])\n",
    "    # print(type(all_negative_data))\n",
    "    return all_negative_data\n",
    "    \n",
    "\n",
    "def make_dataset(n_instances, fraction_of_outliers, n_informative_features, n_non_informative_features, std, outliers_std):\n",
    "    amount_of_positives = n_instances // 2\n",
    "    amount_of_negatives = n_instances - amount_of_positives\n",
    "    positive_data = make_positive_data(n_instances=amount_of_positives, \n",
    "                                       fraction_of_outliers=fraction_of_outliers, \n",
    "                                       n_informative_features=n_informative_features, \n",
    "                                       n_non_informative_features=n_non_informative_features, \n",
    "                                       std=std, \n",
    "                                       outliers_std=outliers_std)\n",
    "    negative_data = make_negative_data(n_instances=amount_of_negatives, \n",
    "                                       n_informative_features=n_informative_features, \n",
    "                                       n_non_informative_features=n_non_informative_features, \n",
    "                                       std=std)\n",
    "    \n",
    "    data_mtx = np.concatenate((positive_data, negative_data))\n",
    "    targets = np.concatenate((np.ones(amount_of_positives), np.zeros(amount_of_negatives)))\n",
    "    # print(f'Final data: {data_mtx.shape}')\n",
    "    # print(f'Targets: {targets.shape}')\n",
    "    # print(data_mtx[:5]), print(targets[:5])\n",
    "    return data_mtx, targets\n",
    "\n",
    "def plot2d(data_mtx, targets=None, title='', size=8):\n",
    "    plt.figure(figsize=(size, size))\n",
    "    if targets is None:\n",
    "        plt.scatter(data_mtx[:, 0], data_mtx[:, 1])\n",
    "    else: \n",
    "        plt.scatter(data_mtx[:, 0], data_mtx[:, 1], c=targets, cmap='viridis')\n",
    "    plt.title(title)\n",
    "    plt.show()  \n",
    "\n",
    "def plot3d(data_mtx, targets=None, title='', size=8):\n",
    "    fig = plt.figure(figsize=(size, size))\n",
    "    ax = fig.add_subplot(111, projection='3d')\n",
    "    if targets is None:\n",
    "        plt.scatter(data_mtx[:, 0], data_mtx[:, 1], data_mtx[:, 2])\n",
    "    else:\n",
    "        plt.scatter(data_mtx[:, 0], data_mtx[:, 1], data_mtx[:, 2], c=targets, cmap='viridis')\n",
    "    plt.title(title)\n",
    "    ax.set_xlabel('Column 1')\n",
    "    ax.set_ylabel('Column 2')\n",
    "    ax.set_zlabel('Column 3')\n",
    "    plt.show()\n",
    "\n",
    "save_history()"
   ]
  },
  {
   "cell_type": "code",
   "execution_count": null,
   "metadata": {
    "ExecuteTime": {
     "end_time": "2024-02-22T17:45:34.770463Z",
     "start_time": "2024-02-22T17:45:34.767906Z"
    },
    "deletable": false,
    "editable": false,
    "nbgrader": {
     "cell_type": "code",
     "checksum": "bfde7031afbb3b19d3ff70932ee51fb1",
     "grade": true,
     "grade_id": "cell-3a4bb5a1ef6b2c54",
     "locked": true,
     "points": 2,
     "schema_version": 3,
     "solution": false,
     "task": false
    }
   },
   "outputs": [],
   "source": [
    "# This cell is reserved for the unit tests. Do not consider this cell. "
   ]
  },
  {
   "cell_type": "code",
   "execution_count": null,
   "metadata": {
    "ExecuteTime": {
     "end_time": "2024-02-22T17:45:34.776312Z",
     "start_time": "2024-02-22T17:45:34.773758Z"
    },
    "deletable": false,
    "editable": false,
    "nbgrader": {
     "cell_type": "code",
     "checksum": "36698da60e47693eb666ee32387a0fcd",
     "grade": true,
     "grade_id": "cell-c1667c077cdd1c83",
     "locked": true,
     "points": 2,
     "schema_version": 3,
     "solution": false,
     "task": false
    }
   },
   "outputs": [],
   "source": [
    "# This cell is reserved for the unit tests. Do not consider this cell. "
   ]
  },
  {
   "cell_type": "code",
   "execution_count": null,
   "metadata": {
    "ExecuteTime": {
     "end_time": "2024-02-22T17:45:34.780646Z",
     "start_time": "2024-02-22T17:45:34.778476Z"
    },
    "deletable": false,
    "editable": false,
    "nbgrader": {
     "cell_type": "code",
     "checksum": "45992887494c3d3e0494efa4bf369790",
     "grade": true,
     "grade_id": "cell-11fe9e87b2aeafb9",
     "locked": true,
     "points": 2,
     "schema_version": 3,
     "solution": false,
     "task": false
    }
   },
   "outputs": [],
   "source": [
    "# This cell is reserved for the unit tests. Do not consider this cell. "
   ]
  },
  {
   "cell_type": "code",
   "execution_count": null,
   "metadata": {
    "ExecuteTime": {
     "end_time": "2024-02-22T17:45:34.784893Z",
     "start_time": "2024-02-22T17:45:34.782562Z"
    },
    "deletable": false,
    "editable": false,
    "nbgrader": {
     "cell_type": "code",
     "checksum": "2f76b6ec3345c2ede67fc886bf0d6ac4",
     "grade": true,
     "grade_id": "cell-3a1783fe7754cf12",
     "locked": true,
     "points": 2,
     "schema_version": 3,
     "solution": false,
     "task": false
    }
   },
   "outputs": [],
   "source": [
    "# This cell is reserved for the unit tests. Do not consider this cell. "
   ]
  },
  {
   "cell_type": "code",
   "execution_count": null,
   "metadata": {
    "ExecuteTime": {
     "end_time": "2024-02-22T17:45:34.789285Z",
     "start_time": "2024-02-22T17:45:34.786876Z"
    },
    "deletable": false,
    "editable": false,
    "nbgrader": {
     "cell_type": "code",
     "checksum": "b495ec69ebd34f37c030d75113937ff5",
     "grade": true,
     "grade_id": "cell-9fa4eeaab9e602f9",
     "locked": true,
     "points": 2,
     "schema_version": 3,
     "solution": false,
     "task": false
    }
   },
   "outputs": [],
   "source": [
    "# This cell is reserved for the unit tests. Do not consider this cell. "
   ]
  },
  {
   "cell_type": "code",
   "execution_count": null,
   "metadata": {
    "ExecuteTime": {
     "end_time": "2024-02-22T17:45:34.799781Z",
     "start_time": "2024-02-22T17:45:34.797162Z"
    },
    "deletable": false,
    "editable": false,
    "nbgrader": {
     "cell_type": "code",
     "checksum": "946a871819552b4ff3930cccf0293226",
     "grade": true,
     "grade_id": "cell-734a70976eaad0e6",
     "locked": true,
     "points": 2,
     "schema_version": 3,
     "solution": false,
     "task": false
    }
   },
   "outputs": [],
   "source": [
    "# This cell is reserved for the unit tests. Do not consider this cell. "
   ]
  },
  {
   "cell_type": "code",
   "execution_count": null,
   "metadata": {
    "ExecuteTime": {
     "end_time": "2024-02-22T17:45:34.803831Z",
     "start_time": "2024-02-22T17:45:34.801650Z"
    },
    "deletable": false,
    "editable": false,
    "nbgrader": {
     "cell_type": "code",
     "checksum": "1b030d74ab6f93075309c74ad681f1e5",
     "grade": true,
     "grade_id": "cell-3da0f0a86bcad0f5",
     "locked": true,
     "points": 2,
     "schema_version": 3,
     "solution": false,
     "task": false
    }
   },
   "outputs": [],
   "source": [
    "# This cell is reserved for the unit tests. Do not consider this cell. "
   ]
  },
  {
   "cell_type": "markdown",
   "metadata": {
    "deletable": false,
    "editable": false,
    "nbgrader": {
     "cell_type": "markdown",
     "checksum": "95360115b73320ca7f9c8a45212878d8",
     "grade": false,
     "grade_id": "cell-a9835f8a00d85970",
     "locked": true,
     "schema_version": 3,
     "solution": false,
     "task": false
    }
   },
   "source": [
    "## Checkpoint\n",
    "\n",
    "This is just a check-point, i.e. it is for you to see that you are correctly implementing all functions. \n",
    "\n",
    "Execute the following code (just execute the next cell):\n",
    "```python\n",
    "n_instances = 1000\n",
    "fraction_of_outliers = 0.3\n",
    "n_informative_features = 1\n",
    "n_non_informative_features = 2\n",
    "std = .5\n",
    "outliers_std = 5\n",
    "\n",
    "data_mtx, targets = make_dataset(n_instances, fraction_of_outliers, n_informative_features, n_non_informative_features, std, outliers_std)\n",
    "\n",
    "plot2d(data_mtx, targets, title='Data 2D', size=8)\n",
    "plot3d(data_mtx, targets, title='Data 3D', size=8)\n",
    "```\n",
    "\n",
    "and check that you obtain a plot similar to:\n",
    "\n",
    "<img src=\"img1b.png\" width=40%>\n"
   ]
  },
  {
   "cell_type": "code",
   "execution_count": 31,
   "metadata": {
    "ExecuteTime": {
     "end_time": "2024-02-22T17:45:35.201369Z",
     "start_time": "2024-02-22T17:45:34.805549Z"
    },
    "collapsed": true,
    "deletable": false,
    "editable": false,
    "jupyter": {
     "outputs_hidden": true
    },
    "nbgrader": {
     "cell_type": "code",
     "checksum": "744a4df73a55b1da62e8a0188a66643d",
     "grade": false,
     "grade_id": "cell-7638b5bea8a76ff4",
     "locked": true,
     "schema_version": 3,
     "solution": false,
     "task": false
    }
   },
   "outputs": [
    {
     "data": {
      "image/png": "[encoded data removed]",
      "text/plain": [
       "<Figure size 800x800 with 1 Axes>"
      ]
     },
     "metadata": {},
     "output_type": "display_data"
    },
    {
     "data": {
      "image/png": "[encoded data removed]",
      "text/plain": [
       "<Figure size 800x800 with 1 Axes>"
      ]
     },
     "metadata": {},
     "output_type": "display_data"
    }
   ],
   "source": [
    "# Just run the following code, do not modify it\n",
    "n_instances = 1000\n",
    "fraction_of_outliers = 0.3\n",
    "n_informative_features = 1\n",
    "n_non_informative_features = 2\n",
    "std = .5\n",
    "outliers_std = 5\n",
    "\n",
    "data_mtx, targets = make_dataset(n_instances, fraction_of_outliers, n_informative_features, n_non_informative_features, std, outliers_std)\n",
    "\n",
    "plot2d(data_mtx, targets, title='Data 2D', size=8)\n",
    "plot3d(data_mtx, targets, title='Data 3D', size=8)"
   ]
  },
  {
   "cell_type": "markdown",
   "metadata": {
    "deletable": false,
    "editable": false,
    "nbgrader": {
     "cell_type": "markdown",
     "checksum": "1409b590724d7a8c241deb52607fee3d",
     "grade": false,
     "grade_id": "cell-703d1350543a455b",
     "locked": true,
     "schema_version": 3,
     "solution": false,
     "task": false
    }
   },
   "source": [
    "# Question 2\n",
    "\n",
    "<div style=\"text-align: right\"><b>[8 marks]</b></div>\n",
    "\n",
    "**Data Rebalancing and Stratified Split**\n",
    "\n",
    "---\n",
    "\n",
    "**Objective:**\n",
    "The objective of this section of the programming assignment is to implement two crucial functions for handling imbalanced datasets in machine learning: `rebalance` and `rebalanced_stratified_split`. These functions are designed to ensure that each class in the dataset has an equal number of instances and that the train-test split is done in a stratified manner, preserving the class distribution in both subsets.\n",
    "\n",
    "---\n",
    "\n",
    "**Instructions:**\n",
    "\n",
    "1. **rebalance:**\n",
    "   - Implement the function `rebalance` that rebalances the dataset by oversampling the minority classes to match the majority class.\n",
    "   - Parameters:\n",
    "     - `X`: Feature matrix.\n",
    "     - `y`: Target vector.\n",
    "   - Returns:\n",
    "     - `new_X`: Rebalanced feature matrix.\n",
    "     - `new_y`: Rebalanced target vector.\n",
    "<div style=\"text-align: right\"><b>[3 marks]</b></div>\n",
    "\n",
    "2. **rebalanced_stratified_split:**\n",
    "   - Implement the function `rebalanced_stratified_split` that performs a stratified split on the rebalanced dataset.\n",
    "   - Parameters:\n",
    "     - `X_orig`: Original feature matrix.\n",
    "     - `y_orig`: Original target vector.\n",
    "     - `test_size`: Size of the test set (default is 0.2).\n",
    "     - `random_state`: Seed for random number generation (default is None).\n",
    "   - Returns:\n",
    "     - `X_train`: Feature matrix for the training set.\n",
    "     - `X_test`: Feature matrix for the test set.\n",
    "     - `y_train`: Target vector for the training set.\n",
    "     - `y_test`: Target vector for the test set.\n",
    "<div style=\"text-align: right\"><b>[5 marks]</b></div>\n",
    "\n",
    "---\n",
    "\n",
    "**Note:**\n",
    "- The `rebalance` function should oversample the minority classes to match the count of the majority class.\n",
    "- The `rebalanced_stratified_split` function should first rebalance the dataset using the `rebalance` function and then perform a stratified split ensuring that class distribution is preserved in both training and testing sets.\n",
    "- You should use the `numpy` library for array manipulations and random operations.\n",
    "- You must write your own implementation and you cannot use the `train_test_split` function from `sklearn`.\n",
    "\n",
    "--- "
   ]
  },
  {
   "cell_type": "code",
   "execution_count": 59,
   "metadata": {
    "ExecuteTime": {
     "end_time": "2024-02-22T17:45:35.236844Z",
     "start_time": "2024-02-22T17:45:35.203386Z"
    },
    "deletable": false,
    "nbgrader": {
     "cell_type": "code",
     "checksum": "d8e28696f057581c17d3fef2c2f3bcb1",
     "grade": false,
     "grade_id": "cell-fa4f327265472f58",
     "locked": false,
     "schema_version": 3,
     "solution": true,
     "task": false
    }
   },
   "outputs": [],
   "source": [
    "def rebalance(X, y):\n",
    "    unique_values, class_count = np.unique(y, return_counts=True)\n",
    "    # print(f'Number of distinct classes: {len(class_count)}, {unique_values}')\n",
    "    max_amount_of_class = np.max(class_count)\n",
    "    # print(f'Maximum amount of class: {max_amount_of_class}')\n",
    "\n",
    "    x_new, y_new = [], []\n",
    "\n",
    "    for label in unique_values:\n",
    "        label_indices = np.where(y == label)[0]\n",
    "        oversampled_version = np.random.choice(label_indices, max_amount_of_class, replace=True)\n",
    "\n",
    "        x_new.extend(X[oversampled_version])        \n",
    "        y_new.extend(y[oversampled_version])\n",
    "\n",
    "    # print(f'New data: {len(x_new)}, {len(y_new)}')\n",
    "    return np.array(x_new), np.array(y_new)        \n",
    "\n",
    "\n",
    "def rebalanced_stratified_split(X_orig, y_orig, test_size=0.2, random_state=None):\n",
    "    # Empty train and test sets\n",
    "    X_train, X_test, y_train, y_test = [], [], [], []\n",
    "\n",
    "    # Rebalance function implementation\n",
    "    x_rb, y_rb = rebalance(X=X_orig, y=y_orig)\n",
    "    # Initialization of the random state\n",
    "    np.random.seed(random_state)\n",
    "    unique_values, class_count = np.unique(y_rb, return_counts=True)\n",
    "    # print(class_count)\n",
    "    class_test_sizes = np.round(class_count * test_size).astype(int)\n",
    "    # print(f'Class test size: {class_test_sizes}')\n",
    "\n",
    "    for class_label, test_size in zip(unique_values, class_test_sizes):\n",
    "        class_indices = np.where(y_rb == class_label)[0]\n",
    "        np.random.shuffle(class_indices)\n",
    "        \n",
    "        test_indices = class_indices[:test_size]\n",
    "        train_indices = class_indices[test_size:]\n",
    "        # print(f'Class: {class_label}, test: {len(test_indices)}, train: {len(train_indices)}')\n",
    "\n",
    "        X_train.extend(x_rb[train_indices])\n",
    "        X_test.extend(x_rb[test_indices])\n",
    "        y_train.extend(y_rb[train_indices])\n",
    "        y_test.extend(y_rb[test_indices])\n",
    "    \n",
    "    # print(X_train[:15], X_test[:15], y_train[:15], y_test[:15])\n",
    "    return np.array(X_train), np.array(X_test), np.array(y_train), np.array(y_test)\n",
    "\n",
    "rebalanced_stratified_split(data_mtx, targets, test_size=0.2, random_state=42)\n",
    "\n",
    "save_history()"
   ]
  },
  {
   "cell_type": "code",
   "execution_count": 55,
   "metadata": {
    "ExecuteTime": {
     "end_time": "2024-02-22T17:45:35.241651Z",
     "start_time": "2024-02-22T17:45:35.239051Z"
    },
    "deletable": false,
    "editable": false,
    "nbgrader": {
     "cell_type": "code",
     "checksum": "5889020c34a41d69781e9bb2ae6df31d",
     "grade": true,
     "grade_id": "cell-7d145a4bdec7a7db",
     "locked": true,
     "points": 1,
     "schema_version": 3,
     "solution": false,
     "task": false
    }
   },
   "outputs": [],
   "source": [
    "# This cell is reserved for the unit tests. Do not consider this cell. "
   ]
  },
  {
   "cell_type": "code",
   "execution_count": 56,
   "metadata": {
    "ExecuteTime": {
     "end_time": "2024-02-22T17:45:35.246296Z",
     "start_time": "2024-02-22T17:45:35.243718Z"
    },
    "deletable": false,
    "editable": false,
    "nbgrader": {
     "cell_type": "code",
     "checksum": "077425e7022d7a71bb4d61af7483e9df",
     "grade": true,
     "grade_id": "cell-ff868a4a0bef262c",
     "locked": true,
     "points": 2,
     "schema_version": 3,
     "solution": false,
     "task": false
    }
   },
   "outputs": [],
   "source": [
    "# This cell is reserved for the unit tests. Do not consider this cell. "
   ]
  },
  {
   "cell_type": "code",
   "execution_count": null,
   "metadata": {
    "ExecuteTime": {
     "end_time": "2024-02-22T17:45:35.251066Z",
     "start_time": "2024-02-22T17:45:35.248410Z"
    },
    "deletable": false,
    "editable": false,
    "nbgrader": {
     "cell_type": "code",
     "checksum": "7ce1dff4bf04913d9ab94ca708fc3ad1",
     "grade": true,
     "grade_id": "cell-eb1cc0c4aa217d52",
     "locked": true,
     "points": 2,
     "schema_version": 3,
     "solution": false,
     "task": false
    }
   },
   "outputs": [],
   "source": [
    "# This cell is reserved for the unit tests. Do not consider this cell. "
   ]
  },
  {
   "cell_type": "code",
   "execution_count": null,
   "metadata": {
    "ExecuteTime": {
     "end_time": "2024-02-22T17:45:35.255916Z",
     "start_time": "2024-02-22T17:45:35.253325Z"
    },
    "deletable": false,
    "editable": false,
    "nbgrader": {
     "cell_type": "code",
     "checksum": "2fa028147a617160585d2490f1dcb66c",
     "grade": true,
     "grade_id": "cell-933fed8fcb049ccf",
     "locked": true,
     "points": 3,
     "schema_version": 3,
     "solution": false,
     "task": false
    }
   },
   "outputs": [],
   "source": [
    "# This cell is reserved for the unit tests. Do not consider this cell. "
   ]
  },
  {
   "cell_type": "markdown",
   "metadata": {
    "deletable": false,
    "editable": false,
    "nbgrader": {
     "cell_type": "markdown",
     "checksum": "d98d001f5b6a29f9db50617192cbf3dd",
     "grade": false,
     "grade_id": "cell-9c6942a92a9d5234",
     "locked": true,
     "schema_version": 3,
     "solution": false,
     "task": false
    }
   },
   "source": [
    "# Question 3\n",
    "<div style=\"text-align: right\"><b>[10 marks]</b></div>\n",
    "\n",
    "**Model Evaluation Metrics**\n",
    "\n",
    "---\n",
    "\n",
    "**Objective:**\n",
    "The objective of this section of the programming assignment is to implement functions for evaluating classifier performance using various metrics, including accuracy score, confusion matrix, and predictive error estimation.\n",
    "\n",
    "---\n",
    "\n",
    "**Instructions:**\n",
    "\n",
    "1. **accuracy_score:**\n",
    "   - Implement the function `accuracy_score` that calculates the accuracy of a classifier's predictions.\n",
    "   - Parameters:\n",
    "     - `y_true`: Array of true labels.\n",
    "     - `y_pred`: Array of predicted labels.\n",
    "   - Returns:\n",
    "     - `accuracy`: Accuracy score.\n",
    "<div style=\"text-align: right\"><b>[2 marks]</b></div>\n",
    "\n",
    "2. **confusion_matrix:**\n",
    "   - Implement the function `confusion_matrix` that computes the confusion matrix based on true labels and predicted labels.\n",
    "   - Parameters:\n",
    "     - `y_true`: Array of true labels.\n",
    "     - `y_pred`: Array of predicted labels.\n",
    "   - Returns:\n",
    "     - `conf_matrix`: Confusion matrix.\n",
    "<div style=\"text-align: right\"><b>[4 marks]</b></div>\n",
    "\n",
    "3. **predictive_error_estimate:**\n",
    "   - Implement the function `predictive_performance_estimate` that estimates the predictive performance of a classifier as the average accuracy over a repetition of rebalanced splits.\n",
    "   - Parameters:\n",
    "     - `classifier`: Classifier object with `fit` and `predict` methods.\n",
    "     - `data_mtx`: Feature matrix.\n",
    "     - `targets`: Target vector.\n",
    "     - `test_size`: Size of the test set for the rebalanced train test split.\n",
    "     - `n_rep`: Number of repetitions (default is 3).\n",
    "   - Returns:\n",
    "     - `mean_score`: Mean accuracy score across repetitions.\n",
    "     - `std_score`: Standard deviation of accuracy scores across repetitions.\n",
    "<div style=\"text-align: right\"><b>[4 marks]</b></div>\n",
    "---\n",
    "\n",
    "**Note:**\n",
    "- The `accuracy_score` function should compute the ratio of correctly predicted instances to the total number of instances.\n",
    "- The `confusion_matrix` function should construct a confusion matrix where rows represent predicted labels and columns represent true labels.\n",
    "- You should use the `numpy` library for array manipulations and computations.\n",
    "- You must write your own implementation and you cannot use the `accuracy_score` or `confusion_matrix` function from `sklearn`.\n",
    "\n",
    "--- \n"
   ]
  },
  {
   "cell_type": "code",
   "execution_count": 69,
   "metadata": {
    "ExecuteTime": {
     "end_time": "2024-02-22T17:45:35.275244Z",
     "start_time": "2024-02-22T17:45:35.258257Z"
    },
    "deletable": false,
    "nbgrader": {
     "cell_type": "code",
     "checksum": "4c664b7ada537528af4888d01c79c718",
     "grade": false,
     "grade_id": "cell-70d909af350f9a44",
     "locked": false,
     "schema_version": 3,
     "solution": true,
     "task": false
    }
   },
   "outputs": [],
   "source": [
    "def accuracy_score(y_true, y_pred):\n",
    "    num_of_correct_preds = np.sum(y_true == y_pred)\n",
    "    total_preds = len(y_true)\n",
    "    return num_of_correct_preds / total_preds\n",
    "\n",
    "def confusion_matrix(y_true, y_pred):\n",
    "    unique_values = np.unique(y_true)\n",
    "    num_of_values = len(unique_values)\n",
    "    conf_matrix = np.zeros((num_of_values, num_of_values)) \n",
    "    print(conf_matrix)\n",
    "\n",
    "    for true_label, pred_label in zip(y_true, y_pred):\n",
    "        true_index = np.where(unique_values == true_label)[0][0]\n",
    "        pred_index = np.where(unique_values == pred_label)[0][0]\n",
    "        conf_matrix[true_index, pred_index] += 1\n",
    "\n",
    "    return conf_matrix.astype(int)\n",
    "    \n",
    "\n",
    "def predictive_performance_estimate(classifier, data_mtx, targets, test_size, n_rep=3):\n",
    "    acc_scores = []\n",
    "    for rep in range(n_rep):\n",
    "        X_train, X_test, y_train, y_test = rebalanced_stratified_split(data_mtx, targets, test_size=test_size, random_state=rep)\n",
    "        classifier.fit(X_train, y_train)\n",
    "        y_pred = classifier.predict(X_test)\n",
    "        acc = accuracy_score(y_test, y_pred)\n",
    "        print(f'Accuracy for repetition {rep}: {acc*100}%')\n",
    "        print(confusion_matrix(y_test, y_pred))\n",
    "        acc_scores.append(acc)\n",
    "    return np.mean(acc_scores), np.std(acc_scores)\n",
    "\n",
    "save_history()"
   ]
  },
  {
   "cell_type": "code",
   "execution_count": null,
   "metadata": {
    "ExecuteTime": {
     "end_time": "2024-02-22T17:45:35.281405Z",
     "start_time": "2024-02-22T17:45:35.278231Z"
    },
    "deletable": false,
    "editable": false,
    "nbgrader": {
     "cell_type": "code",
     "checksum": "d3b06a0b9c5dd1acb06d4bc4b7d86279",
     "grade": true,
     "grade_id": "cell-acf9a38aecdd814f",
     "locked": true,
     "points": 2,
     "schema_version": 3,
     "solution": false,
     "task": false
    }
   },
   "outputs": [],
   "source": [
    "# This cell is reserved for the unit tests. Do not consider this cell. "
   ]
  },
  {
   "cell_type": "code",
   "execution_count": null,
   "metadata": {
    "ExecuteTime": {
     "end_time": "2024-02-22T17:45:35.287876Z",
     "start_time": "2024-02-22T17:45:35.284081Z"
    },
    "deletable": false,
    "editable": false,
    "nbgrader": {
     "cell_type": "code",
     "checksum": "a5ae59be9a384ebb1e3e131962e31bac",
     "grade": true,
     "grade_id": "cell-7f77b185269d2e49",
     "locked": true,
     "points": 4,
     "schema_version": 3,
     "solution": false,
     "task": false
    }
   },
   "outputs": [],
   "source": [
    "# This cell is reserved for the unit tests. Do not consider this cell. "
   ]
  },
  {
   "cell_type": "code",
   "execution_count": null,
   "metadata": {
    "ExecuteTime": {
     "end_time": "2024-02-22T17:45:35.293019Z",
     "start_time": "2024-02-22T17:45:35.289958Z"
    },
    "deletable": false,
    "editable": false,
    "nbgrader": {
     "cell_type": "code",
     "checksum": "386d9a93716fd7027371f2d5fb273616",
     "grade": true,
     "grade_id": "cell-a90307feb943f9e2",
     "locked": true,
     "points": 2,
     "schema_version": 3,
     "solution": false,
     "task": false
    }
   },
   "outputs": [],
   "source": [
    "# This cell is reserved for the unit tests. Do not consider this cell. "
   ]
  },
  {
   "cell_type": "code",
   "execution_count": null,
   "metadata": {
    "ExecuteTime": {
     "end_time": "2024-02-22T17:45:35.298250Z",
     "start_time": "2024-02-22T17:45:35.295481Z"
    },
    "deletable": false,
    "editable": false,
    "nbgrader": {
     "cell_type": "code",
     "checksum": "53ce0e9fef62a2b5127ad0b3727ed7eb",
     "grade": true,
     "grade_id": "cell-f77c1b2f4da1fbbb",
     "locked": true,
     "points": 2,
     "schema_version": 3,
     "solution": false,
     "task": false
    }
   },
   "outputs": [],
   "source": [
    "# This cell is reserved for the unit tests. Do not consider this cell. "
   ]
  },
  {
   "cell_type": "markdown",
   "metadata": {
    "deletable": false,
    "editable": false,
    "nbgrader": {
     "cell_type": "markdown",
     "checksum": "e7b7fd2f60cb44f1830a8b91d6237921",
     "grade": false,
     "grade_id": "cell-1a9b7f296c9234f6",
     "locked": true,
     "schema_version": 3,
     "solution": false,
     "task": false
    }
   },
   "source": [
    "# Question 4\n",
    "<div style=\"text-align: right\"><b>[12 marks]</b></div>\n",
    "\n",
    "**Linear Classifier Implementation**\n",
    "\n",
    "---\n",
    "\n",
    "**Objective:**\n",
    "The objective of this section of the programming assignment is to implement a linear classifier class called `LinearClassifier`. This classifier is capable of fitting a linear decision boundary to a given dataset and making predictions based on this boundary.\n",
    "\n",
    "---\n",
    "\n",
    "**Instructions:**\n",
    "\n",
    "1. **LinearClassifier Class:**\n",
    "   - Implement the `LinearClassifier` class with the following methods:\n",
    "     - `__init__`: Constructor method to initialize the classifier object. It should take an optional parameter `threshold` (default is 0.5) representing the decision threshold.\n",
    "     - `fit(X,y)`: Method to train the linear classifier using the given training data. It takes in input a data matrix `X` and a target vector `y`.\n",
    "     - `predict(X)`: Method to predict labels for the given input data based on the trained classifier. It takes in input a data matrix `X`.\n",
    "\n",
    "---\n",
    "\n",
    "**Note:**\n",
    "- The `fit` method should fit the linear classifier to the training data by estimating the weights (coefficients) and bias term of the decision boundary. \n",
    "- The `predict` method should make predictions based on the linear model's output, considering the decision threshold specified during initialization. \n",
    "- You should use the `numpy` library for array manipulations and linear algebra operations.\n",
    "- You must write your own implementation and you cannot use the `SGDClassifier` or other functions/classes from `sklearn`.\n",
    "\n",
    "--- \n",
    "\n"
   ]
  },
  {
   "cell_type": "code",
   "execution_count": null,
   "metadata": {
    "ExecuteTime": {
     "end_time": "2024-02-22T17:45:35.318243Z",
     "start_time": "2024-02-22T17:45:35.300724Z"
    },
    "deletable": false,
    "nbgrader": {
     "cell_type": "code",
     "checksum": "a968e1e9734d708e5764fd26518e81da",
     "grade": false,
     "grade_id": "cell-38ee917541a6c501",
     "locked": false,
     "schema_version": 3,
     "solution": true,
     "task": false
    }
   },
   "outputs": [],
   "source": [
    "class LinearClassifier:\n",
    "    def __init__(self, weights=None, bias=None, threshold=0.5):\n",
    "        self.weights = None\n",
    "        self.bias = None\n",
    "        self.threshold = threshold\n",
    "    \n",
    "    def fit(self, X, y):\n",
    "        pass\n",
    "\n",
    "    def predict(self, X):\n",
    "        pass\n",
    "\n",
    "save_history()"
   ]
  },
  {
   "cell_type": "code",
   "execution_count": null,
   "metadata": {
    "ExecuteTime": {
     "end_time": "2024-02-22T17:45:35.323281Z",
     "start_time": "2024-02-22T17:45:35.320542Z"
    },
    "deletable": false,
    "editable": false,
    "nbgrader": {
     "cell_type": "code",
     "checksum": "fea46c52c2433cfe90f59c2f4bd41139",
     "grade": true,
     "grade_id": "cell-fa9709d6e36fb274",
     "locked": true,
     "points": 2,
     "schema_version": 3,
     "solution": false,
     "task": false
    }
   },
   "outputs": [],
   "source": [
    "# This cell is reserved for the unit tests. Do not consider this cell. "
   ]
  },
  {
   "cell_type": "code",
   "execution_count": null,
   "metadata": {
    "ExecuteTime": {
     "end_time": "2024-02-22T17:45:35.334759Z",
     "start_time": "2024-02-22T17:45:35.332258Z"
    },
    "deletable": false,
    "editable": false,
    "nbgrader": {
     "cell_type": "code",
     "checksum": "1dc4dd025f5271d68cd201d5685a195b",
     "grade": true,
     "grade_id": "cell-185a0cce98d8070c",
     "locked": true,
     "points": 5,
     "schema_version": 3,
     "solution": false,
     "task": false
    }
   },
   "outputs": [],
   "source": [
    "# This cell is reserved for the unit tests. Do not consider this cell. "
   ]
  },
  {
   "cell_type": "code",
   "execution_count": null,
   "metadata": {
    "ExecuteTime": {
     "end_time": "2024-02-22T17:45:35.340475Z",
     "start_time": "2024-02-22T17:45:35.336771Z"
    },
    "deletable": false,
    "editable": false,
    "nbgrader": {
     "cell_type": "code",
     "checksum": "7c292c8237ee2fa95771b7fd91c10bc8",
     "grade": true,
     "grade_id": "cell-101dec3bc15985a2",
     "locked": true,
     "points": 5,
     "schema_version": 3,
     "solution": false,
     "task": false
    }
   },
   "outputs": [],
   "source": [
    "# This cell is reserved for the unit tests. Do not consider this cell. "
   ]
  },
  {
   "cell_type": "markdown",
   "metadata": {
    "deletable": false,
    "editable": false,
    "nbgrader": {
     "cell_type": "markdown",
     "checksum": "9b36d045133e3fd5272337f3be460500",
     "grade": false,
     "grade_id": "cell-661e0da035f9585c",
     "locked": true,
     "schema_version": 3,
     "solution": false,
     "task": false
    }
   },
   "source": [
    "# Question 5\n",
    "<div style=\"text-align: right\"><b>[12 marks]</b></div>\n",
    "\n",
    "**K-Nearest Neighbors (KNN) Classifier Implementation**\n",
    "\n",
    "---\n",
    "\n",
    "**Objective:**\n",
    "The objective of this section of the programming assignment is to implement a K-Nearest Neighbors (KNN) classifier class called `KNNClassifier`. This classifier is capable of making predictions based on the majority class of the K nearest neighbors.\n",
    "\n",
    "---\n",
    "\n",
    "**Instructions:**\n",
    "\n",
    "1. **KNNClassifier Class:**\n",
    "   - Implement the `KNNClassifier` class with the following methods:\n",
    "     - `__init__`: Constructor method to initialize the classifier object. It should take an optional parameter `k` (default is 3) representing the number of neighbors to consider.\n",
    "     - `fit(X,y)`: Method to fit the parameters of the model. It takes in input a data matrix `X` and a target vector `y`.\n",
    "     - `euclidean_distance(x1, x2)`: Method to calculate the Euclidean distance between two data points. It takes in input two vectors.\n",
    "     - `predict_prob_single(x)`: Method to predict the probabilities of each class label for a single data point. It takes in input one vector.\n",
    "     - `predict(X)`: Method to predict the class labels for a given set of test data points. It takes in input a data matrix `X`.\n",
    "   - Ensure that the classifier is capable of computing distances, finding nearest neighbors, and making predictions based on the majority class of the neighbors.\n",
    "\n",
    "---\n",
    "\n",
    "**Note:**\n",
    "- The `euclidean_distance` method should calculate the Euclidean distance between two data points.\n",
    "- The `predict_prob_single` method should predict the probabilities of each class label for a single data point based on its nearest neighbors in the training set.\n",
    "- The `predict` method should make predictions for a set of test data points based on the majority class of their nearest neighbors in the training set.\n",
    "- You should use the `numpy` library for array manipulations and mathematical operations.\n",
    "- You must write your own implementation and you cannot use the `KNeighborsClassifier` or other functions/classes from `sklearn`.\n",
    "\n",
    "--- \n",
    "\n"
   ]
  },
  {
   "cell_type": "code",
   "execution_count": 71,
   "metadata": {
    "ExecuteTime": {
     "end_time": "2024-02-22T17:47:08.579544Z",
     "start_time": "2024-02-22T17:47:08.564384Z"
    },
    "deletable": false,
    "nbgrader": {
     "cell_type": "code",
     "checksum": "a5632d9199a1a36cc12f85c331edc32d",
     "grade": false,
     "grade_id": "cell-8d9213a6202af22f",
     "locked": false,
     "schema_version": 3,
     "solution": true,
     "task": false
    }
   },
   "outputs": [],
   "source": [
    "class KNNClassifier:\n",
    "    def __init__(self, k=3):\n",
    "        self.k = k\n",
    "\n",
    "    def fit(self, X_train, y_train):\n",
    "        self.X_train = X_train\n",
    "        self.y_train = y_train\n",
    "    \n",
    "    def eucledean_distance(self, x1, x2):\n",
    "        return np.sqrt(np.sum((x1 - x2)**2))\n",
    "    \n",
    "    def predict_prob_single(self, x):\n",
    "        pass\n",
    "\n",
    "    def predict(self, X_test):\n",
    "        return [self.predict_prob_single(x) for x in X_test]\n",
    "\n",
    "save_history()"
   ]
  },
  {
   "cell_type": "code",
   "execution_count": null,
   "metadata": {
    "ExecuteTime": {
     "end_time": "2024-02-22T17:47:09.430471Z",
     "start_time": "2024-02-22T17:47:09.427725Z"
    },
    "deletable": false,
    "editable": false,
    "nbgrader": {
     "cell_type": "code",
     "checksum": "144c4f46b5023a602952265936c981be",
     "grade": true,
     "grade_id": "cell-ee078c200b90944d",
     "locked": true,
     "points": 2,
     "schema_version": 3,
     "solution": false,
     "task": false
    }
   },
   "outputs": [],
   "source": [
    "# This cell is reserved for the unit tests. Do not consider this cell. "
   ]
  },
  {
   "cell_type": "code",
   "execution_count": null,
   "metadata": {
    "ExecuteTime": {
     "end_time": "2024-02-22T17:47:09.811697Z",
     "start_time": "2024-02-22T17:47:09.808916Z"
    },
    "deletable": false,
    "editable": false,
    "nbgrader": {
     "cell_type": "code",
     "checksum": "4e273425bbaa622bc8466eb840f2e196",
     "grade": true,
     "grade_id": "cell-f750843259c4614a",
     "locked": true,
     "points": 2,
     "schema_version": 3,
     "solution": false,
     "task": false
    }
   },
   "outputs": [],
   "source": [
    "# This cell is reserved for the unit tests. Do not consider this cell. "
   ]
  },
  {
   "cell_type": "code",
   "execution_count": null,
   "metadata": {
    "ExecuteTime": {
     "end_time": "2024-02-22T17:47:10.181392Z",
     "start_time": "2024-02-22T17:47:10.178383Z"
    },
    "deletable": false,
    "editable": false,
    "nbgrader": {
     "cell_type": "code",
     "checksum": "711853812de418911043c407254f4fc9",
     "grade": true,
     "grade_id": "cell-d2419a3df385e221",
     "locked": true,
     "points": 4,
     "schema_version": 3,
     "solution": false,
     "task": false
    }
   },
   "outputs": [],
   "source": [
    "# This cell is reserved for the unit tests. Do not consider this cell. "
   ]
  },
  {
   "cell_type": "code",
   "execution_count": null,
   "metadata": {
    "ExecuteTime": {
     "end_time": "2024-02-22T17:47:13.939114Z",
     "start_time": "2024-02-22T17:47:13.933819Z"
    },
    "deletable": false,
    "editable": false,
    "nbgrader": {
     "cell_type": "code",
     "checksum": "3661abc3df943cf2883fcedbce35d02a",
     "grade": true,
     "grade_id": "cell-ddd1c09e99248dfc",
     "locked": true,
     "points": 4,
     "schema_version": 3,
     "solution": false,
     "task": false
    }
   },
   "outputs": [],
   "source": [
    "# This cell is reserved for the unit tests. Do not consider this cell. "
   ]
  },
  {
   "cell_type": "markdown",
   "metadata": {
    "deletable": false,
    "editable": false,
    "nbgrader": {
     "cell_type": "markdown",
     "checksum": "2d1172f5d65ef1b0a2181ef86c14b8cd",
     "grade": false,
     "grade_id": "cell-3b4ee3388b44225b",
     "locked": true,
     "schema_version": 3,
     "solution": false,
     "task": false
    }
   },
   "source": [
    "# Question 6\n",
    "\n",
    "<div style=\"text-align: right\"><b>[15 marks]</b></div>\n",
    "\n",
    "**Cost-Sensitive K-Nearest Neighbors (CostSensitiveKNN) Classifier Implementation**\n",
    "\n",
    "---\n",
    "\n",
    "**Objective:**\n",
    "The objective of this programming assignment is to implement a Cost-Sensitive K-Nearest Neighbors (CostSensitiveKNN) classifier class called `CostSensitiveKNNClassifier`. This classifier is capable of making predictions based on the majority class of the K nearest neighbors while considering class costs.\n",
    "\n",
    "---\n",
    "\n",
    "**Instructions:**\n",
    "\n",
    "1. **CostSensitiveKNNClassifier Class:**\n",
    "   - Implement the `CostSensitiveKNNClassifier` class with the following methods:\n",
    "     - `__init__`: Constructor method to initialize the classifier object. It should take an optional parameter `k` (default is 3) representing the number of neighbors to consider and an optional parameter `class_cost_matrix` (default is `[[0,1],[1,0]]`) representing the cost matrix.\n",
    "     - `fit(X,y)`: Method to fit the parameters of the model. It takes in input a data matrix `X` and a target vector `y`.\n",
    "     - `euclidean_distance(x1, x2)`: Method to calculate the Euclidean distance between two data points. It takes in input two vectors.\n",
    "     - `predict_prob_single(x)`: Method to predict the probabilities of each class label for a single data point. It takes in input one vector.\n",
    "     - `predict(X)`: Method to predict the class labels for a given set of test data points considering class costs. It takes in input a data matrix `X`.\n",
    "   - Ensure that the classifier is capable of considering class costs during prediction.\n",
    "\n",
    "---\n",
    "\n",
    "**Note:**\n",
    "- In the cost matrix the rows represent predicted labels and columns represent true labels.\n",
    "- The `fit` method should store the training data (features and labels) for later use during prediction and compute class probabilities based on the training data.\n",
    "- The `euclidean_distance` method should calculate the Euclidean distance between two data points.\n",
    "- The `predict_prob_single` method should predict the probabilities of each class label for a single data point based on its nearest neighbors.\n",
    "- The `predict` method should make predictions for a set of test data points considering class costs and the computed class probabilities.\n",
    "- You should use the `numpy` library for array manipulations and mathematical operations.\n",
    "- You must write your own implementation and you cannot use the `KNeighborsClassifier` or other functions/classes from `sklearn`.\n",
    "\n",
    "--- \n"
   ]
  },
  {
   "cell_type": "code",
   "execution_count": null,
   "metadata": {
    "ExecuteTime": {
     "end_time": "2024-02-22T17:47:18.474515Z",
     "start_time": "2024-02-22T17:47:18.455076Z"
    },
    "deletable": false,
    "nbgrader": {
     "cell_type": "code",
     "checksum": "1206a77c99170455467bd7f6f27c7fea",
     "grade": false,
     "grade_id": "cell-ac62286bdd11c0cd",
     "locked": false,
     "schema_version": 3,
     "solution": true,
     "task": false
    }
   },
   "outputs": [],
   "source": [
    "class CostSensitiveKNNClassifier:\n",
    "    # YOUR CODE HERE\n",
    "    raise NotImplementedError()\n",
    "\n",
    "save_history()"
   ]
  },
  {
   "cell_type": "code",
   "execution_count": null,
   "metadata": {
    "ExecuteTime": {
     "end_time": "2024-02-22T17:47:19.665175Z",
     "start_time": "2024-02-22T17:47:19.662425Z"
    },
    "deletable": false,
    "editable": false,
    "nbgrader": {
     "cell_type": "code",
     "checksum": "e551ab64f7390561f5edcf6ad90bc088",
     "grade": true,
     "grade_id": "cell-5f6082aeeda3bf03",
     "locked": true,
     "points": 2,
     "schema_version": 3,
     "solution": false,
     "task": false
    }
   },
   "outputs": [],
   "source": [
    "# This cell is reserved for the unit tests. Do not consider this cell. "
   ]
  },
  {
   "cell_type": "code",
   "execution_count": null,
   "metadata": {
    "deletable": false,
    "editable": false,
    "nbgrader": {
     "cell_type": "code",
     "checksum": "e86d2eb166703f5767d560920c13ba47",
     "grade": true,
     "grade_id": "cell-c8282629d102b497",
     "locked": true,
     "points": 3,
     "schema_version": 3,
     "solution": false,
     "task": false
    }
   },
   "outputs": [],
   "source": [
    "# This cell is reserved for the unit tests. Do not consider this cell. "
   ]
  },
  {
   "cell_type": "code",
   "execution_count": null,
   "metadata": {
    "ExecuteTime": {
     "end_time": "2024-02-22T17:47:20.054992Z",
     "start_time": "2024-02-22T17:47:20.046778Z"
    },
    "deletable": false,
    "editable": false,
    "nbgrader": {
     "cell_type": "code",
     "checksum": "eb5e31e1c4c2ffd6fa485cc16210c6c4",
     "grade": true,
     "grade_id": "cell-5e1bc0a1dae00d9f",
     "locked": true,
     "points": 5,
     "schema_version": 3,
     "solution": false,
     "task": false
    }
   },
   "outputs": [],
   "source": [
    "# This cell is reserved for the unit tests. Do not consider this cell. "
   ]
  },
  {
   "cell_type": "code",
   "execution_count": null,
   "metadata": {
    "ExecuteTime": {
     "end_time": "2024-02-22T17:47:24.239157Z",
     "start_time": "2024-02-22T17:47:22.759420Z"
    },
    "deletable": false,
    "editable": false,
    "nbgrader": {
     "cell_type": "code",
     "checksum": "9374e9bc136d2e5fbd82aa4c09512aef",
     "grade": true,
     "grade_id": "cell-1fc007dc4928dfde",
     "locked": true,
     "points": 5,
     "schema_version": 3,
     "solution": false,
     "task": false
    }
   },
   "outputs": [],
   "source": [
    "# This cell is reserved for the unit tests. Do not consider this cell. "
   ]
  },
  {
   "cell_type": "markdown",
   "metadata": {
    "deletable": false,
    "editable": false,
    "nbgrader": {
     "cell_type": "markdown",
     "checksum": "05dc60a02b75eda5083b26da9a5e32bd",
     "grade": false,
     "grade_id": "cell-e29bc7c5392d77a5",
     "locked": true,
     "schema_version": 3,
     "solution": false,
     "task": false
    }
   },
   "source": [
    "# Question 7\n",
    "<div style=\"text-align: right\"><b>[14 marks]</b></div>\n",
    "\n",
    "**Group Weighted K-Nearest Neighbors (GroupKNN) Classifier Implementation**\n",
    "\n",
    "---\n",
    "\n",
    "**Objective:**\n",
    "The objective of this programming assignment is to implement a variant of the K-Nearest Neighbors (KNN) algorithm called the Group Weighted KNN `GroupKNNClassifier`. \n",
    "Unlike the traditional KNN, which treats all features equally, GroupKNN divides the features into groups and assigns different weights to these groups. This approach allows the classifier to emphasize certain groups of features over others, which can be particularly useful in cases where some features are known to be more informative for the prediction task.\n",
    "\n",
    "---\n",
    "\n",
    "**Instructions:**\n",
    "\n",
    "1. **GroupKNNClassifier Class:**\n",
    "   - Implement the `GroupKNNClassifier` class with the following methods:\n",
    "     - `__init__`: Constructor method to initialize the classifier object with parameters:\n",
    "       - k: The number of nearest neighbors to consider for making predictions.\n",
    "       - groups: A list of lists, where each sublist contains indices of the features belonging to a particular group. For example, if we have instances in a 5 dimensional space, we could assign `groups=[[0,3],[1],[2,4]]`. \n",
    "       - group_weights: A list containing the weights assigned to each group. The length of group_weights should match the number of groups. In the example above we could assign `group_weights = [0.7, 0.1, 0.3]`.\n",
    "     - `fit(X,y)`: Method to fit the parameters of the model. It takes in input a data matrix `X` and a target vector `y`.\n",
    "     - `euclidean_distance(x1, x2)`: Method to calculate the Euclidean distance between two data points. It takes in input two vectors.\n",
    "     - `distance(x)`: Method to calculate the weighted distance between two data points considering different groups of features and their respective weights. It takes in input one vector.\n",
    "     - `predict(X)`: Method to predict the class labels for a given set of test data points considering group-weighted distances. It takes in input a data matrix `X`.\n",
    "   - Ensure that the classifier is capable of considering different groups of features and their respective weights during prediction.\n",
    "\n",
    "\n",
    "---\n",
    "\n",
    "**Note:**\n",
    "- The `fit` method should store the training data (features and labels) for later use during prediction.\n",
    "- The `euclidean_distance` method should calculate the Euclidean distance between two data points.\n",
    "- The `distance` method should calculate the weighted distance between two data points considering different groups of features and their respective weights.\n",
    "- The `predict` method should make predictions for a set of test data points considering group-weighted distances.\n",
    "- You should use the `numpy` library for array manipulations and mathematical operations.\n",
    "- You must write your own implementation and you cannot use the `KNeighborsClassifier` or other functions/classes from `sklearn`.\n",
    "\n",
    "--- "
   ]
  },
  {
   "cell_type": "code",
   "execution_count": null,
   "metadata": {
    "ExecuteTime": {
     "end_time": "2024-02-22T17:47:25.374042Z",
     "start_time": "2024-02-22T17:47:25.360836Z"
    },
    "deletable": false,
    "nbgrader": {
     "cell_type": "code",
     "checksum": "d1a15affaa37a1bc2881994291017893",
     "grade": false,
     "grade_id": "cell-dfc414bef1d63500",
     "locked": false,
     "schema_version": 3,
     "solution": true,
     "task": false
    }
   },
   "outputs": [],
   "source": [
    "class GroupKNNClassifier:\n",
    "    # YOUR CODE HERE\n",
    "    raise NotImplementedError()\n",
    "\n",
    "save_history()"
   ]
  },
  {
   "cell_type": "code",
   "execution_count": null,
   "metadata": {
    "ExecuteTime": {
     "end_time": "2024-02-22T17:47:27.301481Z",
     "start_time": "2024-02-22T17:47:27.298869Z"
    },
    "deletable": false,
    "editable": false,
    "nbgrader": {
     "cell_type": "code",
     "checksum": "e9d09dcbef209ff6d91eadf45d719d02",
     "grade": true,
     "grade_id": "cell-0747542fc3c94432",
     "locked": true,
     "points": 4,
     "schema_version": 3,
     "solution": false,
     "task": false
    }
   },
   "outputs": [],
   "source": [
    "# This cell is reserved for the unit tests. Do not consider this cell. "
   ]
  },
  {
   "cell_type": "code",
   "execution_count": null,
   "metadata": {
    "ExecuteTime": {
     "end_time": "2024-02-22T17:47:27.301481Z",
     "start_time": "2024-02-22T17:47:27.298869Z"
    },
    "deletable": false,
    "editable": false,
    "nbgrader": {
     "cell_type": "code",
     "checksum": "068930f47c0f7ea36e4d8082537e4c33",
     "grade": true,
     "grade_id": "cell-0039539bde2a7ffe",
     "locked": true,
     "points": 5,
     "schema_version": 3,
     "solution": false,
     "task": false
    }
   },
   "outputs": [],
   "source": [
    "# This cell is reserved for the unit tests. Do not consider this cell. "
   ]
  },
  {
   "cell_type": "code",
   "execution_count": null,
   "metadata": {
    "ExecuteTime": {
     "end_time": "2024-02-22T17:47:28.400747Z",
     "start_time": "2024-02-22T17:47:28.398076Z"
    },
    "deletable": false,
    "editable": false,
    "nbgrader": {
     "cell_type": "code",
     "checksum": "e952143c574e46c9c394945df0cd383c",
     "grade": true,
     "grade_id": "cell-68e1f59fe5aff9dc",
     "locked": true,
     "points": 5,
     "schema_version": 3,
     "solution": false,
     "task": false
    }
   },
   "outputs": [],
   "source": [
    "# This cell is reserved for the unit tests. Do not consider this cell. "
   ]
  },
  {
   "cell_type": "markdown",
   "metadata": {
    "deletable": false,
    "editable": false,
    "nbgrader": {
     "cell_type": "markdown",
     "checksum": "b0ff4a27909c19f6c2162c8fa0674730",
     "grade": false,
     "grade_id": "cell-228541737fba2ed1",
     "locked": true,
     "schema_version": 3,
     "solution": false,
     "task": false
    }
   },
   "source": [
    "# Question 8\n",
    "<div style=\"text-align: right\"><b>[15 marks]</b></div>\n",
    "\n",
    "**Auto-Group Weighted K-Nearest Neighbors (AutoGroupsKNN) Classifier Implementation**\n",
    "\n",
    "---\n",
    "\n",
    "**Objective:**\n",
    "The objective of this programming assignment is to implement an Auto-Group Weighted K-Nearest Neighbors (AutoGroupsKNN) classifier class called `AutoGroupsKNNClassifier`. This classifier automatically divides features into 2 groups based on how important the features are for the classification task, and assigns weights to these groups to emphasize their importance in the prediction. This approach is particularly useful in datasets where some features are more predictive of the outcome than others, and it aims to improve the classifier's performance by leveraging this information.\n",
    "\n",
    "The idea is to partition the features into two groups: one is the important features and one is the less-important features. \n",
    "The candidate is free to define the notion of feature 'importance' as they see fit, provided that informative features are more likely to receive a greater weight than non-informative features. \n",
    "The classifier can be initialized with a parameter `param` that can be used to define a threshold notion to define the two groups.\n",
    "The `weight` parameter is the weight that must be given to the less-important features, while `1-weight` is going to be the weight that must be given to the important features. If `weight=0` then the less-important features will not contribute in the distance notion of the KNNClassifier. \n",
    "\n",
    "---\n",
    "\n",
    "**Instructions:**\n",
    "\n",
    "1. **AutoGroupsKNNClassifier Class:**\n",
    "   - Implement the `AutoGroupsKNNClassifier` class with the following methods:\n",
    "     - `__init__`: Constructor method to initialize the classifier object. It should take an optional parameter `k` (default is 3) representing the number of neighbors to consider, an optional parameter `param` representing the feature weights threshold, and an optional parameter `weight` representing the weight assigned to one of the groups.\n",
    "     - `fit(X,y)`: Method to train the AutoGroupsKNN classifier using the given data and automatically select feature groups based on the provided threshold. It takes in input a data matrix `X` and a target vector `y`.\n",
    "     - `predict(X)`: Method to predict the class labels for a given set of test data points using the trained classifier. It takes in input a data matrix `X`.\n",
    "   - Ensure that the classifier automatically selects feature groups and assigns weights to each group based on the given threshold and weight.\n",
    "\n",
    "---\n",
    "\n",
    "**Note:**\n",
    "- The `fit` method should train the AutoGroupsKNN classifier by automatically selecting feature groups based on the provided feature weights threshold.\n",
    "- The `predict` method should make predictions for a set of test data points using the trained classifier.\n",
    "- You should use the `numpy` library for array manipulations and mathematical operations.\n",
    "- You must write your own implementation and you cannot use the `KNeighborsClassifier` or other functions/classes from `sklearn`.\n",
    "\n",
    "--- "
   ]
  },
  {
   "cell_type": "code",
   "execution_count": null,
   "metadata": {
    "ExecuteTime": {
     "end_time": "2024-02-22T17:47:30.513746Z",
     "start_time": "2024-02-22T17:47:30.498611Z"
    },
    "deletable": false,
    "nbgrader": {
     "cell_type": "code",
     "checksum": "fc9f6731a6f29f6d8d77da6f479ebdc5",
     "grade": false,
     "grade_id": "cell-6772e80ba611f431",
     "locked": false,
     "schema_version": 3,
     "solution": true,
     "task": false
    }
   },
   "outputs": [],
   "source": [
    "class AutoGroupsKNNClassifier:\n",
    "    # YOUR CODE HERE\n",
    "    raise NotImplementedError()\n",
    "\n",
    "save_history()"
   ]
  },
  {
   "cell_type": "code",
   "execution_count": null,
   "metadata": {
    "ExecuteTime": {
     "end_time": "2024-02-22T17:47:32.728886Z",
     "start_time": "2024-02-22T17:47:32.726214Z"
    },
    "deletable": false,
    "editable": false,
    "nbgrader": {
     "cell_type": "code",
     "checksum": "70cb960127e9269924f4cb3ddc2b5291",
     "grade": true,
     "grade_id": "cell-d8daba3570376d2a",
     "locked": true,
     "points": 5,
     "schema_version": 3,
     "solution": false,
     "task": false
    }
   },
   "outputs": [],
   "source": [
    "# This cell is reserved for the unit tests. Do not consider this cell. "
   ]
  },
  {
   "cell_type": "code",
   "execution_count": null,
   "metadata": {
    "ExecuteTime": {
     "end_time": "2024-02-22T17:47:32.728886Z",
     "start_time": "2024-02-22T17:47:32.726214Z"
    },
    "deletable": false,
    "editable": false,
    "nbgrader": {
     "cell_type": "code",
     "checksum": "f4de23958643ae1d24780fcaac6a56d8",
     "grade": true,
     "grade_id": "cell-5b15eb38b20972c6",
     "locked": true,
     "points": 10,
     "schema_version": 3,
     "solution": false,
     "task": false
    }
   },
   "outputs": [],
   "source": [
    "# This cell is reserved for the unit tests. Do not consider this cell. "
   ]
  },
  {
   "cell_type": "markdown",
   "metadata": {
    "deletable": false,
    "editable": false,
    "nbgrader": {
     "cell_type": "markdown",
     "checksum": "737eacf0555b0b239e2e739b14ca0c49",
     "grade": false,
     "grade_id": "cell-939e5eea58b44878",
     "locked": true,
     "schema_version": 3,
     "solution": false,
     "task": false
    }
   },
   "source": [
    "## Checkpoint\n",
    "\n",
    "This is just a check-point, i.e. it is for you to see that you are correctly implementing all functions. \n",
    "\n",
    "Execute the following code (just execute the next cell):\n",
    "\n",
    "```python\n",
    "params = np.arange(0, 150, 25)\n",
    "\n",
    "classifier = KNNClassifier(k=3)\n",
    "plot_predictive_error_estimate_vs_param(make_dataset_n_features_outliers, classifier, params, n_rep=30, title='KNN model performance decreases', xlabel='n_non_informative_features')\n",
    "\n",
    "classifier = AutoGroupsKNNClassifier(k=3,param=.5,weight=.1)\n",
    "plot_predictive_error_estimate_vs_param(make_dataset_n_features_outliers, classifier, params, n_rep=20, title='AutoGroupsKNN model performance does not decrease', xlabel='n_non_informative_features')\n",
    "```\n",
    "\n",
    "and check that you obtain a plot similar to:\n",
    "\n",
    "<img src=\"img2b.png\" width=40%>\n",
    "\n",
    "and then execute:\n",
    "```python\n",
    "params = np.arange(2,20,4)\n",
    "\n",
    "classifier = LinearClassifier()\n",
    "plot_predictive_error_estimate_vs_param(make_dataset_outliers_std, classifier, params, n_rep=30, title='Linear model performance decreases', xlabel='outliers_std')\n",
    "\n",
    "classifier = AutoGroupsKNNClassifier(k=3,param=.5,weight=.1)\n",
    "plot_predictive_error_estimate_vs_param(make_dataset_outliers_std, classifier, params, n_rep=5, title='AutoGroupsKNN model performance does not decrease', xlabel='outliers_std')\n",
    "```\n",
    "\n",
    "and check that you obtain a plot similar to:\n",
    "\n",
    "<img src=\"img3b.png\" width=40%>\n"
   ]
  },
  {
   "cell_type": "code",
   "execution_count": null,
   "metadata": {
    "ExecuteTime": {
     "end_time": "2024-02-22T17:47:41.438829Z",
     "start_time": "2024-02-22T17:47:41.430370Z"
    },
    "deletable": false,
    "editable": false,
    "nbgrader": {
     "cell_type": "code",
     "checksum": "610b3c82d171366c41f0be24eb317aa4",
     "grade": false,
     "grade_id": "cell-f3cf6c644f99e516",
     "locked": true,
     "schema_version": 3,
     "solution": false,
     "task": false
    }
   },
   "outputs": [],
   "source": [
    "#These functions are provided for you. You do not need to modify them in any way, just execute them.\n",
    "\n",
    "def make_dataset_n_features_outliers(param):\n",
    "    n_instances = 300\n",
    "    fraction_of_outliers = 0.3\n",
    "    n_informative_features = 2\n",
    "    n_non_informative_features = param\n",
    "    std = .75\n",
    "    outliers_std = 2\n",
    "    data_mtx, targets = make_dataset(n_instances, fraction_of_outliers, n_informative_features, n_non_informative_features, std, outliers_std)\n",
    "    return data_mtx, targets\n",
    "\n",
    "def make_dataset_outliers_std(param):\n",
    "    n_instances = 1000\n",
    "    fraction_of_outliers = 0.3\n",
    "    n_informative_features = 2\n",
    "    n_non_informative_features = 10\n",
    "    std = 1\n",
    "    outliers_std = param\n",
    "    data_mtx, targets = make_dataset(n_instances, fraction_of_outliers, n_informative_features, n_non_informative_features, std, outliers_std)\n",
    "    return data_mtx, targets\n",
    "\n",
    "def plot_predictive_error_estimate_vs_param(make_dataset_func, classifier, params, n_rep=30, title='', xlabel=''):\n",
    "    acc_means = []\n",
    "    acc_stds = []\n",
    "    for param in params:\n",
    "        data_mtx, targets = make_dataset_func(param)\n",
    "        mean_acc, std_acc = predictive_performance_estimate(classifier, data_mtx, targets, test_size=.3, n_rep=n_rep)\n",
    "        acc_means.append(mean_acc)\n",
    "        acc_stds.append(std_acc)\n",
    "    acc_means = np.array(acc_means)\n",
    "    acc_stds = np.array(acc_stds)\n",
    "\n",
    "    plt.figure(figsize=(10,4))\n",
    "    plt.plot(params, acc_means, lw=2, c='k')\n",
    "    plt.fill_between(params, acc_means-acc_stds,acc_means+acc_stds,color='b', alpha=.2)\n",
    "    plt.xlabel(xlabel)\n",
    "    plt.ylim(0.5,1)\n",
    "    plt.grid()\n",
    "    plt.title(title)\n",
    "    plt.show()"
   ]
  },
  {
   "cell_type": "code",
   "execution_count": null,
   "metadata": {
    "ExecuteTime": {
     "end_time": "2024-02-22T17:49:04.968866Z",
     "start_time": "2024-02-22T17:47:41.750129Z"
    },
    "deletable": false,
    "editable": false,
    "nbgrader": {
     "cell_type": "code",
     "checksum": "0de85c7823be516e4affca0142b47a68",
     "grade": false,
     "grade_id": "cell-3483a7f21dadc750",
     "locked": true,
     "schema_version": 3,
     "solution": false,
     "task": false
    }
   },
   "outputs": [],
   "source": [
    "params = np.arange(0, 150, 25)\n",
    "\n",
    "classifier = KNNClassifier(k=3)\n",
    "plot_predictive_error_estimate_vs_param(make_dataset_n_features_outliers, classifier, params, n_rep=30, title='KNN model performance decreases', xlabel='n_non_informative_features')\n",
    "\n",
    "classifier = AutoGroupsKNNClassifier(k=3,param=.5,weight=.1)\n",
    "plot_predictive_error_estimate_vs_param(make_dataset_n_features_outliers, classifier, params, n_rep=30, title='AutoGroupsKNN model performance does not decrease', xlabel='n_non_informative_features')"
   ]
  },
  {
   "cell_type": "code",
   "execution_count": null,
   "metadata": {
    "ExecuteTime": {
     "end_time": "2024-02-22T17:50:43.731736Z",
     "start_time": "2024-02-22T17:49:04.971312Z"
    },
    "deletable": false,
    "editable": false,
    "nbgrader": {
     "cell_type": "code",
     "checksum": "e2b64c8143f87427323dc051b32054f8",
     "grade": false,
     "grade_id": "cell-a8d8655921fd7cb3",
     "locked": true,
     "schema_version": 3,
     "solution": false,
     "task": false
    }
   },
   "outputs": [],
   "source": [
    "params = np.arange(2,20,4)\n",
    "\n",
    "classifier = LinearClassifier()\n",
    "plot_predictive_error_estimate_vs_param(make_dataset_outliers_std, classifier, params, n_rep=30, title='Linear model performance decreases', xlabel='outliers_std')\n",
    "\n",
    "classifier = AutoGroupsKNNClassifier(k=3,param=.5,weight=.1)\n",
    "plot_predictive_error_estimate_vs_param(make_dataset_outliers_std, classifier, params, n_rep=5, title='AutoGroupsKNN model performance does not decrease', xlabel='outliers_std')"
   ]
  },
  {
   "cell_type": "markdown",
   "metadata": {
    "deletable": false,
    "editable": false,
    "nbgrader": {
     "cell_type": "markdown",
     "checksum": "2f19f10aa89d2e2ed8001684d92506b7",
     "grade": false,
     "grade_id": "cell-5608b32d9c4e4894",
     "locked": true,
     "schema_version": 3,
     "solution": false,
     "task": false
    }
   },
   "source": [
    "---"
   ]
  },
  {
   "cell_type": "code",
   "execution_count": null,
   "metadata": {
    "ExecuteTime": {
     "end_time": "2024-02-22T17:50:43.736977Z",
     "start_time": "2024-02-22T17:50:43.734443Z"
    },
    "deletable": false,
    "editable": false,
    "nbgrader": {
     "cell_type": "code",
     "checksum": "4b1f79ffdf35f1bc4da45c685512e63b",
     "grade": false,
     "grade_id": "cell-ffb202222f407551",
     "locked": true,
     "schema_version": 3,
     "solution": false,
     "task": false
    }
   },
   "outputs": [],
   "source": [
    "# Do not consider the next cell.\n",
    "# You do not have to do anything for the next cell."
   ]
  },
  {
   "cell_type": "code",
   "execution_count": null,
   "metadata": {
    "deletable": false,
    "editable": false,
    "nbgrader": {
     "cell_type": "code",
     "checksum": "ec61567d17df3452da4c0be5b4145f2b",
     "grade": false,
     "grade_id": "cell-17cc307f7682c515",
     "locked": true,
     "schema_version": 3,
     "solution": false,
     "task": false
    }
   },
   "outputs": [],
   "source": []
  },
  {
   "cell_type": "code",
   "execution_count": null,
   "metadata": {
    "ExecuteTime": {
     "end_time": "2024-02-22T17:50:43.742970Z",
     "start_time": "2024-02-22T17:50:43.740167Z"
    },
    "deletable": false,
    "editable": false,
    "nbgrader": {
     "cell_type": "code",
     "checksum": "a43f29e92a07918673764995e6ebdb83",
     "grade": false,
     "grade_id": "cell-3b61aec71dd21450",
     "locked": true,
     "schema_version": 3,
     "solution": false,
     "task": false
    }
   },
   "outputs": [],
   "source": [
    "check_and_prepare_for_submission()"
   ]
  },
  {
   "cell_type": "markdown",
   "metadata": {
    "deletable": false,
    "editable": false,
    "nbgrader": {
     "cell_type": "markdown",
     "checksum": "a823b34d241dd857b9a89819de68fb3c",
     "grade": false,
     "grade_id": "cell-a3a081756c4e5f90",
     "locked": true,
     "schema_version": 3,
     "solution": false,
     "task": false
    }
   },
   "source": [
    "---"
   ]
  }
 ],
 "metadata": {
  "kernelspec": {
   "display_name": "Python 3 (ipykernel)",
   "language": "python",
   "name": "python3"
  },
  "language_info": {
   "codemirror_mode": {
    "name": "ipython",
    "version": 3
   },
   "file_extension": ".py",
   "mimetype": "text/x-python",
   "name": "python",
   "nbconvert_exporter": "python",
   "pygments_lexer": "ipython3",
   "version": "3.11.0b2"
  }
 },
 "nbformat": 4,
 "nbformat_minor": 4
}
