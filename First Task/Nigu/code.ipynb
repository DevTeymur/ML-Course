{
  "cells": [
    {
      "cell_type": "markdown",
      "metadata": {
        "id": "sYD5kZ_SKwLG"
      },
      "source": [
        "### Some comments\n",
        "\n",
        "1) Anxiety : range from 0 to 21, Measure : GAD-7\n",
        "2) Self-esteem : range 0 to 30, Measure: Rosenberg Self Esteem Scale\n",
        "3) Mental Health History : 0 if no mental health history, 1 if mental health history\n",
        "4) Depression : range 0 to 27, Measure: Patient Health Questionnaire (PHQ-9)\n",
        "5) Other features mostly range from 0 to 5 considering 0,1 to be low, 2,3 to be mid, and 4,5 to be high.\n",
        "6) Blood pressure: range 1 to 3 (There was no direct explanation for this one, I assume 1 is low, 2 is normal, 3 is high)\n",
        "7) Stress level: range 0 to 2 (Again no explanation, I assume, 0 low level/absent, 1 medium level, 2 high level)\n",
        "8) Generally lower score is better, but for others it is hard to decide. For example sleep quality, we can have an educated guess if we do some data analysis.\n",
        "However, these other features could also be given scientific measures. eg. blood pressure.\n"
      ]
    },
    {
      "cell_type": "markdown",
      "metadata": {
        "id": "qTPS4pLfKwLI"
      },
      "source": [
        "Explanation to depression levels (PHQ-9):\n",
        "\n",
        "1-4 suggests minimal depression\n",
        "5-9 suggests mild depression\n",
        "10-14 suggests moderate depression\n",
        "15-19 suggests moderately severe depression\n",
        "A score of 20-27 suggests severe depression"
      ]
    },
    {
      "cell_type": "markdown",
      "metadata": {
        "id": "l3xSZ0eKKwLJ"
      },
      "source": [
        "Kagglede descripttiondaki suallardan reference elemek olar"
      ]
    },
    {
      "cell_type": "markdown",
      "metadata": {
        "id": "o1Kk_CSvKwLL"
      },
      "source": [
        "4 different categories simple descriptive statistics for each of them"
      ]
    },
    {
      "cell_type": "markdown",
      "metadata": {
        "id": "pVahMLi1KwLL"
      },
      "source": [
        "Psychological Factors => 'anxiety_level', 'self_esteem', 'mental_health_history', 'depression'"
      ]
    },
    {
      "cell_type": "markdown",
      "metadata": {
        "id": "eg9_-xxZKwLM"
      },
      "source": [
        "Physiological Factors => 'headache', 'blood_pressure', 'sleep_quality', 'breathing_problem'"
      ]
    },
    {
      "cell_type": "markdown",
      "metadata": {
        "id": "KGe94rgnKwLM"
      },
      "source": [
        "Environmental Factors => 'noise_level', 'living_conditions', 'safety', 'basic_needs'"
      ]
    },
    {
      "cell_type": "markdown",
      "metadata": {
        "id": "x4tZkduXKwLM"
      },
      "source": [
        "Academic Factors => 'academic_performance', 'study_load', 'teacher_student_relationship', 'future_career_concerns'"
      ]
    },
    {
      "cell_type": "markdown",
      "metadata": {
        "id": "GEwQthpJKwLM"
      },
      "source": [
        "Social Factor => 'social_support', 'peer_pressure', 'extracurricular_activities', 'bullying'"
      ]
    },
    {
      "cell_type": "markdown",
      "metadata": {
        "id": "g0FAJ8KBKwLM"
      },
      "source": [
        "In order to decide which factor influences the most to the stress level, first with statistical methods:"
      ]
    },
    {
      "cell_type": "markdown",
      "metadata": {
        "id": "mBcPP9SwKwLM"
      },
      "source": [
        "Corellation between stress level and other columns"
      ]
    },
    {
      "cell_type": "markdown",
      "metadata": {
        "id": "YNbpxTH3KwLM"
      },
      "source": [
        "Regression analysis\n",
        "\n",
        "\n",
        "Stress Level is the dependent variable. Other cols are the independent variables.\n",
        "\n",
        "independent_vars = ['Anxiety_Level', 'Self_Esteem', ....]  #cols\n",
        "Add a constant for the intercept term\n",
        "df['constant'] = 1\n",
        "\n",
        "model = sm.OLS(df['stress_level'], df[independent_vars + ['constant']])\n",
        "results = model.fit()\n",
        "print(results.summary())\n",
        "\n",
        "The `results.summary()` will provide detailed information about the regression analysis, including coefficients, p-values, R-squared value (a measure of how well the factors explain the variability of stress levels), and more."
      ]
    },
    {
      "cell_type": "markdown",
      "metadata": {
        "id": "5TT011BuKwLM"
      },
      "source": [
        " szßs0e4rt58'stress_level' is the target column, and other columns are factors influencing stress levels\n",
        "\n",
        "X = df.drop('stress_level', axis=1)  # Features\n",
        "y = df['stress_level']  # Target variable\n",
        "\n",
        "rf = RandomForestRegressor(n_estimators=100, random_state=42)\n",
        "rf.fit(X, y)\n",
        "\n",
        "feature_importances = pd.DataFrame(rf.feature_importances_, index=X.columns, columns=['Importance'])\n",
        "\n",
        "feature_importances = feature_importances.sort_values('Importance', ascending=False)\n",
        "print(feature_importances)\n"
      ]
    },
    {
      "cell_type": "code",
      "execution_count": 2,
      "metadata": {
        "id": "zzxmo1mXKwLJ"
      },
      "outputs": [],
      "source": [
        "import pandas as pd\n",
        "import numpy as np\n",
        "import plotly.express as px\n",
        "import matplotlib.pyplot as plt\n",
        "import seaborn as sns\n",
        "import shap\n",
        "from xgboost import XGBClassifier\n",
        "from sklearn.model_selection import train_test_split\n",
        "from sklearn.metrics import confusion_matrix, ConfusionMatrixDisplay"
      ]
    },
    {
      "cell_type": "markdown",
      "metadata": {
        "id": "dyWIoDQffSTY"
      },
      "source": [
        "Exploratory Data Analysis (EDA)"
      ]
    },
    {
      "cell_type": "code",
      "execution_count": 3,
      "metadata": {
        "id": "Okdmbje6KwLK"
      },
      "outputs": [],
      "source": [
        "df = pd.read_csv('StressLevelDataset.csv')"
      ]
    },
    {
      "cell_type": "code",
      "execution_count": 4,
      "metadata": {
        "colab": {
          "base_uri": "https://localhost:8080/",
          "height": 255
        },
        "id": "MMRApym0KwLK",
        "outputId": "9fb14759-3478-470f-9539-cb0d4a811a98"
      },
      "outputs": [
        {
          "data": {
            "text/html": [
              "<div>\n",
              "<style scoped>\n",
              "    .dataframe tbody tr th:only-of-type {\n",
              "        vertical-align: middle;\n",
              "    }\n",
              "\n",
              "    .dataframe tbody tr th {\n",
              "        vertical-align: top;\n",
              "    }\n",
              "\n",
              "    .dataframe thead th {\n",
              "        text-align: right;\n",
              "    }\n",
              "</style>\n",
              "<table border=\"1\" class=\"dataframe\">\n",
              "  <thead>\n",
              "    <tr style=\"text-align: right;\">\n",
              "      <th></th>\n",
              "      <th>anxiety_level</th>\n",
              "      <th>self_esteem</th>\n",
              "      <th>mental_health_history</th>\n",
              "      <th>depression</th>\n",
              "      <th>headache</th>\n",
              "      <th>blood_pressure</th>\n",
              "      <th>sleep_quality</th>\n",
              "      <th>breathing_problem</th>\n",
              "      <th>noise_level</th>\n",
              "      <th>living_conditions</th>\n",
              "      <th>...</th>\n",
              "      <th>basic_needs</th>\n",
              "      <th>academic_performance</th>\n",
              "      <th>study_load</th>\n",
              "      <th>teacher_student_relationship</th>\n",
              "      <th>future_career_concerns</th>\n",
              "      <th>social_support</th>\n",
              "      <th>peer_pressure</th>\n",
              "      <th>extracurricular_activities</th>\n",
              "      <th>bullying</th>\n",
              "      <th>stress_level</th>\n",
              "    </tr>\n",
              "  </thead>\n",
              "  <tbody>\n",
              "    <tr>\n",
              "      <th>0</th>\n",
              "      <td>14</td>\n",
              "      <td>20</td>\n",
              "      <td>0</td>\n",
              "      <td>11</td>\n",
              "      <td>2</td>\n",
              "      <td>1</td>\n",
              "      <td>2</td>\n",
              "      <td>4</td>\n",
              "      <td>2</td>\n",
              "      <td>3</td>\n",
              "      <td>...</td>\n",
              "      <td>2</td>\n",
              "      <td>3</td>\n",
              "      <td>2</td>\n",
              "      <td>3</td>\n",
              "      <td>3</td>\n",
              "      <td>2</td>\n",
              "      <td>3</td>\n",
              "      <td>3</td>\n",
              "      <td>2</td>\n",
              "      <td>1</td>\n",
              "    </tr>\n",
              "    <tr>\n",
              "      <th>1</th>\n",
              "      <td>15</td>\n",
              "      <td>8</td>\n",
              "      <td>1</td>\n",
              "      <td>15</td>\n",
              "      <td>5</td>\n",
              "      <td>3</td>\n",
              "      <td>1</td>\n",
              "      <td>4</td>\n",
              "      <td>3</td>\n",
              "      <td>1</td>\n",
              "      <td>...</td>\n",
              "      <td>2</td>\n",
              "      <td>1</td>\n",
              "      <td>4</td>\n",
              "      <td>1</td>\n",
              "      <td>5</td>\n",
              "      <td>1</td>\n",
              "      <td>4</td>\n",
              "      <td>5</td>\n",
              "      <td>5</td>\n",
              "      <td>2</td>\n",
              "    </tr>\n",
              "    <tr>\n",
              "      <th>2</th>\n",
              "      <td>12</td>\n",
              "      <td>18</td>\n",
              "      <td>1</td>\n",
              "      <td>14</td>\n",
              "      <td>2</td>\n",
              "      <td>1</td>\n",
              "      <td>2</td>\n",
              "      <td>2</td>\n",
              "      <td>2</td>\n",
              "      <td>2</td>\n",
              "      <td>...</td>\n",
              "      <td>2</td>\n",
              "      <td>2</td>\n",
              "      <td>3</td>\n",
              "      <td>3</td>\n",
              "      <td>2</td>\n",
              "      <td>2</td>\n",
              "      <td>3</td>\n",
              "      <td>2</td>\n",
              "      <td>2</td>\n",
              "      <td>1</td>\n",
              "    </tr>\n",
              "    <tr>\n",
              "      <th>3</th>\n",
              "      <td>16</td>\n",
              "      <td>12</td>\n",
              "      <td>1</td>\n",
              "      <td>15</td>\n",
              "      <td>4</td>\n",
              "      <td>3</td>\n",
              "      <td>1</td>\n",
              "      <td>3</td>\n",
              "      <td>4</td>\n",
              "      <td>2</td>\n",
              "      <td>...</td>\n",
              "      <td>2</td>\n",
              "      <td>2</td>\n",
              "      <td>4</td>\n",
              "      <td>1</td>\n",
              "      <td>4</td>\n",
              "      <td>1</td>\n",
              "      <td>4</td>\n",
              "      <td>4</td>\n",
              "      <td>5</td>\n",
              "      <td>2</td>\n",
              "    </tr>\n",
              "    <tr>\n",
              "      <th>4</th>\n",
              "      <td>16</td>\n",
              "      <td>28</td>\n",
              "      <td>0</td>\n",
              "      <td>7</td>\n",
              "      <td>2</td>\n",
              "      <td>3</td>\n",
              "      <td>5</td>\n",
              "      <td>1</td>\n",
              "      <td>3</td>\n",
              "      <td>2</td>\n",
              "      <td>...</td>\n",
              "      <td>3</td>\n",
              "      <td>4</td>\n",
              "      <td>3</td>\n",
              "      <td>1</td>\n",
              "      <td>2</td>\n",
              "      <td>1</td>\n",
              "      <td>5</td>\n",
              "      <td>0</td>\n",
              "      <td>5</td>\n",
              "      <td>1</td>\n",
              "    </tr>\n",
              "  </tbody>\n",
              "</table>\n",
              "<p>5 rows × 21 columns</p>\n",
              "</div>"
            ],
            "text/plain": [
              "   anxiety_level  self_esteem  mental_health_history  depression  headache  \\\n",
              "0             14           20                      0          11         2   \n",
              "1             15            8                      1          15         5   \n",
              "2             12           18                      1          14         2   \n",
              "3             16           12                      1          15         4   \n",
              "4             16           28                      0           7         2   \n",
              "\n",
              "   blood_pressure  sleep_quality  breathing_problem  noise_level  \\\n",
              "0               1              2                  4            2   \n",
              "1               3              1                  4            3   \n",
              "2               1              2                  2            2   \n",
              "3               3              1                  3            4   \n",
              "4               3              5                  1            3   \n",
              "\n",
              "   living_conditions  ...  basic_needs  academic_performance  study_load  \\\n",
              "0                  3  ...            2                     3           2   \n",
              "1                  1  ...            2                     1           4   \n",
              "2                  2  ...            2                     2           3   \n",
              "3                  2  ...            2                     2           4   \n",
              "4                  2  ...            3                     4           3   \n",
              "\n",
              "   teacher_student_relationship  future_career_concerns  social_support  \\\n",
              "0                             3                       3               2   \n",
              "1                             1                       5               1   \n",
              "2                             3                       2               2   \n",
              "3                             1                       4               1   \n",
              "4                             1                       2               1   \n",
              "\n",
              "   peer_pressure  extracurricular_activities  bullying  stress_level  \n",
              "0              3                           3         2             1  \n",
              "1              4                           5         5             2  \n",
              "2              3                           2         2             1  \n",
              "3              4                           4         5             2  \n",
              "4              5                           0         5             1  \n",
              "\n",
              "[5 rows x 21 columns]"
            ]
          },
          "execution_count": 4,
          "metadata": {},
          "output_type": "execute_result"
        }
      ],
      "source": [
        "df.head()"
      ]
    },
    {
      "cell_type": "code",
      "execution_count": 5,
      "metadata": {
        "colab": {
          "base_uri": "https://localhost:8080/"
        },
        "id": "27yek5LNAdTc",
        "outputId": "a186967b-2501-47ed-9531-a300469ff4f1"
      },
      "outputs": [
        {
          "name": "stdout",
          "output_type": "stream",
          "text": [
            "<class 'pandas.core.frame.DataFrame'>\n",
            "RangeIndex: 1100 entries, 0 to 1099\n",
            "Data columns (total 21 columns):\n",
            " #   Column                        Non-Null Count  Dtype\n",
            "---  ------                        --------------  -----\n",
            " 0   anxiety_level                 1100 non-null   int64\n",
            " 1   self_esteem                   1100 non-null   int64\n",
            " 2   mental_health_history         1100 non-null   int64\n",
            " 3   depression                    1100 non-null   int64\n",
            " 4   headache                      1100 non-null   int64\n",
            " 5   blood_pressure                1100 non-null   int64\n",
            " 6   sleep_quality                 1100 non-null   int64\n",
            " 7   breathing_problem             1100 non-null   int64\n",
            " 8   noise_level                   1100 non-null   int64\n",
            " 9   living_conditions             1100 non-null   int64\n",
            " 10  safety                        1100 non-null   int64\n",
            " 11  basic_needs                   1100 non-null   int64\n",
            " 12  academic_performance          1100 non-null   int64\n",
            " 13  study_load                    1100 non-null   int64\n",
            " 14  teacher_student_relationship  1100 non-null   int64\n",
            " 15  future_career_concerns        1100 non-null   int64\n",
            " 16  social_support                1100 non-null   int64\n",
            " 17  peer_pressure                 1100 non-null   int64\n",
            " 18  extracurricular_activities    1100 non-null   int64\n",
            " 19  bullying                      1100 non-null   int64\n",
            " 20  stress_level                  1100 non-null   int64\n",
            "dtypes: int64(21)\n",
            "memory usage: 180.6 KB\n"
          ]
        }
      ],
      "source": [
        "df.info()"
      ]
    },
    {
      "cell_type": "code",
      "execution_count": 6,
      "metadata": {
        "id": "IoGAJVdXAhs_"
      },
      "outputs": [],
      "source": [
        "target = 'stress_level'"
      ]
    },
    {
      "cell_type": "code",
      "execution_count": 7,
      "metadata": {
        "colab": {
          "base_uri": "https://localhost:8080/"
        },
        "id": "XxXfGLzwEJFg",
        "outputId": "f9385f68-4f7e-4a18-a75c-a4bb60b2f036"
      },
      "outputs": [
        {
          "data": {
            "text/plain": [
              "2"
            ]
          },
          "execution_count": 7,
          "metadata": {},
          "output_type": "execute_result"
        }
      ],
      "source": [
        "df[target].max()"
      ]
    },
    {
      "cell_type": "code",
      "execution_count": 8,
      "metadata": {
        "colab": {
          "base_uri": "https://localhost:8080/",
          "height": 349
        },
        "id": "9znj0MG7KwLL",
        "outputId": "58cfa914-a3fa-494b-a045-fa8177ce5b25"
      },
      "outputs": [
        {
          "data": {
            "text/html": [
              "<div>\n",
              "<style scoped>\n",
              "    .dataframe tbody tr th:only-of-type {\n",
              "        vertical-align: middle;\n",
              "    }\n",
              "\n",
              "    .dataframe tbody tr th {\n",
              "        vertical-align: top;\n",
              "    }\n",
              "\n",
              "    .dataframe thead th {\n",
              "        text-align: right;\n",
              "    }\n",
              "</style>\n",
              "<table border=\"1\" class=\"dataframe\">\n",
              "  <thead>\n",
              "    <tr style=\"text-align: right;\">\n",
              "      <th></th>\n",
              "      <th>anxiety_level</th>\n",
              "      <th>self_esteem</th>\n",
              "      <th>mental_health_history</th>\n",
              "      <th>depression</th>\n",
              "      <th>headache</th>\n",
              "      <th>blood_pressure</th>\n",
              "      <th>sleep_quality</th>\n",
              "      <th>breathing_problem</th>\n",
              "      <th>noise_level</th>\n",
              "      <th>living_conditions</th>\n",
              "      <th>...</th>\n",
              "      <th>basic_needs</th>\n",
              "      <th>academic_performance</th>\n",
              "      <th>study_load</th>\n",
              "      <th>teacher_student_relationship</th>\n",
              "      <th>future_career_concerns</th>\n",
              "      <th>social_support</th>\n",
              "      <th>peer_pressure</th>\n",
              "      <th>extracurricular_activities</th>\n",
              "      <th>bullying</th>\n",
              "      <th>stress_level</th>\n",
              "    </tr>\n",
              "  </thead>\n",
              "  <tbody>\n",
              "    <tr>\n",
              "      <th>count</th>\n",
              "      <td>1100.000000</td>\n",
              "      <td>1100.000000</td>\n",
              "      <td>1100.000000</td>\n",
              "      <td>1100.000000</td>\n",
              "      <td>1100.000000</td>\n",
              "      <td>1100.000000</td>\n",
              "      <td>1100.000000</td>\n",
              "      <td>1100.000000</td>\n",
              "      <td>1100.000000</td>\n",
              "      <td>1100.000000</td>\n",
              "      <td>...</td>\n",
              "      <td>1100.000000</td>\n",
              "      <td>1100.000000</td>\n",
              "      <td>1100.000000</td>\n",
              "      <td>1100.000000</td>\n",
              "      <td>1100.000000</td>\n",
              "      <td>1100.000000</td>\n",
              "      <td>1100.000000</td>\n",
              "      <td>1100.000000</td>\n",
              "      <td>1100.000000</td>\n",
              "      <td>1100.000000</td>\n",
              "    </tr>\n",
              "    <tr>\n",
              "      <th>mean</th>\n",
              "      <td>11.063636</td>\n",
              "      <td>17.777273</td>\n",
              "      <td>0.492727</td>\n",
              "      <td>12.555455</td>\n",
              "      <td>2.508182</td>\n",
              "      <td>2.181818</td>\n",
              "      <td>2.660000</td>\n",
              "      <td>2.753636</td>\n",
              "      <td>2.649091</td>\n",
              "      <td>2.518182</td>\n",
              "      <td>...</td>\n",
              "      <td>2.772727</td>\n",
              "      <td>2.772727</td>\n",
              "      <td>2.621818</td>\n",
              "      <td>2.648182</td>\n",
              "      <td>2.649091</td>\n",
              "      <td>1.881818</td>\n",
              "      <td>2.734545</td>\n",
              "      <td>2.767273</td>\n",
              "      <td>2.617273</td>\n",
              "      <td>0.996364</td>\n",
              "    </tr>\n",
              "    <tr>\n",
              "      <th>std</th>\n",
              "      <td>6.117558</td>\n",
              "      <td>8.944599</td>\n",
              "      <td>0.500175</td>\n",
              "      <td>7.727008</td>\n",
              "      <td>1.409356</td>\n",
              "      <td>0.833575</td>\n",
              "      <td>1.548383</td>\n",
              "      <td>1.400713</td>\n",
              "      <td>1.328127</td>\n",
              "      <td>1.119208</td>\n",
              "      <td>...</td>\n",
              "      <td>1.433761</td>\n",
              "      <td>1.414594</td>\n",
              "      <td>1.315781</td>\n",
              "      <td>1.384579</td>\n",
              "      <td>1.529375</td>\n",
              "      <td>1.047826</td>\n",
              "      <td>1.425265</td>\n",
              "      <td>1.417562</td>\n",
              "      <td>1.530958</td>\n",
              "      <td>0.821673</td>\n",
              "    </tr>\n",
              "    <tr>\n",
              "      <th>min</th>\n",
              "      <td>0.000000</td>\n",
              "      <td>0.000000</td>\n",
              "      <td>0.000000</td>\n",
              "      <td>0.000000</td>\n",
              "      <td>0.000000</td>\n",
              "      <td>1.000000</td>\n",
              "      <td>0.000000</td>\n",
              "      <td>0.000000</td>\n",
              "      <td>0.000000</td>\n",
              "      <td>0.000000</td>\n",
              "      <td>...</td>\n",
              "      <td>0.000000</td>\n",
              "      <td>0.000000</td>\n",
              "      <td>0.000000</td>\n",
              "      <td>0.000000</td>\n",
              "      <td>0.000000</td>\n",
              "      <td>0.000000</td>\n",
              "      <td>0.000000</td>\n",
              "      <td>0.000000</td>\n",
              "      <td>0.000000</td>\n",
              "      <td>0.000000</td>\n",
              "    </tr>\n",
              "    <tr>\n",
              "      <th>25%</th>\n",
              "      <td>6.000000</td>\n",
              "      <td>11.000000</td>\n",
              "      <td>0.000000</td>\n",
              "      <td>6.000000</td>\n",
              "      <td>1.000000</td>\n",
              "      <td>1.000000</td>\n",
              "      <td>1.000000</td>\n",
              "      <td>2.000000</td>\n",
              "      <td>2.000000</td>\n",
              "      <td>2.000000</td>\n",
              "      <td>...</td>\n",
              "      <td>2.000000</td>\n",
              "      <td>2.000000</td>\n",
              "      <td>2.000000</td>\n",
              "      <td>2.000000</td>\n",
              "      <td>1.000000</td>\n",
              "      <td>1.000000</td>\n",
              "      <td>2.000000</td>\n",
              "      <td>2.000000</td>\n",
              "      <td>1.000000</td>\n",
              "      <td>0.000000</td>\n",
              "    </tr>\n",
              "    <tr>\n",
              "      <th>50%</th>\n",
              "      <td>11.000000</td>\n",
              "      <td>19.000000</td>\n",
              "      <td>0.000000</td>\n",
              "      <td>12.000000</td>\n",
              "      <td>3.000000</td>\n",
              "      <td>2.000000</td>\n",
              "      <td>2.500000</td>\n",
              "      <td>3.000000</td>\n",
              "      <td>3.000000</td>\n",
              "      <td>2.000000</td>\n",
              "      <td>...</td>\n",
              "      <td>3.000000</td>\n",
              "      <td>2.000000</td>\n",
              "      <td>2.000000</td>\n",
              "      <td>2.000000</td>\n",
              "      <td>2.000000</td>\n",
              "      <td>2.000000</td>\n",
              "      <td>2.000000</td>\n",
              "      <td>2.500000</td>\n",
              "      <td>3.000000</td>\n",
              "      <td>1.000000</td>\n",
              "    </tr>\n",
              "    <tr>\n",
              "      <th>75%</th>\n",
              "      <td>16.000000</td>\n",
              "      <td>26.000000</td>\n",
              "      <td>1.000000</td>\n",
              "      <td>19.000000</td>\n",
              "      <td>3.000000</td>\n",
              "      <td>3.000000</td>\n",
              "      <td>4.000000</td>\n",
              "      <td>4.000000</td>\n",
              "      <td>3.000000</td>\n",
              "      <td>3.000000</td>\n",
              "      <td>...</td>\n",
              "      <td>4.000000</td>\n",
              "      <td>4.000000</td>\n",
              "      <td>3.000000</td>\n",
              "      <td>4.000000</td>\n",
              "      <td>4.000000</td>\n",
              "      <td>3.000000</td>\n",
              "      <td>4.000000</td>\n",
              "      <td>4.000000</td>\n",
              "      <td>4.000000</td>\n",
              "      <td>2.000000</td>\n",
              "    </tr>\n",
              "    <tr>\n",
              "      <th>max</th>\n",
              "      <td>21.000000</td>\n",
              "      <td>30.000000</td>\n",
              "      <td>1.000000</td>\n",
              "      <td>27.000000</td>\n",
              "      <td>5.000000</td>\n",
              "      <td>3.000000</td>\n",
              "      <td>5.000000</td>\n",
              "      <td>5.000000</td>\n",
              "      <td>5.000000</td>\n",
              "      <td>5.000000</td>\n",
              "      <td>...</td>\n",
              "      <td>5.000000</td>\n",
              "      <td>5.000000</td>\n",
              "      <td>5.000000</td>\n",
              "      <td>5.000000</td>\n",
              "      <td>5.000000</td>\n",
              "      <td>3.000000</td>\n",
              "      <td>5.000000</td>\n",
              "      <td>5.000000</td>\n",
              "      <td>5.000000</td>\n",
              "      <td>2.000000</td>\n",
              "    </tr>\n",
              "  </tbody>\n",
              "</table>\n",
              "<p>8 rows × 21 columns</p>\n",
              "</div>"
            ],
            "text/plain": [
              "       anxiety_level  self_esteem  mental_health_history   depression  \\\n",
              "count    1100.000000  1100.000000            1100.000000  1100.000000   \n",
              "mean       11.063636    17.777273               0.492727    12.555455   \n",
              "std         6.117558     8.944599               0.500175     7.727008   \n",
              "min         0.000000     0.000000               0.000000     0.000000   \n",
              "25%         6.000000    11.000000               0.000000     6.000000   \n",
              "50%        11.000000    19.000000               0.000000    12.000000   \n",
              "75%        16.000000    26.000000               1.000000    19.000000   \n",
              "max        21.000000    30.000000               1.000000    27.000000   \n",
              "\n",
              "          headache  blood_pressure  sleep_quality  breathing_problem  \\\n",
              "count  1100.000000     1100.000000    1100.000000        1100.000000   \n",
              "mean      2.508182        2.181818       2.660000           2.753636   \n",
              "std       1.409356        0.833575       1.548383           1.400713   \n",
              "min       0.000000        1.000000       0.000000           0.000000   \n",
              "25%       1.000000        1.000000       1.000000           2.000000   \n",
              "50%       3.000000        2.000000       2.500000           3.000000   \n",
              "75%       3.000000        3.000000       4.000000           4.000000   \n",
              "max       5.000000        3.000000       5.000000           5.000000   \n",
              "\n",
              "       noise_level  living_conditions  ...  basic_needs  academic_performance  \\\n",
              "count  1100.000000        1100.000000  ...  1100.000000           1100.000000   \n",
              "mean      2.649091           2.518182  ...     2.772727              2.772727   \n",
              "std       1.328127           1.119208  ...     1.433761              1.414594   \n",
              "min       0.000000           0.000000  ...     0.000000              0.000000   \n",
              "25%       2.000000           2.000000  ...     2.000000              2.000000   \n",
              "50%       3.000000           2.000000  ...     3.000000              2.000000   \n",
              "75%       3.000000           3.000000  ...     4.000000              4.000000   \n",
              "max       5.000000           5.000000  ...     5.000000              5.000000   \n",
              "\n",
              "        study_load  teacher_student_relationship  future_career_concerns  \\\n",
              "count  1100.000000                   1100.000000             1100.000000   \n",
              "mean      2.621818                      2.648182                2.649091   \n",
              "std       1.315781                      1.384579                1.529375   \n",
              "min       0.000000                      0.000000                0.000000   \n",
              "25%       2.000000                      2.000000                1.000000   \n",
              "50%       2.000000                      2.000000                2.000000   \n",
              "75%       3.000000                      4.000000                4.000000   \n",
              "max       5.000000                      5.000000                5.000000   \n",
              "\n",
              "       social_support  peer_pressure  extracurricular_activities     bullying  \\\n",
              "count     1100.000000    1100.000000                 1100.000000  1100.000000   \n",
              "mean         1.881818       2.734545                    2.767273     2.617273   \n",
              "std          1.047826       1.425265                    1.417562     1.530958   \n",
              "min          0.000000       0.000000                    0.000000     0.000000   \n",
              "25%          1.000000       2.000000                    2.000000     1.000000   \n",
              "50%          2.000000       2.000000                    2.500000     3.000000   \n",
              "75%          3.000000       4.000000                    4.000000     4.000000   \n",
              "max          3.000000       5.000000                    5.000000     5.000000   \n",
              "\n",
              "       stress_level  \n",
              "count   1100.000000  \n",
              "mean       0.996364  \n",
              "std        0.821673  \n",
              "min        0.000000  \n",
              "25%        0.000000  \n",
              "50%        1.000000  \n",
              "75%        2.000000  \n",
              "max        2.000000  \n",
              "\n",
              "[8 rows x 21 columns]"
            ]
          },
          "execution_count": 8,
          "metadata": {},
          "output_type": "execute_result"
        }
      ],
      "source": [
        "df.describe()"
      ]
    },
    {
      "cell_type": "code",
      "execution_count": 9,
      "metadata": {
        "id": "6aIO1bOAfXGL"
      },
      "outputs": [],
      "source": [
        "psych_factors = ['anxiety_level', 'self_esteem', 'mental_health_history', 'depression']\n",
        "physio_factors = ['headache', 'blood_pressure', 'sleep_quality', 'breathing_problem']\n",
        "env_factors = ['noise_level', 'living_conditions', 'safety', 'basic_needs']\n",
        "academic_factors = ['academic_performance', 'study_load', 'teacher_student_relationship', 'future_career_concerns']\n",
        "social_factors = ['social_support', 'peer_pressure', 'extracurricular_activities', 'bullying']"
      ]
    },
    {
      "cell_type": "code",
      "execution_count": 10,
      "metadata": {
        "colab": {
          "base_uri": "https://localhost:8080/",
          "height": 853
        },
        "id": "svFltzTpA-kK",
        "outputId": "c97b6f7b-cb9e-4685-90ef-c039c72f54aa"
      },
      "outputs": [
        {
          "data": {
            "text/plain": [
              "<Axes: >"
            ]
          },
          "execution_count": 10,
          "metadata": {},
          "output_type": "execute_result"
        },
        {
          "data": {
            "image/png": "[encoded data removed]",
            "text/plain": [
              "<Figure size 1000x1000 with 2 Axes>"
            ]
          },
          "metadata": {},
          "output_type": "display_data"
        }
      ],
      "source": [
        "corr = df.corr()[[target]]\n",
        "plt.figure(figsize = (10,10))\n",
        "sns.heatmap(corr,  annot=True)"
      ]
    },
    {
      "cell_type": "code",
      "execution_count": 11,
      "metadata": {
        "colab": {
          "base_uri": "https://localhost:8080/",
          "height": 542
        },
        "id": "gwho9272DOkn",
        "outputId": "a76ca456-4965-4986-8171-1ca4314a1757"
      },
      "outputs": [
        {
          "data": {
            "application/vnd.plotly.v1+json": {
              "config": {
                "plotlyServerURL": "https://plot.ly"
              },
              "data": [
                {
                  "alignmentgroup": "True",
                  "bingroup": "x",
                  "hovertemplate": "stress_level=%{x}<br>count=%{y}<extra></extra>",
                  "legendgroup": "1",
                  "marker": {
                    "color": "#636efa",
                    "pattern": {
                      "shape": ""
                    }
                  },
                  "name": "1",
                  "offsetgroup": "1",
                  "orientation": "v",
                  "showlegend": true,
                  "type": "histogram",
                  "x": [
                    1,
                    1,
                    1,
                    1,
                    1,
                    1,
                    1,
                    1,
                    1,
                    1,
                    1,
                    1,
                    1,
                    1,
                    1,
                    1,
                    1,
                    1,
                    1,
                    1,
                    1,
                    1,
                    1,
                    1,
                    1,
                    1,
                    1,
                    1,
                    1,
                    1,
                    1,
                    1,
                    1,
                    1,
                    1,
                    1,
                    1,
                    1,
                    1,
                    1,
                    1,
                    1,
                    1,
                    1,
                    1,
                    1,
                    1,
                    1,
                    1,
                    1,
                    1,
                    1,
                    1,
                    1,
                    1,
                    1,
                    1,
                    1,
                    1,
                    1,
                    1,
                    1,
                    1,
                    1,
                    1,
                    1,
                    1,
                    1,
                    1,
                    1,
                    1,
                    1,
                    1,
                    1,
                    1,
                    1,
                    1,
                    1,
                    1,
                    1,
                    1,
                    1,
                    1,
                    1,
                    1,
                    1,
                    1,
                    1,
                    1,
                    1,
                    1,
                    1,
                    1,
                    1,
                    1,
                    1,
                    1,
                    1,
                    1,
                    1,
                    1,
                    1,
                    1,
                    1,
                    1,
                    1,
                    1,
                    1,
                    1,
                    1,
                    1,
                    1,
                    1,
                    1,
                    1,
                    1,
                    1,
                    1,
                    1,
                    1,
                    1,
                    1,
                    1,
                    1,
                    1,
                    1,
                    1,
                    1,
                    1,
                    1,
                    1,
                    1,
                    1,
                    1,
                    1,
                    1,
                    1,
                    1,
                    1,
                    1,
                    1,
                    1,
                    1,
                    1,
                    1,
                    1,
                    1,
                    1,
                    1,
                    1,
                    1,
                    1,
                    1,
                    1,
                    1,
                    1,
                    1,
                    1,
                    1,
                    1,
                    1,
                    1,
                    1,
                    1,
                    1,
                    1,
                    1,
                    1,
                    1,
                    1,
                    1,
                    1,
                    1,
                    1,
                    1,
                    1,
                    1,
                    1,
                    1,
                    1,
                    1,
                    1,
                    1,
                    1,
                    1,
                    1,
                    1,
                    1,
                    1,
                    1,
                    1,
                    1,
                    1,
                    1,
                    1,
                    1,
                    1,
                    1,
                    1,
                    1,
                    1,
                    1,
                    1,
                    1,
                    1,
                    1,
                    1,
                    1,
                    1,
                    1,
                    1,
                    1,
                    1,
                    1,
                    1,
                    1,
                    1,
                    1,
                    1,
                    1,
                    1,
                    1,
                    1,
                    1,
                    1,
                    1,
                    1,
                    1,
                    1,
                    1,
                    1,
                    1,
                    1,
                    1,
                    1,
                    1,
                    1,
                    1,
                    1,
                    1,
                    1,
                    1,
                    1,
                    1,
                    1,
                    1,
                    1,
                    1,
                    1,
                    1,
                    1,
                    1,
                    1,
                    1,
                    1,
                    1,
                    1,
                    1,
                    1,
                    1,
                    1,
                    1,
                    1,
                    1,
                    1,
                    1,
                    1,
                    1,
                    1,
                    1,
                    1,
                    1,
                    1,
                    1,
                    1,
                    1,
                    1,
                    1,
                    1,
                    1,
                    1,
                    1,
                    1,
                    1,
                    1,
                    1,
                    1,
                    1,
                    1,
                    1,
                    1,
                    1,
                    1,
                    1,
                    1,
                    1,
                    1,
                    1,
                    1,
                    1,
                    1,
                    1,
                    1,
                    1,
                    1,
                    1,
                    1,
                    1,
                    1,
                    1,
                    1,
                    1,
                    1,
                    1,
                    1,
                    1,
                    1,
                    1,
                    1,
                    1,
                    1,
                    1,
                    1,
                    1,
                    1,
                    1,
                    1,
                    1,
                    1,
                    1,
                    1,
                    1,
                    1,
                    1,
                    1,
                    1,
                    1,
                    1,
                    1,
                    1,
                    1,
                    1,
                    1,
                    1,
                    1,
                    1,
                    1,
                    1,
                    1,
                    1,
                    1,
                    1,
                    1,
                    1,
                    1,
                    1,
                    1,
                    1
                  ],
                  "xaxis": "x",
                  "yaxis": "y"
                },
                {
                  "alignmentgroup": "True",
                  "bingroup": "x",
                  "hovertemplate": "stress_level=%{x}<br>count=%{y}<extra></extra>",
                  "legendgroup": "2",
                  "marker": {
                    "color": "#EF553B",
                    "pattern": {
                      "shape": ""
                    }
                  },
                  "name": "2",
                  "offsetgroup": "2",
                  "orientation": "v",
                  "showlegend": true,
                  "type": "histogram",
                  "x": [
                    2,
                    2,
                    2,
                    2,
                    2,
                    2,
                    2,
                    2,
                    2,
                    2,
                    2,
                    2,
                    2,
                    2,
                    2,
                    2,
                    2,
                    2,
                    2,
                    2,
                    2,
                    2,
                    2,
                    2,
                    2,
                    2,
                    2,
                    2,
                    2,
                    2,
                    2,
                    2,
                    2,
                    2,
                    2,
                    2,
                    2,
                    2,
                    2,
                    2,
                    2,
                    2,
                    2,
                    2,
                    2,
                    2,
                    2,
                    2,
                    2,
                    2,
                    2,
                    2,
                    2,
                    2,
                    2,
                    2,
                    2,
                    2,
                    2,
                    2,
                    2,
                    2,
                    2,
                    2,
                    2,
                    2,
                    2,
                    2,
                    2,
                    2,
                    2,
                    2,
                    2,
                    2,
                    2,
                    2,
                    2,
                    2,
                    2,
                    2,
                    2,
                    2,
                    2,
                    2,
                    2,
                    2,
                    2,
                    2,
                    2,
                    2,
                    2,
                    2,
                    2,
                    2,
                    2,
                    2,
                    2,
                    2,
                    2,
                    2,
                    2,
                    2,
                    2,
                    2,
                    2,
                    2,
                    2,
                    2,
                    2,
                    2,
                    2,
                    2,
                    2,
                    2,
                    2,
                    2,
                    2,
                    2,
                    2,
                    2,
                    2,
                    2,
                    2,
                    2,
                    2,
                    2,
                    2,
                    2,
                    2,
                    2,
                    2,
                    2,
                    2,
                    2,
                    2,
                    2,
                    2,
                    2,
                    2,
                    2,
                    2,
                    2,
                    2,
                    2,
                    2,
                    2,
                    2,
                    2,
                    2,
                    2,
                    2,
                    2,
                    2,
                    2,
                    2,
                    2,
                    2,
                    2,
                    2,
                    2,
                    2,
                    2,
                    2,
                    2,
                    2,
                    2,
                    2,
                    2,
                    2,
                    2,
                    2,
                    2,
                    2,
                    2,
                    2,
                    2,
                    2,
                    2,
                    2,
                    2,
                    2,
                    2,
                    2,
                    2,
                    2,
                    2,
                    2,
                    2,
                    2,
                    2,
                    2,
                    2,
                    2,
                    2,
                    2,
                    2,
                    2,
                    2,
                    2,
                    2,
                    2,
                    2,
                    2,
                    2,
                    2,
                    2,
                    2,
                    2,
                    2,
                    2,
                    2,
                    2,
                    2,
                    2,
                    2,
                    2,
                    2,
                    2,
                    2,
                    2,
                    2,
                    2,
                    2,
                    2,
                    2,
                    2,
                    2,
                    2,
                    2,
                    2,
                    2,
                    2,
                    2,
                    2,
                    2,
                    2,
                    2,
                    2,
                    2,
                    2,
                    2,
                    2,
                    2,
                    2,
                    2,
                    2,
                    2,
                    2,
                    2,
                    2,
                    2,
                    2,
                    2,
                    2,
                    2,
                    2,
                    2,
                    2,
                    2,
                    2,
                    2,
                    2,
                    2,
                    2,
                    2,
                    2,
                    2,
                    2,
                    2,
                    2,
                    2,
                    2,
                    2,
                    2,
                    2,
                    2,
                    2,
                    2,
                    2,
                    2,
                    2,
                    2,
                    2,
                    2,
                    2,
                    2,
                    2,
                    2,
                    2,
                    2,
                    2,
                    2,
                    2,
                    2,
                    2,
                    2,
                    2,
                    2,
                    2,
                    2,
                    2,
                    2,
                    2,
                    2,
                    2,
                    2,
                    2,
                    2,
                    2,
                    2,
                    2,
                    2,
                    2,
                    2,
                    2,
                    2,
                    2,
                    2,
                    2,
                    2,
                    2,
                    2,
                    2,
                    2,
                    2,
                    2,
                    2,
                    2,
                    2,
                    2,
                    2,
                    2,
                    2,
                    2,
                    2,
                    2,
                    2,
                    2,
                    2,
                    2,
                    2,
                    2,
                    2,
                    2,
                    2,
                    2,
                    2,
                    2,
                    2,
                    2,
                    2,
                    2,
                    2,
                    2,
                    2,
                    2,
                    2,
                    2,
                    2,
                    2,
                    2,
                    2,
                    2,
                    2,
                    2,
                    2,
                    2,
                    2,
                    2
                  ],
                  "xaxis": "x",
                  "yaxis": "y"
                },
                {
                  "alignmentgroup": "True",
                  "bingroup": "x",
                  "hovertemplate": "stress_level=%{x}<br>count=%{y}<extra></extra>",
                  "legendgroup": "0",
                  "marker": {
                    "color": "#00cc96",
                    "pattern": {
                      "shape": ""
                    }
                  },
                  "name": "0",
                  "offsetgroup": "0",
                  "orientation": "v",
                  "showlegend": true,
                  "type": "histogram",
                  "x": [
                    0,
                    0,
                    0,
                    0,
                    0,
                    0,
                    0,
                    0,
                    0,
                    0,
                    0,
                    0,
                    0,
                    0,
                    0,
                    0,
                    0,
                    0,
                    0,
                    0,
                    0,
                    0,
                    0,
                    0,
                    0,
                    0,
                    0,
                    0,
                    0,
                    0,
                    0,
                    0,
                    0,
                    0,
                    0,
                    0,
                    0,
                    0,
                    0,
                    0,
                    0,
                    0,
                    0,
                    0,
                    0,
                    0,
                    0,
                    0,
                    0,
                    0,
                    0,
                    0,
                    0,
                    0,
                    0,
                    0,
                    0,
                    0,
                    0,
                    0,
                    0,
                    0,
                    0,
                    0,
                    0,
                    0,
                    0,
                    0,
                    0,
                    0,
                    0,
                    0,
                    0,
                    0,
                    0,
                    0,
                    0,
                    0,
                    0,
                    0,
                    0,
                    0,
                    0,
                    0,
                    0,
                    0,
                    0,
                    0,
                    0,
                    0,
                    0,
                    0,
                    0,
                    0,
                    0,
                    0,
                    0,
                    0,
                    0,
                    0,
                    0,
                    0,
                    0,
                    0,
                    0,
                    0,
                    0,
                    0,
                    0,
                    0,
                    0,
                    0,
                    0,
                    0,
                    0,
                    0,
                    0,
                    0,
                    0,
                    0,
                    0,
                    0,
                    0,
                    0,
                    0,
                    0,
                    0,
                    0,
                    0,
                    0,
                    0,
                    0,
                    0,
                    0,
                    0,
                    0,
                    0,
                    0,
                    0,
                    0,
                    0,
                    0,
                    0,
                    0,
                    0,
                    0,
                    0,
                    0,
                    0,
                    0,
                    0,
                    0,
                    0,
                    0,
                    0,
                    0,
                    0,
                    0,
                    0,
                    0,
                    0,
                    0,
                    0,
                    0,
                    0,
                    0,
                    0,
                    0,
                    0,
                    0,
                    0,
                    0,
                    0,
                    0,
                    0,
                    0,
                    0,
                    0,
                    0,
                    0,
                    0,
                    0,
                    0,
                    0,
                    0,
                    0,
                    0,
                    0,
                    0,
                    0,
                    0,
                    0,
                    0,
                    0,
                    0,
                    0,
                    0,
                    0,
                    0,
                    0,
                    0,
                    0,
                    0,
                    0,
                    0,
                    0,
                    0,
                    0,
                    0,
                    0,
                    0,
                    0,
                    0,
                    0,
                    0,
                    0,
                    0,
                    0,
                    0,
                    0,
                    0,
                    0,
                    0,
                    0,
                    0,
                    0,
                    0,
                    0,
                    0,
                    0,
                    0,
                    0,
                    0,
                    0,
                    0,
                    0,
                    0,
                    0,
                    0,
                    0,
                    0,
                    0,
                    0,
                    0,
                    0,
                    0,
                    0,
                    0,
                    0,
                    0,
                    0,
                    0,
                    0,
                    0,
                    0,
                    0,
                    0,
                    0,
                    0,
                    0,
                    0,
                    0,
                    0,
                    0,
                    0,
                    0,
                    0,
                    0,
                    0,
                    0,
                    0,
                    0,
                    0,
                    0,
                    0,
                    0,
                    0,
                    0,
                    0,
                    0,
                    0,
                    0,
                    0,
                    0,
                    0,
                    0,
                    0,
                    0,
                    0,
                    0,
                    0,
                    0,
                    0,
                    0,
                    0,
                    0,
                    0,
                    0,
                    0,
                    0,
                    0,
                    0,
                    0,
                    0,
                    0,
                    0,
                    0,
                    0,
                    0,
                    0,
                    0,
                    0,
                    0,
                    0,
                    0,
                    0,
                    0,
                    0,
                    0,
                    0,
                    0,
                    0,
                    0,
                    0,
                    0,
                    0,
                    0,
                    0,
                    0,
                    0,
                    0,
                    0,
                    0,
                    0,
                    0,
                    0,
                    0,
                    0,
                    0,
                    0,
                    0,
                    0,
                    0,
                    0,
                    0,
                    0,
                    0,
                    0,
                    0,
                    0,
                    0,
                    0,
                    0,
                    0,
                    0,
                    0,
                    0,
                    0,
                    0,
                    0,
                    0,
                    0,
                    0,
                    0,
                    0,
                    0,
                    0,
                    0,
                    0,
                    0,
                    0,
                    0,
                    0
                  ],
                  "xaxis": "x",
                  "yaxis": "y"
                }
              ],
              "layout": {
                "bargap": 0.2,
                "barmode": "relative",
                "legend": {
                  "title": {
                    "text": "stress_level"
                  },
                  "tracegroupgap": 0
                },
                "margin": {
                  "t": 60
                },
                "template": {
                  "data": {
                    "bar": [
                      {
                        "error_x": {
                          "color": "#2a3f5f"
                        },
                        "error_y": {
                          "color": "#2a3f5f"
                        },
                        "marker": {
                          "line": {
                            "color": "#E5ECF6",
                            "width": 0.5
                          },
                          "pattern": {
                            "fillmode": "overlay",
                            "size": 10,
                            "solidity": 0.2
                          }
                        },
                        "type": "bar"
                      }
                    ],
                    "barpolar": [
                      {
                        "marker": {
                          "line": {
                            "color": "#E5ECF6",
                            "width": 0.5
                          },
                          "pattern": {
                            "fillmode": "overlay",
                            "size": 10,
                            "solidity": 0.2
                          }
                        },
                        "type": "barpolar"
                      }
                    ],
                    "carpet": [
                      {
                        "aaxis": {
                          "endlinecolor": "#2a3f5f",
                          "gridcolor": "white",
                          "linecolor": "white",
                          "minorgridcolor": "white",
                          "startlinecolor": "#2a3f5f"
                        },
                        "baxis": {
                          "endlinecolor": "#2a3f5f",
                          "gridcolor": "white",
                          "linecolor": "white",
                          "minorgridcolor": "white",
                          "startlinecolor": "#2a3f5f"
                        },
                        "type": "carpet"
                      }
                    ],
                    "choropleth": [
                      {
                        "colorbar": {
                          "outlinewidth": 0,
                          "ticks": ""
                        },
                        "type": "choropleth"
                      }
                    ],
                    "contour": [
                      {
                        "colorbar": {
                          "outlinewidth": 0,
                          "ticks": ""
                        },
                        "colorscale": [
                          [
                            0,
                            "#0d0887"
                          ],
                          [
                            0.1111111111111111,
                            "#46039f"
                          ],
                          [
                            0.2222222222222222,
                            "#7201a8"
                          ],
                          [
                            0.3333333333333333,
                            "#9c179e"
                          ],
                          [
                            0.4444444444444444,
                            "#bd3786"
                          ],
                          [
                            0.5555555555555556,
                            "#d8576b"
                          ],
                          [
                            0.6666666666666666,
                            "#ed7953"
                          ],
                          [
                            0.7777777777777778,
                            "#fb9f3a"
                          ],
                          [
                            0.8888888888888888,
                            "#fdca26"
                          ],
                          [
                            1,
                            "#f0f921"
                          ]
                        ],
                        "type": "contour"
                      }
                    ],
                    "contourcarpet": [
                      {
                        "colorbar": {
                          "outlinewidth": 0,
                          "ticks": ""
                        },
                        "type": "contourcarpet"
                      }
                    ],
                    "heatmap": [
                      {
                        "colorbar": {
                          "outlinewidth": 0,
                          "ticks": ""
                        },
                        "colorscale": [
                          [
                            0,
                            "#0d0887"
                          ],
                          [
                            0.1111111111111111,
                            "#46039f"
                          ],
                          [
                            0.2222222222222222,
                            "#7201a8"
                          ],
                          [
                            0.3333333333333333,
                            "#9c179e"
                          ],
                          [
                            0.4444444444444444,
                            "#bd3786"
                          ],
                          [
                            0.5555555555555556,
                            "#d8576b"
                          ],
                          [
                            0.6666666666666666,
                            "#ed7953"
                          ],
                          [
                            0.7777777777777778,
                            "#fb9f3a"
                          ],
                          [
                            0.8888888888888888,
                            "#fdca26"
                          ],
                          [
                            1,
                            "#f0f921"
                          ]
                        ],
                        "type": "heatmap"
                      }
                    ],
                    "heatmapgl": [
                      {
                        "colorbar": {
                          "outlinewidth": 0,
                          "ticks": ""
                        },
                        "colorscale": [
                          [
                            0,
                            "#0d0887"
                          ],
                          [
                            0.1111111111111111,
                            "#46039f"
                          ],
                          [
                            0.2222222222222222,
                            "#7201a8"
                          ],
                          [
                            0.3333333333333333,
                            "#9c179e"
                          ],
                          [
                            0.4444444444444444,
                            "#bd3786"
                          ],
                          [
                            0.5555555555555556,
                            "#d8576b"
                          ],
                          [
                            0.6666666666666666,
                            "#ed7953"
                          ],
                          [
                            0.7777777777777778,
                            "#fb9f3a"
                          ],
                          [
                            0.8888888888888888,
                            "#fdca26"
                          ],
                          [
                            1,
                            "#f0f921"
                          ]
                        ],
                        "type": "heatmapgl"
                      }
                    ],
                    "histogram": [
                      {
                        "marker": {
                          "pattern": {
                            "fillmode": "overlay",
                            "size": 10,
                            "solidity": 0.2
                          }
                        },
                        "type": "histogram"
                      }
                    ],
                    "histogram2d": [
                      {
                        "colorbar": {
                          "outlinewidth": 0,
                          "ticks": ""
                        },
                        "colorscale": [
                          [
                            0,
                            "#0d0887"
                          ],
                          [
                            0.1111111111111111,
                            "#46039f"
                          ],
                          [
                            0.2222222222222222,
                            "#7201a8"
                          ],
                          [
                            0.3333333333333333,
                            "#9c179e"
                          ],
                          [
                            0.4444444444444444,
                            "#bd3786"
                          ],
                          [
                            0.5555555555555556,
                            "#d8576b"
                          ],
                          [
                            0.6666666666666666,
                            "#ed7953"
                          ],
                          [
                            0.7777777777777778,
                            "#fb9f3a"
                          ],
                          [
                            0.8888888888888888,
                            "#fdca26"
                          ],
                          [
                            1,
                            "#f0f921"
                          ]
                        ],
                        "type": "histogram2d"
                      }
                    ],
                    "histogram2dcontour": [
                      {
                        "colorbar": {
                          "outlinewidth": 0,
                          "ticks": ""
                        },
                        "colorscale": [
                          [
                            0,
                            "#0d0887"
                          ],
                          [
                            0.1111111111111111,
                            "#46039f"
                          ],
                          [
                            0.2222222222222222,
                            "#7201a8"
                          ],
                          [
                            0.3333333333333333,
                            "#9c179e"
                          ],
                          [
                            0.4444444444444444,
                            "#bd3786"
                          ],
                          [
                            0.5555555555555556,
                            "#d8576b"
                          ],
                          [
                            0.6666666666666666,
                            "#ed7953"
                          ],
                          [
                            0.7777777777777778,
                            "#fb9f3a"
                          ],
                          [
                            0.8888888888888888,
                            "#fdca26"
                          ],
                          [
                            1,
                            "#f0f921"
                          ]
                        ],
                        "type": "histogram2dcontour"
                      }
                    ],
                    "mesh3d": [
                      {
                        "colorbar": {
                          "outlinewidth": 0,
                          "ticks": ""
                        },
                        "type": "mesh3d"
                      }
                    ],
                    "parcoords": [
                      {
                        "line": {
                          "colorbar": {
                            "outlinewidth": 0,
                            "ticks": ""
                          }
                        },
                        "type": "parcoords"
                      }
                    ],
                    "pie": [
                      {
                        "automargin": true,
                        "type": "pie"
                      }
                    ],
                    "scatter": [
                      {
                        "fillpattern": {
                          "fillmode": "overlay",
                          "size": 10,
                          "solidity": 0.2
                        },
                        "type": "scatter"
                      }
                    ],
                    "scatter3d": [
                      {
                        "line": {
                          "colorbar": {
                            "outlinewidth": 0,
                            "ticks": ""
                          }
                        },
                        "marker": {
                          "colorbar": {
                            "outlinewidth": 0,
                            "ticks": ""
                          }
                        },
                        "type": "scatter3d"
                      }
                    ],
                    "scattercarpet": [
                      {
                        "marker": {
                          "colorbar": {
                            "outlinewidth": 0,
                            "ticks": ""
                          }
                        },
                        "type": "scattercarpet"
                      }
                    ],
                    "scattergeo": [
                      {
                        "marker": {
                          "colorbar": {
                            "outlinewidth": 0,
                            "ticks": ""
                          }
                        },
                        "type": "scattergeo"
                      }
                    ],
                    "scattergl": [
                      {
                        "marker": {
                          "colorbar": {
                            "outlinewidth": 0,
                            "ticks": ""
                          }
                        },
                        "type": "scattergl"
                      }
                    ],
                    "scattermapbox": [
                      {
                        "marker": {
                          "colorbar": {
                            "outlinewidth": 0,
                            "ticks": ""
                          }
                        },
                        "type": "scattermapbox"
                      }
                    ],
                    "scatterpolar": [
                      {
                        "marker": {
                          "colorbar": {
                            "outlinewidth": 0,
                            "ticks": ""
                          }
                        },
                        "type": "scatterpolar"
                      }
                    ],
                    "scatterpolargl": [
                      {
                        "marker": {
                          "colorbar": {
                            "outlinewidth": 0,
                            "ticks": ""
                          }
                        },
                        "type": "scatterpolargl"
                      }
                    ],
                    "scatterternary": [
                      {
                        "marker": {
                          "colorbar": {
                            "outlinewidth": 0,
                            "ticks": ""
                          }
                        },
                        "type": "scatterternary"
                      }
                    ],
                    "surface": [
                      {
                        "colorbar": {
                          "outlinewidth": 0,
                          "ticks": ""
                        },
                        "colorscale": [
                          [
                            0,
                            "#0d0887"
                          ],
                          [
                            0.1111111111111111,
                            "#46039f"
                          ],
                          [
                            0.2222222222222222,
                            "#7201a8"
                          ],
                          [
                            0.3333333333333333,
                            "#9c179e"
                          ],
                          [
                            0.4444444444444444,
                            "#bd3786"
                          ],
                          [
                            0.5555555555555556,
                            "#d8576b"
                          ],
                          [
                            0.6666666666666666,
                            "#ed7953"
                          ],
                          [
                            0.7777777777777778,
                            "#fb9f3a"
                          ],
                          [
                            0.8888888888888888,
                            "#fdca26"
                          ],
                          [
                            1,
                            "#f0f921"
                          ]
                        ],
                        "type": "surface"
                      }
                    ],
                    "table": [
                      {
                        "cells": {
                          "fill": {
                            "color": "#EBF0F8"
                          },
                          "line": {
                            "color": "white"
                          }
                        },
                        "header": {
                          "fill": {
                            "color": "#C8D4E3"
                          },
                          "line": {
                            "color": "white"
                          }
                        },
                        "type": "table"
                      }
                    ]
                  },
                  "layout": {
                    "annotationdefaults": {
                      "arrowcolor": "#2a3f5f",
                      "arrowhead": 0,
                      "arrowwidth": 1
                    },
                    "autotypenumbers": "strict",
                    "coloraxis": {
                      "colorbar": {
                        "outlinewidth": 0,
                        "ticks": ""
                      }
                    },
                    "colorscale": {
                      "diverging": [
                        [
                          0,
                          "#8e0152"
                        ],
                        [
                          0.1,
                          "#c51b7d"
                        ],
                        [
                          0.2,
                          "#de77ae"
                        ],
                        [
                          0.3,
                          "#f1b6da"
                        ],
                        [
                          0.4,
                          "#fde0ef"
                        ],
                        [
                          0.5,
                          "#f7f7f7"
                        ],
                        [
                          0.6,
                          "#e6f5d0"
                        ],
                        [
                          0.7,
                          "#b8e186"
                        ],
                        [
                          0.8,
                          "#7fbc41"
                        ],
                        [
                          0.9,
                          "#4d9221"
                        ],
                        [
                          1,
                          "#276419"
                        ]
                      ],
                      "sequential": [
                        [
                          0,
                          "#0d0887"
                        ],
                        [
                          0.1111111111111111,
                          "#46039f"
                        ],
                        [
                          0.2222222222222222,
                          "#7201a8"
                        ],
                        [
                          0.3333333333333333,
                          "#9c179e"
                        ],
                        [
                          0.4444444444444444,
                          "#bd3786"
                        ],
                        [
                          0.5555555555555556,
                          "#d8576b"
                        ],
                        [
                          0.6666666666666666,
                          "#ed7953"
                        ],
                        [
                          0.7777777777777778,
                          "#fb9f3a"
                        ],
                        [
                          0.8888888888888888,
                          "#fdca26"
                        ],
                        [
                          1,
                          "#f0f921"
                        ]
                      ],
                      "sequentialminus": [
                        [
                          0,
                          "#0d0887"
                        ],
                        [
                          0.1111111111111111,
                          "#46039f"
                        ],
                        [
                          0.2222222222222222,
                          "#7201a8"
                        ],
                        [
                          0.3333333333333333,
                          "#9c179e"
                        ],
                        [
                          0.4444444444444444,
                          "#bd3786"
                        ],
                        [
                          0.5555555555555556,
                          "#d8576b"
                        ],
                        [
                          0.6666666666666666,
                          "#ed7953"
                        ],
                        [
                          0.7777777777777778,
                          "#fb9f3a"
                        ],
                        [
                          0.8888888888888888,
                          "#fdca26"
                        ],
                        [
                          1,
                          "#f0f921"
                        ]
                      ]
                    },
                    "colorway": [
                      "#636efa",
                      "#EF553B",
                      "#00cc96",
                      "#ab63fa",
                      "#FFA15A",
                      "#19d3f3",
                      "#FF6692",
                      "#B6E880",
                      "#FF97FF",
                      "#FECB52"
                    ],
                    "font": {
                      "color": "#2a3f5f"
                    },
                    "geo": {
                      "bgcolor": "white",
                      "lakecolor": "white",
                      "landcolor": "#E5ECF6",
                      "showlakes": true,
                      "showland": true,
                      "subunitcolor": "white"
                    },
                    "hoverlabel": {
                      "align": "left"
                    },
                    "hovermode": "closest",
                    "mapbox": {
                      "style": "light"
                    },
                    "paper_bgcolor": "white",
                    "plot_bgcolor": "#E5ECF6",
                    "polar": {
                      "angularaxis": {
                        "gridcolor": "white",
                        "linecolor": "white",
                        "ticks": ""
                      },
                      "bgcolor": "#E5ECF6",
                      "radialaxis": {
                        "gridcolor": "white",
                        "linecolor": "white",
                        "ticks": ""
                      }
                    },
                    "scene": {
                      "xaxis": {
                        "backgroundcolor": "#E5ECF6",
                        "gridcolor": "white",
                        "gridwidth": 2,
                        "linecolor": "white",
                        "showbackground": true,
                        "ticks": "",
                        "zerolinecolor": "white"
                      },
                      "yaxis": {
                        "backgroundcolor": "#E5ECF6",
                        "gridcolor": "white",
                        "gridwidth": 2,
                        "linecolor": "white",
                        "showbackground": true,
                        "ticks": "",
                        "zerolinecolor": "white"
                      },
                      "zaxis": {
                        "backgroundcolor": "#E5ECF6",
                        "gridcolor": "white",
                        "gridwidth": 2,
                        "linecolor": "white",
                        "showbackground": true,
                        "ticks": "",
                        "zerolinecolor": "white"
                      }
                    },
                    "shapedefaults": {
                      "line": {
                        "color": "#2a3f5f"
                      }
                    },
                    "ternary": {
                      "aaxis": {
                        "gridcolor": "white",
                        "linecolor": "white",
                        "ticks": ""
                      },
                      "baxis": {
                        "gridcolor": "white",
                        "linecolor": "white",
                        "ticks": ""
                      },
                      "bgcolor": "#E5ECF6",
                      "caxis": {
                        "gridcolor": "white",
                        "linecolor": "white",
                        "ticks": ""
                      }
                    },
                    "title": {
                      "x": 0.05
                    },
                    "xaxis": {
                      "automargin": true,
                      "gridcolor": "white",
                      "linecolor": "white",
                      "ticks": "",
                      "title": {
                        "standoff": 15
                      },
                      "zerolinecolor": "white",
                      "zerolinewidth": 2
                    },
                    "yaxis": {
                      "automargin": true,
                      "gridcolor": "white",
                      "linecolor": "white",
                      "ticks": "",
                      "title": {
                        "standoff": 15
                      },
                      "zerolinecolor": "white",
                      "zerolinewidth": 2
                    }
                  }
                },
                "xaxis": {
                  "anchor": "y",
                  "categoryarray": [
                    1,
                    2,
                    0
                  ],
                  "categoryorder": "array",
                  "domain": [
                    0,
                    1
                  ],
                  "title": {
                    "text": "stress_level"
                  }
                },
                "yaxis": {
                  "anchor": "x",
                  "domain": [
                    0,
                    1
                  ],
                  "title": {
                    "text": "count"
                  }
                }
              }
            }
          },
          "metadata": {},
          "output_type": "display_data"
        }
      ],
      "source": [
        "px.histogram(df,x=target, color = target).update_layout(bargap=0.2)"
      ]
    },
    {
      "cell_type": "code",
      "execution_count": 12,
      "metadata": {
        "colab": {
          "base_uri": "https://localhost:8080/",
          "height": 542
        },
        "id": "FJZ8S4s5GGBA",
        "outputId": "d242cd20-47bf-4220-b2a5-74e09fc1290a"
      },
      "outputs": [
        {
          "data": {
            "application/vnd.plotly.v1+json": {
              "config": {
                "plotlyServerURL": "https://plot.ly"
              },
              "data": [
                {
                  "alignmentgroup": "True",
                  "bingroup": "x",
                  "hovertemplate": "stress_level=1<br>depression=%{x}<br>count=%{y}<extra></extra>",
                  "legendgroup": "1",
                  "marker": {
                    "color": "#636efa",
                    "pattern": {
                      "shape": ""
                    }
                  },
                  "name": "1",
                  "offsetgroup": "1",
                  "orientation": "v",
                  "showlegend": true,
                  "type": "histogram",
                  "x": [
                    11,
                    14,
                    7,
                    12,
                    27,
                    14,
                    12,
                    14,
                    14,
                    10,
                    9,
                    14,
                    14,
                    10,
                    14,
                    13,
                    11,
                    11,
                    2,
                    10,
                    9,
                    10,
                    18,
                    12,
                    14,
                    12,
                    12,
                    10,
                    13,
                    13,
                    11,
                    13,
                    22,
                    22,
                    13,
                    12,
                    13,
                    12,
                    11,
                    11,
                    14,
                    14,
                    13,
                    13,
                    11,
                    10,
                    11,
                    13,
                    14,
                    14,
                    14,
                    13,
                    10,
                    11,
                    14,
                    6,
                    10,
                    10,
                    13,
                    13,
                    14,
                    22,
                    10,
                    10,
                    13,
                    7,
                    10,
                    10,
                    10,
                    10,
                    10,
                    10,
                    13,
                    10,
                    10,
                    13,
                    11,
                    14,
                    9,
                    12,
                    13,
                    12,
                    11,
                    12,
                    12,
                    20,
                    10,
                    14,
                    12,
                    13,
                    10,
                    10,
                    3,
                    12,
                    10,
                    13,
                    9,
                    10,
                    9,
                    20,
                    12,
                    18,
                    12,
                    14,
                    27,
                    11,
                    11,
                    9,
                    13,
                    13,
                    10,
                    9,
                    26,
                    13,
                    9,
                    9,
                    14,
                    12,
                    14,
                    10,
                    12,
                    14,
                    10,
                    10,
                    12,
                    11,
                    9,
                    13,
                    10,
                    4,
                    9,
                    9,
                    13,
                    13,
                    14,
                    13,
                    17,
                    14,
                    12,
                    12,
                    9,
                    9,
                    20,
                    9,
                    10,
                    12,
                    12,
                    19,
                    5,
                    7,
                    12,
                    1,
                    6,
                    10,
                    5,
                    13,
                    12,
                    10,
                    14,
                    20,
                    14,
                    5,
                    6,
                    9,
                    11,
                    11,
                    0,
                    11,
                    10,
                    10,
                    13,
                    10,
                    10,
                    13,
                    9,
                    3,
                    9,
                    9,
                    12,
                    9,
                    14,
                    13,
                    14,
                    12,
                    9,
                    14,
                    13,
                    10,
                    13,
                    12,
                    10,
                    12,
                    13,
                    11,
                    14,
                    11,
                    9,
                    12,
                    13,
                    13,
                    20,
                    10,
                    11,
                    13,
                    10,
                    11,
                    9,
                    10,
                    10,
                    14,
                    14,
                    14,
                    12,
                    12,
                    13,
                    10,
                    11,
                    14,
                    10,
                    14,
                    0,
                    9,
                    13,
                    26,
                    10,
                    13,
                    12,
                    9,
                    10,
                    12,
                    10,
                    11,
                    13,
                    12,
                    12,
                    10,
                    11,
                    16,
                    14,
                    13,
                    9,
                    13,
                    9,
                    9,
                    13,
                    14,
                    10,
                    11,
                    11,
                    24,
                    10,
                    10,
                    2,
                    9,
                    13,
                    14,
                    9,
                    10,
                    14,
                    11,
                    11,
                    13,
                    12,
                    12,
                    10,
                    12,
                    12,
                    14,
                    14,
                    14,
                    18,
                    13,
                    11,
                    20,
                    12,
                    12,
                    14,
                    13,
                    10,
                    12,
                    11,
                    11,
                    14,
                    14,
                    13,
                    13,
                    24,
                    11,
                    11,
                    13,
                    10,
                    9,
                    14,
                    11,
                    12,
                    13,
                    11,
                    9,
                    14,
                    13,
                    7,
                    13,
                    13,
                    10,
                    21,
                    10,
                    9,
                    12,
                    22,
                    14,
                    11,
                    10,
                    9,
                    12,
                    11,
                    9,
                    9,
                    13,
                    12,
                    11,
                    10,
                    12,
                    14,
                    14,
                    11,
                    11,
                    11,
                    13,
                    10,
                    9,
                    11,
                    12,
                    14,
                    7,
                    23,
                    12,
                    14,
                    9,
                    12,
                    13,
                    3,
                    12,
                    11,
                    6,
                    14,
                    11,
                    12,
                    12,
                    24,
                    13,
                    12,
                    13,
                    10,
                    12,
                    13,
                    9,
                    9,
                    14
                  ],
                  "xaxis": "x",
                  "yaxis": "y"
                },
                {
                  "alignmentgroup": "True",
                  "bingroup": "x",
                  "hovertemplate": "stress_level=2<br>depression=%{x}<br>count=%{y}<extra></extra>",
                  "legendgroup": "2",
                  "marker": {
                    "color": "#EF553B",
                    "pattern": {
                      "shape": ""
                    }
                  },
                  "name": "2",
                  "offsetgroup": "2",
                  "orientation": "v",
                  "showlegend": true,
                  "type": "histogram",
                  "x": [
                    15,
                    15,
                    21,
                    22,
                    25,
                    22,
                    24,
                    25,
                    21,
                    26,
                    27,
                    24,
                    27,
                    20,
                    16,
                    22,
                    27,
                    24,
                    15,
                    23,
                    20,
                    26,
                    20,
                    23,
                    17,
                    21,
                    18,
                    18,
                    18,
                    19,
                    19,
                    23,
                    27,
                    25,
                    20,
                    19,
                    22,
                    27,
                    17,
                    24,
                    18,
                    27,
                    20,
                    1,
                    12,
                    20,
                    20,
                    18,
                    16,
                    27,
                    26,
                    3,
                    26,
                    23,
                    17,
                    23,
                    15,
                    18,
                    21,
                    20,
                    1,
                    26,
                    26,
                    27,
                    27,
                    17,
                    20,
                    15,
                    20,
                    27,
                    17,
                    19,
                    21,
                    12,
                    25,
                    20,
                    21,
                    20,
                    25,
                    19,
                    22,
                    27,
                    24,
                    22,
                    22,
                    18,
                    27,
                    25,
                    21,
                    0,
                    1,
                    19,
                    18,
                    24,
                    18,
                    24,
                    15,
                    26,
                    15,
                    26,
                    18,
                    15,
                    26,
                    19,
                    17,
                    22,
                    23,
                    25,
                    19,
                    18,
                    20,
                    23,
                    15,
                    26,
                    20,
                    27,
                    17,
                    26,
                    19,
                    18,
                    25,
                    21,
                    16,
                    12,
                    21,
                    17,
                    20,
                    26,
                    26,
                    26,
                    15,
                    22,
                    4,
                    19,
                    14,
                    16,
                    20,
                    18,
                    27,
                    18,
                    18,
                    23,
                    23,
                    16,
                    19,
                    27,
                    21,
                    19,
                    15,
                    23,
                    24,
                    4,
                    22,
                    17,
                    22,
                    22,
                    21,
                    17,
                    25,
                    18,
                    24,
                    22,
                    27,
                    23,
                    22,
                    10,
                    11,
                    22,
                    25,
                    24,
                    21,
                    21,
                    19,
                    26,
                    22,
                    24,
                    15,
                    10,
                    24,
                    26,
                    26,
                    16,
                    8,
                    27,
                    15,
                    19,
                    18,
                    18,
                    7,
                    27,
                    18,
                    19,
                    23,
                    1,
                    26,
                    25,
                    26,
                    22,
                    25,
                    22,
                    23,
                    26,
                    22,
                    23,
                    27,
                    16,
                    27,
                    17,
                    27,
                    21,
                    0,
                    4,
                    19,
                    22,
                    17,
                    18,
                    17,
                    27,
                    1,
                    24,
                    18,
                    17,
                    10,
                    15,
                    17,
                    23,
                    22,
                    21,
                    21,
                    15,
                    25,
                    23,
                    20,
                    25,
                    15,
                    22,
                    25,
                    14,
                    25,
                    24,
                    25,
                    18,
                    24,
                    22,
                    21,
                    20,
                    10,
                    18,
                    23,
                    20,
                    27,
                    18,
                    26,
                    23,
                    20,
                    24,
                    27,
                    17,
                    18,
                    25,
                    18,
                    0,
                    15,
                    21,
                    16,
                    24,
                    27,
                    20,
                    17,
                    26,
                    26,
                    17,
                    23,
                    22,
                    22,
                    7,
                    18,
                    7,
                    24,
                    19,
                    8,
                    25,
                    16,
                    19,
                    25,
                    22,
                    17,
                    27,
                    19,
                    21,
                    25,
                    19,
                    23,
                    1,
                    17,
                    18,
                    27,
                    26,
                    16,
                    16,
                    22,
                    26,
                    24,
                    27,
                    21,
                    5,
                    15,
                    17,
                    21,
                    26,
                    21,
                    18,
                    15,
                    18,
                    23,
                    24,
                    18,
                    18,
                    24,
                    19,
                    26,
                    12,
                    24,
                    27,
                    23,
                    15,
                    23,
                    21,
                    0,
                    20,
                    25,
                    24,
                    21,
                    24,
                    0,
                    27,
                    22,
                    16,
                    20,
                    17,
                    17,
                    16,
                    19,
                    26,
                    23,
                    3,
                    24,
                    17,
                    22,
                    16,
                    27,
                    26,
                    24,
                    24,
                    24,
                    17,
                    23,
                    14,
                    18,
                    21,
                    17,
                    12,
                    24,
                    18,
                    25,
                    0,
                    8,
                    19,
                    15
                  ],
                  "xaxis": "x",
                  "yaxis": "y"
                },
                {
                  "alignmentgroup": "True",
                  "bingroup": "x",
                  "hovertemplate": "stress_level=0<br>depression=%{x}<br>count=%{y}<extra></extra>",
                  "legendgroup": "0",
                  "marker": {
                    "color": "#00cc96",
                    "pattern": {
                      "shape": ""
                    }
                  },
                  "name": "0",
                  "offsetgroup": "0",
                  "orientation": "v",
                  "showlegend": true,
                  "type": "histogram",
                  "x": [
                    6,
                    8,
                    3,
                    1,
                    3,
                    0,
                    5,
                    8,
                    20,
                    3,
                    3,
                    8,
                    6,
                    6,
                    0,
                    2,
                    1,
                    7,
                    4,
                    5,
                    0,
                    5,
                    2,
                    5,
                    0,
                    1,
                    13,
                    3,
                    0,
                    4,
                    7,
                    5,
                    5,
                    8,
                    22,
                    1,
                    7,
                    2,
                    1,
                    7,
                    8,
                    0,
                    8,
                    6,
                    2,
                    6,
                    8,
                    3,
                    0,
                    0,
                    24,
                    1,
                    5,
                    1,
                    1,
                    0,
                    6,
                    7,
                    3,
                    6,
                    3,
                    0,
                    17,
                    4,
                    8,
                    5,
                    5,
                    26,
                    9,
                    16,
                    2,
                    5,
                    1,
                    8,
                    0,
                    1,
                    8,
                    0,
                    0,
                    3,
                    4,
                    4,
                    0,
                    12,
                    7,
                    7,
                    3,
                    8,
                    3,
                    0,
                    4,
                    5,
                    0,
                    23,
                    7,
                    1,
                    2,
                    4,
                    1,
                    25,
                    4,
                    2,
                    4,
                    5,
                    8,
                    3,
                    7,
                    3,
                    1,
                    8,
                    8,
                    12,
                    1,
                    6,
                    0,
                    8,
                    3,
                    7,
                    4,
                    20,
                    4,
                    6,
                    2,
                    3,
                    17,
                    0,
                    4,
                    18,
                    4,
                    1,
                    8,
                    8,
                    4,
                    7,
                    14,
                    5,
                    6,
                    8,
                    7,
                    5,
                    6,
                    0,
                    1,
                    6,
                    5,
                    8,
                    8,
                    3,
                    8,
                    5,
                    2,
                    6,
                    2,
                    2,
                    8,
                    5,
                    5,
                    21,
                    7,
                    8,
                    7,
                    1,
                    13,
                    2,
                    6,
                    27,
                    27,
                    21,
                    5,
                    1,
                    5,
                    7,
                    3,
                    3,
                    19,
                    4,
                    25,
                    5,
                    0,
                    8,
                    8,
                    6,
                    7,
                    5,
                    8,
                    3,
                    6,
                    0,
                    9,
                    8,
                    8,
                    12,
                    0,
                    4,
                    2,
                    3,
                    18,
                    4,
                    9,
                    7,
                    1,
                    4,
                    19,
                    0,
                    3,
                    3,
                    2,
                    6,
                    4,
                    1,
                    17,
                    8,
                    4,
                    3,
                    3,
                    8,
                    4,
                    3,
                    5,
                    3,
                    2,
                    3,
                    0,
                    8,
                    11,
                    8,
                    6,
                    5,
                    5,
                    6,
                    1,
                    2,
                    7,
                    8,
                    5,
                    8,
                    2,
                    2,
                    19,
                    0,
                    0,
                    5,
                    1,
                    5,
                    5,
                    8,
                    0,
                    7,
                    7,
                    8,
                    8,
                    4,
                    4,
                    5,
                    8,
                    3,
                    1,
                    3,
                    2,
                    9,
                    8,
                    19,
                    2,
                    0,
                    7,
                    2,
                    6,
                    6,
                    4,
                    8,
                    3,
                    2,
                    5,
                    3,
                    2,
                    25,
                    7,
                    13,
                    26,
                    7,
                    0,
                    2,
                    10,
                    2,
                    1,
                    6,
                    8,
                    7,
                    7,
                    4,
                    1,
                    3,
                    6,
                    6,
                    8,
                    19,
                    3,
                    7,
                    5,
                    7,
                    4,
                    7,
                    6,
                    8,
                    9,
                    8,
                    2,
                    2,
                    6,
                    6,
                    1,
                    3,
                    8,
                    5,
                    7,
                    5,
                    3,
                    7,
                    5,
                    2,
                    7,
                    6,
                    3,
                    0,
                    4,
                    4,
                    6,
                    5,
                    0,
                    7,
                    3,
                    6,
                    2,
                    27,
                    2,
                    2,
                    8,
                    4,
                    0,
                    5,
                    5,
                    22,
                    0,
                    3,
                    1,
                    0,
                    1,
                    13,
                    2,
                    7,
                    3,
                    18,
                    0,
                    20,
                    22,
                    6,
                    3,
                    1,
                    25,
                    2,
                    5,
                    7,
                    3,
                    2,
                    20,
                    6,
                    0,
                    18,
                    4,
                    9,
                    24,
                    4,
                    3
                  ],
                  "xaxis": "x",
                  "yaxis": "y"
                }
              ],
              "layout": {
                "bargap": 0.2,
                "barmode": "relative",
                "legend": {
                  "title": {
                    "text": "stress_level"
                  },
                  "tracegroupgap": 0
                },
                "template": {
                  "data": {
                    "bar": [
                      {
                        "error_x": {
                          "color": "#2a3f5f"
                        },
                        "error_y": {
                          "color": "#2a3f5f"
                        },
                        "marker": {
                          "line": {
                            "color": "#E5ECF6",
                            "width": 0.5
                          },
                          "pattern": {
                            "fillmode": "overlay",
                            "size": 10,
                            "solidity": 0.2
                          }
                        },
                        "type": "bar"
                      }
                    ],
                    "barpolar": [
                      {
                        "marker": {
                          "line": {
                            "color": "#E5ECF6",
                            "width": 0.5
                          },
                          "pattern": {
                            "fillmode": "overlay",
                            "size": 10,
                            "solidity": 0.2
                          }
                        },
                        "type": "barpolar"
                      }
                    ],
                    "carpet": [
                      {
                        "aaxis": {
                          "endlinecolor": "#2a3f5f",
                          "gridcolor": "white",
                          "linecolor": "white",
                          "minorgridcolor": "white",
                          "startlinecolor": "#2a3f5f"
                        },
                        "baxis": {
                          "endlinecolor": "#2a3f5f",
                          "gridcolor": "white",
                          "linecolor": "white",
                          "minorgridcolor": "white",
                          "startlinecolor": "#2a3f5f"
                        },
                        "type": "carpet"
                      }
                    ],
                    "choropleth": [
                      {
                        "colorbar": {
                          "outlinewidth": 0,
                          "ticks": ""
                        },
                        "type": "choropleth"
                      }
                    ],
                    "contour": [
                      {
                        "colorbar": {
                          "outlinewidth": 0,
                          "ticks": ""
                        },
                        "colorscale": [
                          [
                            0,
                            "#0d0887"
                          ],
                          [
                            0.1111111111111111,
                            "#46039f"
                          ],
                          [
                            0.2222222222222222,
                            "#7201a8"
                          ],
                          [
                            0.3333333333333333,
                            "#9c179e"
                          ],
                          [
                            0.4444444444444444,
                            "#bd3786"
                          ],
                          [
                            0.5555555555555556,
                            "#d8576b"
                          ],
                          [
                            0.6666666666666666,
                            "#ed7953"
                          ],
                          [
                            0.7777777777777778,
                            "#fb9f3a"
                          ],
                          [
                            0.8888888888888888,
                            "#fdca26"
                          ],
                          [
                            1,
                            "#f0f921"
                          ]
                        ],
                        "type": "contour"
                      }
                    ],
                    "contourcarpet": [
                      {
                        "colorbar": {
                          "outlinewidth": 0,
                          "ticks": ""
                        },
                        "type": "contourcarpet"
                      }
                    ],
                    "heatmap": [
                      {
                        "colorbar": {
                          "outlinewidth": 0,
                          "ticks": ""
                        },
                        "colorscale": [
                          [
                            0,
                            "#0d0887"
                          ],
                          [
                            0.1111111111111111,
                            "#46039f"
                          ],
                          [
                            0.2222222222222222,
                            "#7201a8"
                          ],
                          [
                            0.3333333333333333,
                            "#9c179e"
                          ],
                          [
                            0.4444444444444444,
                            "#bd3786"
                          ],
                          [
                            0.5555555555555556,
                            "#d8576b"
                          ],
                          [
                            0.6666666666666666,
                            "#ed7953"
                          ],
                          [
                            0.7777777777777778,
                            "#fb9f3a"
                          ],
                          [
                            0.8888888888888888,
                            "#fdca26"
                          ],
                          [
                            1,
                            "#f0f921"
                          ]
                        ],
                        "type": "heatmap"
                      }
                    ],
                    "heatmapgl": [
                      {
                        "colorbar": {
                          "outlinewidth": 0,
                          "ticks": ""
                        },
                        "colorscale": [
                          [
                            0,
                            "#0d0887"
                          ],
                          [
                            0.1111111111111111,
                            "#46039f"
                          ],
                          [
                            0.2222222222222222,
                            "#7201a8"
                          ],
                          [
                            0.3333333333333333,
                            "#9c179e"
                          ],
                          [
                            0.4444444444444444,
                            "#bd3786"
                          ],
                          [
                            0.5555555555555556,
                            "#d8576b"
                          ],
                          [
                            0.6666666666666666,
                            "#ed7953"
                          ],
                          [
                            0.7777777777777778,
                            "#fb9f3a"
                          ],
                          [
                            0.8888888888888888,
                            "#fdca26"
                          ],
                          [
                            1,
                            "#f0f921"
                          ]
                        ],
                        "type": "heatmapgl"
                      }
                    ],
                    "histogram": [
                      {
                        "marker": {
                          "pattern": {
                            "fillmode": "overlay",
                            "size": 10,
                            "solidity": 0.2
                          }
                        },
                        "type": "histogram"
                      }
                    ],
                    "histogram2d": [
                      {
                        "colorbar": {
                          "outlinewidth": 0,
                          "ticks": ""
                        },
                        "colorscale": [
                          [
                            0,
                            "#0d0887"
                          ],
                          [
                            0.1111111111111111,
                            "#46039f"
                          ],
                          [
                            0.2222222222222222,
                            "#7201a8"
                          ],
                          [
                            0.3333333333333333,
                            "#9c179e"
                          ],
                          [
                            0.4444444444444444,
                            "#bd3786"
                          ],
                          [
                            0.5555555555555556,
                            "#d8576b"
                          ],
                          [
                            0.6666666666666666,
                            "#ed7953"
                          ],
                          [
                            0.7777777777777778,
                            "#fb9f3a"
                          ],
                          [
                            0.8888888888888888,
                            "#fdca26"
                          ],
                          [
                            1,
                            "#f0f921"
                          ]
                        ],
                        "type": "histogram2d"
                      }
                    ],
                    "histogram2dcontour": [
                      {
                        "colorbar": {
                          "outlinewidth": 0,
                          "ticks": ""
                        },
                        "colorscale": [
                          [
                            0,
                            "#0d0887"
                          ],
                          [
                            0.1111111111111111,
                            "#46039f"
                          ],
                          [
                            0.2222222222222222,
                            "#7201a8"
                          ],
                          [
                            0.3333333333333333,
                            "#9c179e"
                          ],
                          [
                            0.4444444444444444,
                            "#bd3786"
                          ],
                          [
                            0.5555555555555556,
                            "#d8576b"
                          ],
                          [
                            0.6666666666666666,
                            "#ed7953"
                          ],
                          [
                            0.7777777777777778,
                            "#fb9f3a"
                          ],
                          [
                            0.8888888888888888,
                            "#fdca26"
                          ],
                          [
                            1,
                            "#f0f921"
                          ]
                        ],
                        "type": "histogram2dcontour"
                      }
                    ],
                    "mesh3d": [
                      {
                        "colorbar": {
                          "outlinewidth": 0,
                          "ticks": ""
                        },
                        "type": "mesh3d"
                      }
                    ],
                    "parcoords": [
                      {
                        "line": {
                          "colorbar": {
                            "outlinewidth": 0,
                            "ticks": ""
                          }
                        },
                        "type": "parcoords"
                      }
                    ],
                    "pie": [
                      {
                        "automargin": true,
                        "type": "pie"
                      }
                    ],
                    "scatter": [
                      {
                        "fillpattern": {
                          "fillmode": "overlay",
                          "size": 10,
                          "solidity": 0.2
                        },
                        "type": "scatter"
                      }
                    ],
                    "scatter3d": [
                      {
                        "line": {
                          "colorbar": {
                            "outlinewidth": 0,
                            "ticks": ""
                          }
                        },
                        "marker": {
                          "colorbar": {
                            "outlinewidth": 0,
                            "ticks": ""
                          }
                        },
                        "type": "scatter3d"
                      }
                    ],
                    "scattercarpet": [
                      {
                        "marker": {
                          "colorbar": {
                            "outlinewidth": 0,
                            "ticks": ""
                          }
                        },
                        "type": "scattercarpet"
                      }
                    ],
                    "scattergeo": [
                      {
                        "marker": {
                          "colorbar": {
                            "outlinewidth": 0,
                            "ticks": ""
                          }
                        },
                        "type": "scattergeo"
                      }
                    ],
                    "scattergl": [
                      {
                        "marker": {
                          "colorbar": {
                            "outlinewidth": 0,
                            "ticks": ""
                          }
                        },
                        "type": "scattergl"
                      }
                    ],
                    "scattermapbox": [
                      {
                        "marker": {
                          "colorbar": {
                            "outlinewidth": 0,
                            "ticks": ""
                          }
                        },
                        "type": "scattermapbox"
                      }
                    ],
                    "scatterpolar": [
                      {
                        "marker": {
                          "colorbar": {
                            "outlinewidth": 0,
                            "ticks": ""
                          }
                        },
                        "type": "scatterpolar"
                      }
                    ],
                    "scatterpolargl": [
                      {
                        "marker": {
                          "colorbar": {
                            "outlinewidth": 0,
                            "ticks": ""
                          }
                        },
                        "type": "scatterpolargl"
                      }
                    ],
                    "scatterternary": [
                      {
                        "marker": {
                          "colorbar": {
                            "outlinewidth": 0,
                            "ticks": ""
                          }
                        },
                        "type": "scatterternary"
                      }
                    ],
                    "surface": [
                      {
                        "colorbar": {
                          "outlinewidth": 0,
                          "ticks": ""
                        },
                        "colorscale": [
                          [
                            0,
                            "#0d0887"
                          ],
                          [
                            0.1111111111111111,
                            "#46039f"
                          ],
                          [
                            0.2222222222222222,
                            "#7201a8"
                          ],
                          [
                            0.3333333333333333,
                            "#9c179e"
                          ],
                          [
                            0.4444444444444444,
                            "#bd3786"
                          ],
                          [
                            0.5555555555555556,
                            "#d8576b"
                          ],
                          [
                            0.6666666666666666,
                            "#ed7953"
                          ],
                          [
                            0.7777777777777778,
                            "#fb9f3a"
                          ],
                          [
                            0.8888888888888888,
                            "#fdca26"
                          ],
                          [
                            1,
                            "#f0f921"
                          ]
                        ],
                        "type": "surface"
                      }
                    ],
                    "table": [
                      {
                        "cells": {
                          "fill": {
                            "color": "#EBF0F8"
                          },
                          "line": {
                            "color": "white"
                          }
                        },
                        "header": {
                          "fill": {
                            "color": "#C8D4E3"
                          },
                          "line": {
                            "color": "white"
                          }
                        },
                        "type": "table"
                      }
                    ]
                  },
                  "layout": {
                    "annotationdefaults": {
                      "arrowcolor": "#2a3f5f",
                      "arrowhead": 0,
                      "arrowwidth": 1
                    },
                    "autotypenumbers": "strict",
                    "coloraxis": {
                      "colorbar": {
                        "outlinewidth": 0,
                        "ticks": ""
                      }
                    },
                    "colorscale": {
                      "diverging": [
                        [
                          0,
                          "#8e0152"
                        ],
                        [
                          0.1,
                          "#c51b7d"
                        ],
                        [
                          0.2,
                          "#de77ae"
                        ],
                        [
                          0.3,
                          "#f1b6da"
                        ],
                        [
                          0.4,
                          "#fde0ef"
                        ],
                        [
                          0.5,
                          "#f7f7f7"
                        ],
                        [
                          0.6,
                          "#e6f5d0"
                        ],
                        [
                          0.7,
                          "#b8e186"
                        ],
                        [
                          0.8,
                          "#7fbc41"
                        ],
                        [
                          0.9,
                          "#4d9221"
                        ],
                        [
                          1,
                          "#276419"
                        ]
                      ],
                      "sequential": [
                        [
                          0,
                          "#0d0887"
                        ],
                        [
                          0.1111111111111111,
                          "#46039f"
                        ],
                        [
                          0.2222222222222222,
                          "#7201a8"
                        ],
                        [
                          0.3333333333333333,
                          "#9c179e"
                        ],
                        [
                          0.4444444444444444,
                          "#bd3786"
                        ],
                        [
                          0.5555555555555556,
                          "#d8576b"
                        ],
                        [
                          0.6666666666666666,
                          "#ed7953"
                        ],
                        [
                          0.7777777777777778,
                          "#fb9f3a"
                        ],
                        [
                          0.8888888888888888,
                          "#fdca26"
                        ],
                        [
                          1,
                          "#f0f921"
                        ]
                      ],
                      "sequentialminus": [
                        [
                          0,
                          "#0d0887"
                        ],
                        [
                          0.1111111111111111,
                          "#46039f"
                        ],
                        [
                          0.2222222222222222,
                          "#7201a8"
                        ],
                        [
                          0.3333333333333333,
                          "#9c179e"
                        ],
                        [
                          0.4444444444444444,
                          "#bd3786"
                        ],
                        [
                          0.5555555555555556,
                          "#d8576b"
                        ],
                        [
                          0.6666666666666666,
                          "#ed7953"
                        ],
                        [
                          0.7777777777777778,
                          "#fb9f3a"
                        ],
                        [
                          0.8888888888888888,
                          "#fdca26"
                        ],
                        [
                          1,
                          "#f0f921"
                        ]
                      ]
                    },
                    "colorway": [
                      "#636efa",
                      "#EF553B",
                      "#00cc96",
                      "#ab63fa",
                      "#FFA15A",
                      "#19d3f3",
                      "#FF6692",
                      "#B6E880",
                      "#FF97FF",
                      "#FECB52"
                    ],
                    "font": {
                      "color": "#2a3f5f"
                    },
                    "geo": {
                      "bgcolor": "white",
                      "lakecolor": "white",
                      "landcolor": "#E5ECF6",
                      "showlakes": true,
                      "showland": true,
                      "subunitcolor": "white"
                    },
                    "hoverlabel": {
                      "align": "left"
                    },
                    "hovermode": "closest",
                    "mapbox": {
                      "style": "light"
                    },
                    "paper_bgcolor": "white",
                    "plot_bgcolor": "#E5ECF6",
                    "polar": {
                      "angularaxis": {
                        "gridcolor": "white",
                        "linecolor": "white",
                        "ticks": ""
                      },
                      "bgcolor": "#E5ECF6",
                      "radialaxis": {
                        "gridcolor": "white",
                        "linecolor": "white",
                        "ticks": ""
                      }
                    },
                    "scene": {
                      "xaxis": {
                        "backgroundcolor": "#E5ECF6",
                        "gridcolor": "white",
                        "gridwidth": 2,
                        "linecolor": "white",
                        "showbackground": true,
                        "ticks": "",
                        "zerolinecolor": "white"
                      },
                      "yaxis": {
                        "backgroundcolor": "#E5ECF6",
                        "gridcolor": "white",
                        "gridwidth": 2,
                        "linecolor": "white",
                        "showbackground": true,
                        "ticks": "",
                        "zerolinecolor": "white"
                      },
                      "zaxis": {
                        "backgroundcolor": "#E5ECF6",
                        "gridcolor": "white",
                        "gridwidth": 2,
                        "linecolor": "white",
                        "showbackground": true,
                        "ticks": "",
                        "zerolinecolor": "white"
                      }
                    },
                    "shapedefaults": {
                      "line": {
                        "color": "#2a3f5f"
                      }
                    },
                    "ternary": {
                      "aaxis": {
                        "gridcolor": "white",
                        "linecolor": "white",
                        "ticks": ""
                      },
                      "baxis": {
                        "gridcolor": "white",
                        "linecolor": "white",
                        "ticks": ""
                      },
                      "bgcolor": "#E5ECF6",
                      "caxis": {
                        "gridcolor": "white",
                        "linecolor": "white",
                        "ticks": ""
                      }
                    },
                    "title": {
                      "x": 0.05
                    },
                    "xaxis": {
                      "automargin": true,
                      "gridcolor": "white",
                      "linecolor": "white",
                      "ticks": "",
                      "title": {
                        "standoff": 15
                      },
                      "zerolinecolor": "white",
                      "zerolinewidth": 2
                    },
                    "yaxis": {
                      "automargin": true,
                      "gridcolor": "white",
                      "linecolor": "white",
                      "ticks": "",
                      "title": {
                        "standoff": 15
                      },
                      "zerolinecolor": "white",
                      "zerolinewidth": 2
                    }
                  }
                },
                "title": {
                  "text": "Stress Level Dependence on Depression"
                },
                "xaxis": {
                  "anchor": "y",
                  "domain": [
                    0,
                    1
                  ],
                  "title": {
                    "text": "depression"
                  }
                },
                "yaxis": {
                  "anchor": "x",
                  "domain": [
                    0,
                    1
                  ],
                  "title": {
                    "text": "count"
                  }
                }
              }
            }
          },
          "metadata": {},
          "output_type": "display_data"
        }
      ],
      "source": [
        "px.histogram(df,x='depression',color = target, title = 'Stress Level Dependence on Depression').update_layout(bargap=0.2 )"
      ]
    },
    {
      "cell_type": "code",
      "execution_count": 13,
      "metadata": {
        "colab": {
          "base_uri": "https://localhost:8080/",
          "height": 542
        },
        "id": "O938AAabA-eW",
        "outputId": "50e9d3b6-72af-4d11-94b0-0f185f6a6189"
      },
      "outputs": [
        {
          "data": {
            "application/vnd.plotly.v1+json": {
              "config": {
                "plotlyServerURL": "https://plot.ly"
              },
              "data": [
                {
                  "alignmentgroup": "True",
                  "bingroup": "x",
                  "hovertemplate": "stress_level=1<br>social_support=%{x}<br>count=%{y}<extra></extra>",
                  "legendgroup": "1",
                  "marker": {
                    "color": "#636efa",
                    "pattern": {
                      "shape": ""
                    }
                  },
                  "name": "1",
                  "offsetgroup": "1",
                  "orientation": "v",
                  "showlegend": true,
                  "type": "histogram",
                  "x": [
                    2,
                    2,
                    1,
                    3,
                    1,
                    2,
                    3,
                    3,
                    3,
                    1,
                    2,
                    2,
                    2,
                    2,
                    2,
                    2,
                    3,
                    3,
                    1,
                    3,
                    3,
                    3,
                    1,
                    2,
                    2,
                    3,
                    2,
                    3,
                    3,
                    2,
                    0,
                    2,
                    0,
                    0,
                    3,
                    2,
                    2,
                    2,
                    3,
                    2,
                    2,
                    2,
                    3,
                    3,
                    3,
                    3,
                    2,
                    3,
                    2,
                    2,
                    3,
                    3,
                    2,
                    3,
                    3,
                    1,
                    2,
                    3,
                    3,
                    2,
                    3,
                    0,
                    2,
                    2,
                    3,
                    1,
                    2,
                    3,
                    3,
                    2,
                    3,
                    2,
                    3,
                    2,
                    1,
                    3,
                    2,
                    2,
                    2,
                    2,
                    2,
                    2,
                    3,
                    3,
                    2,
                    0,
                    3,
                    3,
                    3,
                    3,
                    0,
                    3,
                    0,
                    3,
                    3,
                    3,
                    2,
                    3,
                    2,
                    0,
                    3,
                    0,
                    3,
                    2,
                    1,
                    2,
                    1,
                    2,
                    3,
                    3,
                    0,
                    2,
                    1,
                    2,
                    2,
                    2,
                    2,
                    3,
                    0,
                    3,
                    3,
                    3,
                    3,
                    3,
                    3,
                    2,
                    2,
                    3,
                    3,
                    0,
                    2,
                    3,
                    3,
                    3,
                    3,
                    3,
                    0,
                    3,
                    2,
                    3,
                    3,
                    3,
                    0,
                    2,
                    3,
                    2,
                    3,
                    0,
                    0,
                    0,
                    2,
                    0,
                    1,
                    3,
                    0,
                    2,
                    3,
                    3,
                    0,
                    0,
                    2,
                    1,
                    0,
                    0,
                    3,
                    3,
                    0,
                    2,
                    2,
                    0,
                    2,
                    2,
                    2,
                    3,
                    3,
                    0,
                    2,
                    3,
                    2,
                    2,
                    3,
                    3,
                    3,
                    2,
                    2,
                    3,
                    2,
                    2,
                    2,
                    2,
                    3,
                    3,
                    3,
                    2,
                    3,
                    3,
                    2,
                    3,
                    3,
                    3,
                    1,
                    3,
                    3,
                    3,
                    2,
                    2,
                    3,
                    3,
                    2,
                    2,
                    3,
                    2,
                    3,
                    3,
                    3,
                    2,
                    2,
                    2,
                    1,
                    2,
                    1,
                    3,
                    3,
                    1,
                    2,
                    2,
                    3,
                    3,
                    2,
                    2,
                    3,
                    3,
                    2,
                    3,
                    3,
                    2,
                    3,
                    1,
                    3,
                    2,
                    3,
                    3,
                    2,
                    3,
                    2,
                    2,
                    3,
                    3,
                    2,
                    0,
                    3,
                    3,
                    1,
                    3,
                    2,
                    2,
                    3,
                    2,
                    3,
                    3,
                    3,
                    3,
                    2,
                    2,
                    2,
                    2,
                    2,
                    3,
                    2,
                    3,
                    0,
                    3,
                    2,
                    0,
                    2,
                    3,
                    3,
                    3,
                    3,
                    2,
                    2,
                    3,
                    2,
                    3,
                    2,
                    3,
                    0,
                    2,
                    2,
                    2,
                    2,
                    3,
                    3,
                    2,
                    2,
                    3,
                    2,
                    2,
                    2,
                    2,
                    0,
                    3,
                    2,
                    2,
                    0,
                    3,
                    2,
                    3,
                    1,
                    3,
                    2,
                    2,
                    3,
                    3,
                    2,
                    3,
                    3,
                    3,
                    3,
                    2,
                    3,
                    3,
                    2,
                    3,
                    3,
                    2,
                    2,
                    3,
                    3,
                    2,
                    2,
                    3,
                    2,
                    0,
                    1,
                    1,
                    3,
                    3,
                    3,
                    3,
                    0,
                    2,
                    2,
                    0,
                    2,
                    2,
                    2,
                    3,
                    0,
                    2,
                    2,
                    3,
                    2,
                    3,
                    2,
                    2,
                    3,
                    3
                  ],
                  "xaxis": "x",
                  "yaxis": "y"
                },
                {
                  "alignmentgroup": "True",
                  "bingroup": "x",
                  "hovertemplate": "stress_level=2<br>social_support=%{x}<br>count=%{y}<extra></extra>",
                  "legendgroup": "2",
                  "marker": {
                    "color": "#EF553B",
                    "pattern": {
                      "shape": ""
                    }
                  },
                  "name": "2",
                  "offsetgroup": "2",
                  "orientation": "v",
                  "showlegend": true,
                  "type": "histogram",
                  "x": [
                    1,
                    1,
                    1,
                    1,
                    1,
                    1,
                    0,
                    1,
                    1,
                    1,
                    1,
                    1,
                    1,
                    1,
                    1,
                    1,
                    1,
                    1,
                    1,
                    1,
                    1,
                    1,
                    1,
                    1,
                    1,
                    1,
                    1,
                    1,
                    1,
                    1,
                    1,
                    1,
                    1,
                    1,
                    1,
                    1,
                    1,
                    1,
                    1,
                    1,
                    1,
                    1,
                    1,
                    1,
                    1,
                    1,
                    1,
                    1,
                    1,
                    1,
                    1,
                    1,
                    1,
                    1,
                    1,
                    1,
                    0,
                    1,
                    1,
                    0,
                    0,
                    1,
                    1,
                    1,
                    1,
                    1,
                    1,
                    1,
                    1,
                    1,
                    1,
                    1,
                    1,
                    1,
                    1,
                    1,
                    1,
                    1,
                    1,
                    1,
                    1,
                    1,
                    1,
                    1,
                    1,
                    1,
                    1,
                    1,
                    1,
                    1,
                    0,
                    1,
                    1,
                    1,
                    1,
                    1,
                    1,
                    1,
                    1,
                    1,
                    1,
                    1,
                    1,
                    1,
                    1,
                    1,
                    1,
                    1,
                    1,
                    1,
                    1,
                    1,
                    1,
                    1,
                    1,
                    1,
                    1,
                    1,
                    1,
                    1,
                    1,
                    1,
                    1,
                    1,
                    1,
                    1,
                    1,
                    1,
                    1,
                    1,
                    1,
                    1,
                    1,
                    1,
                    1,
                    1,
                    1,
                    1,
                    0,
                    1,
                    1,
                    1,
                    1,
                    1,
                    1,
                    1,
                    1,
                    1,
                    1,
                    1,
                    1,
                    0,
                    1,
                    1,
                    1,
                    1,
                    1,
                    1,
                    1,
                    1,
                    1,
                    1,
                    1,
                    1,
                    1,
                    0,
                    0,
                    1,
                    1,
                    1,
                    1,
                    1,
                    1,
                    1,
                    1,
                    1,
                    1,
                    0,
                    1,
                    1,
                    1,
                    1,
                    1,
                    1,
                    1,
                    1,
                    1,
                    1,
                    1,
                    1,
                    1,
                    1,
                    1,
                    1,
                    1,
                    1,
                    1,
                    1,
                    1,
                    1,
                    1,
                    1,
                    1,
                    1,
                    1,
                    1,
                    1,
                    1,
                    1,
                    1,
                    0,
                    0,
                    1,
                    1,
                    1,
                    1,
                    1,
                    1,
                    0,
                    1,
                    1,
                    1,
                    1,
                    1,
                    1,
                    1,
                    1,
                    1,
                    1,
                    1,
                    1,
                    1,
                    1,
                    1,
                    1,
                    1,
                    1,
                    1,
                    1,
                    1,
                    1,
                    1,
                    1,
                    1,
                    1,
                    1,
                    0,
                    1,
                    1,
                    1,
                    1,
                    1,
                    1,
                    0,
                    1,
                    1,
                    1,
                    1,
                    1,
                    1,
                    1,
                    0,
                    1,
                    1,
                    1,
                    1,
                    1,
                    1,
                    1,
                    1,
                    1,
                    1,
                    1,
                    1,
                    1,
                    1,
                    0,
                    0,
                    0,
                    1,
                    1,
                    1,
                    0,
                    1,
                    1,
                    1,
                    1,
                    1,
                    1,
                    1,
                    1,
                    1,
                    1,
                    0,
                    1,
                    1,
                    1,
                    1,
                    1,
                    1,
                    1,
                    1,
                    1,
                    1,
                    1,
                    1,
                    1,
                    1,
                    1,
                    1,
                    1,
                    1,
                    1,
                    1,
                    1,
                    1,
                    1,
                    1,
                    1,
                    1,
                    1,
                    0,
                    1,
                    1,
                    1,
                    1,
                    1,
                    1,
                    1,
                    1,
                    1,
                    1,
                    0,
                    1,
                    1,
                    1,
                    1,
                    1,
                    1,
                    1,
                    1,
                    1,
                    1,
                    1,
                    1,
                    0,
                    1,
                    1,
                    1,
                    1,
                    1,
                    0,
                    1,
                    1,
                    1,
                    1,
                    1,
                    1,
                    1,
                    1,
                    1,
                    0,
                    1,
                    1,
                    1,
                    0,
                    1,
                    1,
                    1
                  ],
                  "xaxis": "x",
                  "yaxis": "y"
                },
                {
                  "alignmentgroup": "True",
                  "bingroup": "x",
                  "hovertemplate": "stress_level=0<br>social_support=%{x}<br>count=%{y}<extra></extra>",
                  "legendgroup": "0",
                  "marker": {
                    "color": "#00cc96",
                    "pattern": {
                      "shape": ""
                    }
                  },
                  "name": "0",
                  "offsetgroup": "0",
                  "orientation": "v",
                  "showlegend": true,
                  "type": "histogram",
                  "x": [
                    3,
                    3,
                    3,
                    3,
                    3,
                    3,
                    3,
                    3,
                    1,
                    3,
                    3,
                    3,
                    3,
                    3,
                    3,
                    3,
                    3,
                    3,
                    3,
                    3,
                    3,
                    3,
                    3,
                    3,
                    3,
                    3,
                    0,
                    3,
                    3,
                    3,
                    3,
                    3,
                    3,
                    3,
                    1,
                    3,
                    3,
                    3,
                    3,
                    3,
                    3,
                    3,
                    3,
                    1,
                    3,
                    3,
                    1,
                    1,
                    3,
                    3,
                    0,
                    3,
                    3,
                    3,
                    3,
                    3,
                    3,
                    3,
                    3,
                    3,
                    3,
                    3,
                    1,
                    3,
                    3,
                    3,
                    3,
                    1,
                    1,
                    1,
                    3,
                    3,
                    3,
                    0,
                    3,
                    3,
                    3,
                    3,
                    3,
                    3,
                    3,
                    3,
                    3,
                    1,
                    3,
                    3,
                    3,
                    3,
                    3,
                    3,
                    3,
                    3,
                    3,
                    0,
                    3,
                    3,
                    1,
                    3,
                    3,
                    0,
                    1,
                    3,
                    0,
                    3,
                    3,
                    3,
                    1,
                    3,
                    3,
                    3,
                    3,
                    1,
                    3,
                    3,
                    3,
                    3,
                    3,
                    3,
                    3,
                    1,
                    3,
                    3,
                    3,
                    3,
                    0,
                    3,
                    3,
                    0,
                    3,
                    3,
                    3,
                    3,
                    3,
                    3,
                    0,
                    3,
                    3,
                    3,
                    3,
                    1,
                    3,
                    1,
                    3,
                    3,
                    3,
                    3,
                    3,
                    3,
                    3,
                    3,
                    3,
                    3,
                    3,
                    3,
                    1,
                    3,
                    1,
                    1,
                    3,
                    3,
                    3,
                    3,
                    0,
                    3,
                    3,
                    1,
                    1,
                    0,
                    3,
                    3,
                    3,
                    3,
                    3,
                    3,
                    0,
                    3,
                    0,
                    3,
                    3,
                    3,
                    3,
                    0,
                    3,
                    3,
                    3,
                    3,
                    3,
                    3,
                    1,
                    3,
                    3,
                    1,
                    3,
                    3,
                    3,
                    3,
                    0,
                    3,
                    0,
                    3,
                    3,
                    3,
                    1,
                    3,
                    3,
                    3,
                    3,
                    3,
                    3,
                    3,
                    1,
                    3,
                    3,
                    3,
                    3,
                    3,
                    3,
                    3,
                    0,
                    3,
                    3,
                    3,
                    3,
                    3,
                    1,
                    3,
                    3,
                    3,
                    3,
                    3,
                    3,
                    3,
                    3,
                    3,
                    1,
                    1,
                    3,
                    3,
                    1,
                    3,
                    3,
                    3,
                    3,
                    3,
                    3,
                    3,
                    3,
                    3,
                    3,
                    3,
                    3,
                    3,
                    3,
                    3,
                    3,
                    3,
                    3,
                    3,
                    3,
                    1,
                    3,
                    0,
                    3,
                    3,
                    3,
                    3,
                    3,
                    3,
                    3,
                    3,
                    0,
                    3,
                    3,
                    1,
                    3,
                    1,
                    3,
                    1,
                    1,
                    3,
                    3,
                    3,
                    0,
                    3,
                    3,
                    3,
                    3,
                    3,
                    3,
                    3,
                    0,
                    3,
                    3,
                    0,
                    3,
                    1,
                    3,
                    3,
                    3,
                    3,
                    3,
                    3,
                    3,
                    3,
                    0,
                    1,
                    3,
                    3,
                    3,
                    3,
                    3,
                    3,
                    3,
                    3,
                    3,
                    3,
                    3,
                    3,
                    3,
                    3,
                    3,
                    3,
                    3,
                    3,
                    3,
                    3,
                    3,
                    3,
                    3,
                    3,
                    3,
                    1,
                    3,
                    1,
                    3,
                    3,
                    3,
                    3,
                    3,
                    3,
                    3,
                    0,
                    1,
                    3,
                    3,
                    3,
                    3,
                    1,
                    3,
                    3,
                    3,
                    1,
                    3,
                    1,
                    1,
                    3,
                    3,
                    3,
                    1,
                    3,
                    3,
                    3,
                    3,
                    3,
                    0,
                    3,
                    3,
                    1,
                    3,
                    1,
                    1,
                    3,
                    3
                  ],
                  "xaxis": "x",
                  "yaxis": "y"
                }
              ],
              "layout": {
                "bargap": 0.2,
                "barmode": "relative",
                "legend": {
                  "title": {
                    "text": "stress_level"
                  },
                  "tracegroupgap": 0
                },
                "template": {
                  "data": {
                    "bar": [
                      {
                        "error_x": {
                          "color": "#2a3f5f"
                        },
                        "error_y": {
                          "color": "#2a3f5f"
                        },
                        "marker": {
                          "line": {
                            "color": "#E5ECF6",
                            "width": 0.5
                          },
                          "pattern": {
                            "fillmode": "overlay",
                            "size": 10,
                            "solidity": 0.2
                          }
                        },
                        "type": "bar"
                      }
                    ],
                    "barpolar": [
                      {
                        "marker": {
                          "line": {
                            "color": "#E5ECF6",
                            "width": 0.5
                          },
                          "pattern": {
                            "fillmode": "overlay",
                            "size": 10,
                            "solidity": 0.2
                          }
                        },
                        "type": "barpolar"
                      }
                    ],
                    "carpet": [
                      {
                        "aaxis": {
                          "endlinecolor": "#2a3f5f",
                          "gridcolor": "white",
                          "linecolor": "white",
                          "minorgridcolor": "white",
                          "startlinecolor": "#2a3f5f"
                        },
                        "baxis": {
                          "endlinecolor": "#2a3f5f",
                          "gridcolor": "white",
                          "linecolor": "white",
                          "minorgridcolor": "white",
                          "startlinecolor": "#2a3f5f"
                        },
                        "type": "carpet"
                      }
                    ],
                    "choropleth": [
                      {
                        "colorbar": {
                          "outlinewidth": 0,
                          "ticks": ""
                        },
                        "type": "choropleth"
                      }
                    ],
                    "contour": [
                      {
                        "colorbar": {
                          "outlinewidth": 0,
                          "ticks": ""
                        },
                        "colorscale": [
                          [
                            0,
                            "#0d0887"
                          ],
                          [
                            0.1111111111111111,
                            "#46039f"
                          ],
                          [
                            0.2222222222222222,
                            "#7201a8"
                          ],
                          [
                            0.3333333333333333,
                            "#9c179e"
                          ],
                          [
                            0.4444444444444444,
                            "#bd3786"
                          ],
                          [
                            0.5555555555555556,
                            "#d8576b"
                          ],
                          [
                            0.6666666666666666,
                            "#ed7953"
                          ],
                          [
                            0.7777777777777778,
                            "#fb9f3a"
                          ],
                          [
                            0.8888888888888888,
                            "#fdca26"
                          ],
                          [
                            1,
                            "#f0f921"
                          ]
                        ],
                        "type": "contour"
                      }
                    ],
                    "contourcarpet": [
                      {
                        "colorbar": {
                          "outlinewidth": 0,
                          "ticks": ""
                        },
                        "type": "contourcarpet"
                      }
                    ],
                    "heatmap": [
                      {
                        "colorbar": {
                          "outlinewidth": 0,
                          "ticks": ""
                        },
                        "colorscale": [
                          [
                            0,
                            "#0d0887"
                          ],
                          [
                            0.1111111111111111,
                            "#46039f"
                          ],
                          [
                            0.2222222222222222,
                            "#7201a8"
                          ],
                          [
                            0.3333333333333333,
                            "#9c179e"
                          ],
                          [
                            0.4444444444444444,
                            "#bd3786"
                          ],
                          [
                            0.5555555555555556,
                            "#d8576b"
                          ],
                          [
                            0.6666666666666666,
                            "#ed7953"
                          ],
                          [
                            0.7777777777777778,
                            "#fb9f3a"
                          ],
                          [
                            0.8888888888888888,
                            "#fdca26"
                          ],
                          [
                            1,
                            "#f0f921"
                          ]
                        ],
                        "type": "heatmap"
                      }
                    ],
                    "heatmapgl": [
                      {
                        "colorbar": {
                          "outlinewidth": 0,
                          "ticks": ""
                        },
                        "colorscale": [
                          [
                            0,
                            "#0d0887"
                          ],
                          [
                            0.1111111111111111,
                            "#46039f"
                          ],
                          [
                            0.2222222222222222,
                            "#7201a8"
                          ],
                          [
                            0.3333333333333333,
                            "#9c179e"
                          ],
                          [
                            0.4444444444444444,
                            "#bd3786"
                          ],
                          [
                            0.5555555555555556,
                            "#d8576b"
                          ],
                          [
                            0.6666666666666666,
                            "#ed7953"
                          ],
                          [
                            0.7777777777777778,
                            "#fb9f3a"
                          ],
                          [
                            0.8888888888888888,
                            "#fdca26"
                          ],
                          [
                            1,
                            "#f0f921"
                          ]
                        ],
                        "type": "heatmapgl"
                      }
                    ],
                    "histogram": [
                      {
                        "marker": {
                          "pattern": {
                            "fillmode": "overlay",
                            "size": 10,
                            "solidity": 0.2
                          }
                        },
                        "type": "histogram"
                      }
                    ],
                    "histogram2d": [
                      {
                        "colorbar": {
                          "outlinewidth": 0,
                          "ticks": ""
                        },
                        "colorscale": [
                          [
                            0,
                            "#0d0887"
                          ],
                          [
                            0.1111111111111111,
                            "#46039f"
                          ],
                          [
                            0.2222222222222222,
                            "#7201a8"
                          ],
                          [
                            0.3333333333333333,
                            "#9c179e"
                          ],
                          [
                            0.4444444444444444,
                            "#bd3786"
                          ],
                          [
                            0.5555555555555556,
                            "#d8576b"
                          ],
                          [
                            0.6666666666666666,
                            "#ed7953"
                          ],
                          [
                            0.7777777777777778,
                            "#fb9f3a"
                          ],
                          [
                            0.8888888888888888,
                            "#fdca26"
                          ],
                          [
                            1,
                            "#f0f921"
                          ]
                        ],
                        "type": "histogram2d"
                      }
                    ],
                    "histogram2dcontour": [
                      {
                        "colorbar": {
                          "outlinewidth": 0,
                          "ticks": ""
                        },
                        "colorscale": [
                          [
                            0,
                            "#0d0887"
                          ],
                          [
                            0.1111111111111111,
                            "#46039f"
                          ],
                          [
                            0.2222222222222222,
                            "#7201a8"
                          ],
                          [
                            0.3333333333333333,
                            "#9c179e"
                          ],
                          [
                            0.4444444444444444,
                            "#bd3786"
                          ],
                          [
                            0.5555555555555556,
                            "#d8576b"
                          ],
                          [
                            0.6666666666666666,
                            "#ed7953"
                          ],
                          [
                            0.7777777777777778,
                            "#fb9f3a"
                          ],
                          [
                            0.8888888888888888,
                            "#fdca26"
                          ],
                          [
                            1,
                            "#f0f921"
                          ]
                        ],
                        "type": "histogram2dcontour"
                      }
                    ],
                    "mesh3d": [
                      {
                        "colorbar": {
                          "outlinewidth": 0,
                          "ticks": ""
                        },
                        "type": "mesh3d"
                      }
                    ],
                    "parcoords": [
                      {
                        "line": {
                          "colorbar": {
                            "outlinewidth": 0,
                            "ticks": ""
                          }
                        },
                        "type": "parcoords"
                      }
                    ],
                    "pie": [
                      {
                        "automargin": true,
                        "type": "pie"
                      }
                    ],
                    "scatter": [
                      {
                        "fillpattern": {
                          "fillmode": "overlay",
                          "size": 10,
                          "solidity": 0.2
                        },
                        "type": "scatter"
                      }
                    ],
                    "scatter3d": [
                      {
                        "line": {
                          "colorbar": {
                            "outlinewidth": 0,
                            "ticks": ""
                          }
                        },
                        "marker": {
                          "colorbar": {
                            "outlinewidth": 0,
                            "ticks": ""
                          }
                        },
                        "type": "scatter3d"
                      }
                    ],
                    "scattercarpet": [
                      {
                        "marker": {
                          "colorbar": {
                            "outlinewidth": 0,
                            "ticks": ""
                          }
                        },
                        "type": "scattercarpet"
                      }
                    ],
                    "scattergeo": [
                      {
                        "marker": {
                          "colorbar": {
                            "outlinewidth": 0,
                            "ticks": ""
                          }
                        },
                        "type": "scattergeo"
                      }
                    ],
                    "scattergl": [
                      {
                        "marker": {
                          "colorbar": {
                            "outlinewidth": 0,
                            "ticks": ""
                          }
                        },
                        "type": "scattergl"
                      }
                    ],
                    "scattermapbox": [
                      {
                        "marker": {
                          "colorbar": {
                            "outlinewidth": 0,
                            "ticks": ""
                          }
                        },
                        "type": "scattermapbox"
                      }
                    ],
                    "scatterpolar": [
                      {
                        "marker": {
                          "colorbar": {
                            "outlinewidth": 0,
                            "ticks": ""
                          }
                        },
                        "type": "scatterpolar"
                      }
                    ],
                    "scatterpolargl": [
                      {
                        "marker": {
                          "colorbar": {
                            "outlinewidth": 0,
                            "ticks": ""
                          }
                        },
                        "type": "scatterpolargl"
                      }
                    ],
                    "scatterternary": [
                      {
                        "marker": {
                          "colorbar": {
                            "outlinewidth": 0,
                            "ticks": ""
                          }
                        },
                        "type": "scatterternary"
                      }
                    ],
                    "surface": [
                      {
                        "colorbar": {
                          "outlinewidth": 0,
                          "ticks": ""
                        },
                        "colorscale": [
                          [
                            0,
                            "#0d0887"
                          ],
                          [
                            0.1111111111111111,
                            "#46039f"
                          ],
                          [
                            0.2222222222222222,
                            "#7201a8"
                          ],
                          [
                            0.3333333333333333,
                            "#9c179e"
                          ],
                          [
                            0.4444444444444444,
                            "#bd3786"
                          ],
                          [
                            0.5555555555555556,
                            "#d8576b"
                          ],
                          [
                            0.6666666666666666,
                            "#ed7953"
                          ],
                          [
                            0.7777777777777778,
                            "#fb9f3a"
                          ],
                          [
                            0.8888888888888888,
                            "#fdca26"
                          ],
                          [
                            1,
                            "#f0f921"
                          ]
                        ],
                        "type": "surface"
                      }
                    ],
                    "table": [
                      {
                        "cells": {
                          "fill": {
                            "color": "#EBF0F8"
                          },
                          "line": {
                            "color": "white"
                          }
                        },
                        "header": {
                          "fill": {
                            "color": "#C8D4E3"
                          },
                          "line": {
                            "color": "white"
                          }
                        },
                        "type": "table"
                      }
                    ]
                  },
                  "layout": {
                    "annotationdefaults": {
                      "arrowcolor": "#2a3f5f",
                      "arrowhead": 0,
                      "arrowwidth": 1
                    },
                    "autotypenumbers": "strict",
                    "coloraxis": {
                      "colorbar": {
                        "outlinewidth": 0,
                        "ticks": ""
                      }
                    },
                    "colorscale": {
                      "diverging": [
                        [
                          0,
                          "#8e0152"
                        ],
                        [
                          0.1,
                          "#c51b7d"
                        ],
                        [
                          0.2,
                          "#de77ae"
                        ],
                        [
                          0.3,
                          "#f1b6da"
                        ],
                        [
                          0.4,
                          "#fde0ef"
                        ],
                        [
                          0.5,
                          "#f7f7f7"
                        ],
                        [
                          0.6,
                          "#e6f5d0"
                        ],
                        [
                          0.7,
                          "#b8e186"
                        ],
                        [
                          0.8,
                          "#7fbc41"
                        ],
                        [
                          0.9,
                          "#4d9221"
                        ],
                        [
                          1,
                          "#276419"
                        ]
                      ],
                      "sequential": [
                        [
                          0,
                          "#0d0887"
                        ],
                        [
                          0.1111111111111111,
                          "#46039f"
                        ],
                        [
                          0.2222222222222222,
                          "#7201a8"
                        ],
                        [
                          0.3333333333333333,
                          "#9c179e"
                        ],
                        [
                          0.4444444444444444,
                          "#bd3786"
                        ],
                        [
                          0.5555555555555556,
                          "#d8576b"
                        ],
                        [
                          0.6666666666666666,
                          "#ed7953"
                        ],
                        [
                          0.7777777777777778,
                          "#fb9f3a"
                        ],
                        [
                          0.8888888888888888,
                          "#fdca26"
                        ],
                        [
                          1,
                          "#f0f921"
                        ]
                      ],
                      "sequentialminus": [
                        [
                          0,
                          "#0d0887"
                        ],
                        [
                          0.1111111111111111,
                          "#46039f"
                        ],
                        [
                          0.2222222222222222,
                          "#7201a8"
                        ],
                        [
                          0.3333333333333333,
                          "#9c179e"
                        ],
                        [
                          0.4444444444444444,
                          "#bd3786"
                        ],
                        [
                          0.5555555555555556,
                          "#d8576b"
                        ],
                        [
                          0.6666666666666666,
                          "#ed7953"
                        ],
                        [
                          0.7777777777777778,
                          "#fb9f3a"
                        ],
                        [
                          0.8888888888888888,
                          "#fdca26"
                        ],
                        [
                          1,
                          "#f0f921"
                        ]
                      ]
                    },
                    "colorway": [
                      "#636efa",
                      "#EF553B",
                      "#00cc96",
                      "#ab63fa",
                      "#FFA15A",
                      "#19d3f3",
                      "#FF6692",
                      "#B6E880",
                      "#FF97FF",
                      "#FECB52"
                    ],
                    "font": {
                      "color": "#2a3f5f"
                    },
                    "geo": {
                      "bgcolor": "white",
                      "lakecolor": "white",
                      "landcolor": "#E5ECF6",
                      "showlakes": true,
                      "showland": true,
                      "subunitcolor": "white"
                    },
                    "hoverlabel": {
                      "align": "left"
                    },
                    "hovermode": "closest",
                    "mapbox": {
                      "style": "light"
                    },
                    "paper_bgcolor": "white",
                    "plot_bgcolor": "#E5ECF6",
                    "polar": {
                      "angularaxis": {
                        "gridcolor": "white",
                        "linecolor": "white",
                        "ticks": ""
                      },
                      "bgcolor": "#E5ECF6",
                      "radialaxis": {
                        "gridcolor": "white",
                        "linecolor": "white",
                        "ticks": ""
                      }
                    },
                    "scene": {
                      "xaxis": {
                        "backgroundcolor": "#E5ECF6",
                        "gridcolor": "white",
                        "gridwidth": 2,
                        "linecolor": "white",
                        "showbackground": true,
                        "ticks": "",
                        "zerolinecolor": "white"
                      },
                      "yaxis": {
                        "backgroundcolor": "#E5ECF6",
                        "gridcolor": "white",
                        "gridwidth": 2,
                        "linecolor": "white",
                        "showbackground": true,
                        "ticks": "",
                        "zerolinecolor": "white"
                      },
                      "zaxis": {
                        "backgroundcolor": "#E5ECF6",
                        "gridcolor": "white",
                        "gridwidth": 2,
                        "linecolor": "white",
                        "showbackground": true,
                        "ticks": "",
                        "zerolinecolor": "white"
                      }
                    },
                    "shapedefaults": {
                      "line": {
                        "color": "#2a3f5f"
                      }
                    },
                    "ternary": {
                      "aaxis": {
                        "gridcolor": "white",
                        "linecolor": "white",
                        "ticks": ""
                      },
                      "baxis": {
                        "gridcolor": "white",
                        "linecolor": "white",
                        "ticks": ""
                      },
                      "bgcolor": "#E5ECF6",
                      "caxis": {
                        "gridcolor": "white",
                        "linecolor": "white",
                        "ticks": ""
                      }
                    },
                    "title": {
                      "x": 0.05
                    },
                    "xaxis": {
                      "automargin": true,
                      "gridcolor": "white",
                      "linecolor": "white",
                      "ticks": "",
                      "title": {
                        "standoff": 15
                      },
                      "zerolinecolor": "white",
                      "zerolinewidth": 2
                    },
                    "yaxis": {
                      "automargin": true,
                      "gridcolor": "white",
                      "linecolor": "white",
                      "ticks": "",
                      "title": {
                        "standoff": 15
                      },
                      "zerolinecolor": "white",
                      "zerolinewidth": 2
                    }
                  }
                },
                "title": {
                  "text": "Stress Level Dependence on Depression"
                },
                "xaxis": {
                  "anchor": "y",
                  "domain": [
                    0,
                    1
                  ],
                  "title": {
                    "text": "social_support"
                  }
                },
                "yaxis": {
                  "anchor": "x",
                  "domain": [
                    0,
                    1
                  ],
                  "title": {
                    "text": "count"
                  }
                }
              }
            }
          },
          "metadata": {},
          "output_type": "display_data"
        }
      ],
      "source": [
        "px.histogram(df,x='social_support',color = target, title = 'Stress Level Dependence on Depression').update_layout(bargap=0.2 )"
      ]
    },
    {
      "cell_type": "code",
      "execution_count": null,
      "metadata": {
        "colab": {
          "base_uri": "https://localhost:8080/",
          "height": 542
        },
        "id": "Hz0XTZ-aA-XK",
        "outputId": "ba58a7d0-c028-49f8-f4d6-37cc4c384805"
      },
      "outputs": [
        {
          "data": {
            "text/html": [
              "<html>\n",
              "<head><meta charset=\"utf-8\" /></head>\n",
              "<body>\n",
              "    <div>            <script src=\"https://cdnjs.cloudflare.com/ajax/libs/mathjax/2.7.5/MathJax.js?config=TeX-AMS-MML_SVG\"></script><script type=\"text/javascript\">if (window.MathJax && window.MathJax.Hub && window.MathJax.Hub.Config) {window.MathJax.Hub.Config({SVG: {font: \"STIX-Web\"}});}</script>                <script type=\"text/javascript\">window.PlotlyConfig = {MathJaxConfig: 'local'};</script>\n",
              "        <script charset=\"utf-8\" src=\"https://cdn.plot.ly/plotly-2.24.1.min.js\"></script>                <div id=\"24e2627a-a1d1-409a-95cc-bd9f018ec60c\" class=\"plotly-graph-div\" style=\"height:525px; width:100%;\"></div>            <script type=\"text/javascript\">                                    window.PLOTLYENV=window.PLOTLYENV || {};                                    if (document.getElementById(\"24e2627a-a1d1-409a-95cc-bd9f018ec60c\")) {                    Plotly.newPlot(                        \"24e2627a-a1d1-409a-95cc-bd9f018ec60c\",                        [{\"alignmentgroup\":\"True\",\"bingroup\":\"x\",\"hovertemplate\":\"stress_level=1\\u003cbr\\u003eextracurricular_activities=%{x}\\u003cbr\\u003ecount=%{y}\\u003cextra\\u003e\\u003c\\u002fextra\\u003e\",\"legendgroup\":\"1\",\"marker\":{\"color\":\"#636efa\",\"pattern\":{\"shape\":\"\"}},\"name\":\"1\",\"offsetgroup\":\"1\",\"orientation\":\"v\",\"showlegend\":true,\"x\":[3,2,0,2,3,2,2,3,2,2,2,2,2,2,3,2,3,3,5,3,2,2,5,3,3,3,2,3,3,3,3,2,5,3,2,3,2,3,2,2,3,3,2,2,2,3,3,2,2,3,3,3,2,3,3,5,2,2,2,3,2,4,3,2,3,1,2,2,3,2,2,2,2,3,0,3,2,2,2,3,2,3,3,2,2,3,2,2,3,3,2,2,0,2,3,3,2,3,3,2,2,5,2,3,0,3,2,3,2,2,4,3,0,3,2,2,2,3,4,3,2,2,3,2,2,3,2,3,2,4,2,3,3,3,3,2,1,2,2,2,2,2,2,2,2,3,2,2,4,1,2,3,1,2,5,2,3,3,3,4,2,4,3,2,3,3,3,3,3,1,3,3,3,3,3,0,2,3,2,3,3,3,3,3,3,3,2,3,2,3,3,3,3,3,3,2,2,3,3,2,0,3,3,2,2,3,2,2,3,2,2,3,3,2,2,2,2,2,4,2,0,3,2,2,2,3,2,3,3,2,2,2,2,3,3,3,3,1,3,3,3,3,3,3,3,2,3,3,3,5,3,2,2,3,2,2,2,3,3,2,2,3,2,2,2,2,2,2,2,3,1,2,2,0,3,3,2,2,3,3,3,2,2,3,3,3,1,3,3,2,2,3,3,2,2,3,3,3,2,2,4,2,3,2,2,2,3,3,1,3,2,2,2,2,3,2,3,3,2,2,2,2,2,2,3,2,2,3,2,2,3,2,3,2,3,4,2,2,3,2,3,2,3,4,2,2,3,2,3,3,2,2,3,2,3,2,3,3],\"xaxis\":\"x\",\"yaxis\":\"y\",\"type\":\"histogram\"},{\"alignmentgroup\":\"True\",\"bingroup\":\"x\",\"hovertemplate\":\"stress_level=2\\u003cbr\\u003eextracurricular_activities=%{x}\\u003cbr\\u003ecount=%{y}\\u003cextra\\u003e\\u003c\\u002fextra\\u003e\",\"legendgroup\":\"2\",\"marker\":{\"color\":\"#EF553B\",\"pattern\":{\"shape\":\"\"}},\"name\":\"2\",\"offsetgroup\":\"2\",\"orientation\":\"v\",\"showlegend\":true,\"x\":[5,4,4,4,4,5,0,4,4,4,5,5,4,4,4,5,4,5,4,4,4,5,5,4,5,5,4,5,4,1,4,5,5,5,5,5,2,4,5,4,4,3,4,2,3,5,4,4,4,4,5,0,5,4,5,5,4,5,5,0,0,5,4,5,4,5,4,4,5,4,1,4,4,4,5,5,5,4,4,4,5,4,4,5,5,4,5,4,0,5,4,5,5,4,4,4,5,5,5,5,4,4,4,5,5,4,5,5,5,4,4,4,4,3,5,4,4,4,5,5,4,5,4,5,5,4,5,5,4,5,1,4,4,5,5,5,5,4,0,4,5,4,4,5,5,5,5,5,5,4,4,2,4,5,4,5,4,5,5,4,5,5,5,5,4,4,3,5,5,4,5,4,4,4,4,5,4,1,4,5,4,4,5,5,5,4,4,5,5,5,5,5,5,0,5,4,5,4,4,5,4,5,4,4,4,5,4,4,4,5,4,1,4,4,4,5,4,5,2,4,5,4,5,4,4,4,5,5,4,5,5,5,4,5,4,4,4,2,4,5,4,5,5,5,4,4,4,4,4,5,4,5,4,5,5,4,5,5,5,4,5,0,1,4,2,1,5,4,5,4,5,4,5,5,4,3,5,0,4,4,1,4,5,5,4,5,5,3,4,5,4,5,5,4,4,5,4,5,4,5,4,4,5,4,5,1,4,4,4,4,5,5,4,5,4,5,4,4,4,4,4,1,5,5,5,4,5,5,3,5,4,4,0,4,3,4,5,5,5,4,5,5,2,4,4,1,0,4,5,4,5,0,4,4,4,4,4,4,1,4,5,3,4,4,5,0,4,4,1],\"xaxis\":\"x\",\"yaxis\":\"y\",\"type\":\"histogram\"},{\"alignmentgroup\":\"True\",\"bingroup\":\"x\",\"hovertemplate\":\"stress_level=0\\u003cbr\\u003eextracurricular_activities=%{x}\\u003cbr\\u003ecount=%{y}\\u003cextra\\u003e\\u003c\\u002fextra\\u003e\",\"legendgroup\":\"0\",\"marker\":{\"color\":\"#00cc96\",\"pattern\":{\"shape\":\"\"}},\"name\":\"0\",\"offsetgroup\":\"0\",\"orientation\":\"v\",\"showlegend\":true,\"x\":[2,1,2,2,1,2,2,1,2,2,1,1,1,2,2,2,2,1,2,2,2,1,1,2,2,2,4,2,1,2,1,1,2,2,3,1,1,1,2,1,1,2,2,5,2,2,2,0,1,1,5,1,2,2,2,2,2,2,2,1,1,1,3,1,1,2,1,2,0,2,2,2,1,4,2,1,1,2,1,2,1,2,1,1,2,1,1,1,2,1,2,1,2,2,2,2,5,2,2,4,4,2,1,1,1,1,3,1,1,2,2,0,2,2,1,2,2,2,1,2,1,1,1,2,0,1,2,1,1,1,2,2,2,1,4,2,1,1,2,4,2,5,2,1,2,2,1,2,2,1,2,2,2,2,4,2,3,4,1,1,1,1,1,1,2,2,3,5,2,2,1,1,2,2,3,2,0,1,1,1,1,1,2,2,1,1,1,2,3,2,2,0,1,2,2,1,1,1,1,1,1,1,1,2,1,1,1,1,1,2,0,1,2,2,2,1,1,2,0,1,1,1,2,1,4,2,1,2,1,2,1,2,1,2,0,3,2,1,2,1,1,2,1,1,2,1,1,2,1,1,1,2,2,2,2,1,2,1,2,4,2,3,2,2,1,2,1,2,2,1,5,1,1,0,2,3,1,5,5,2,2,2,3,2,1,1,2,1,2,1,2,1,2,2,2,3,1,1,1,2,2,1,1,1,2,1,1,1,1,2,1,1,2,2,1,2,2,1,2,2,1,1,2,1,1,1,2,1,2,2,1,4,1,5,1,2,1,2,1,1,2,4,3,2,1,1,1,4,1,1,1,2,1,5,5,2,2,1,0,1,2,1,2,1,4,1,2,5,2,5,0,1,2],\"xaxis\":\"x\",\"yaxis\":\"y\",\"type\":\"histogram\"}],                        {\"template\":{\"data\":{\"histogram2dcontour\":[{\"type\":\"histogram2dcontour\",\"colorbar\":{\"outlinewidth\":0,\"ticks\":\"\"},\"colorscale\":[[0.0,\"#0d0887\"],[0.1111111111111111,\"#46039f\"],[0.2222222222222222,\"#7201a8\"],[0.3333333333333333,\"#9c179e\"],[0.4444444444444444,\"#bd3786\"],[0.5555555555555556,\"#d8576b\"],[0.6666666666666666,\"#ed7953\"],[0.7777777777777778,\"#fb9f3a\"],[0.8888888888888888,\"#fdca26\"],[1.0,\"#f0f921\"]]}],\"choropleth\":[{\"type\":\"choropleth\",\"colorbar\":{\"outlinewidth\":0,\"ticks\":\"\"}}],\"histogram2d\":[{\"type\":\"histogram2d\",\"colorbar\":{\"outlinewidth\":0,\"ticks\":\"\"},\"colorscale\":[[0.0,\"#0d0887\"],[0.1111111111111111,\"#46039f\"],[0.2222222222222222,\"#7201a8\"],[0.3333333333333333,\"#9c179e\"],[0.4444444444444444,\"#bd3786\"],[0.5555555555555556,\"#d8576b\"],[0.6666666666666666,\"#ed7953\"],[0.7777777777777778,\"#fb9f3a\"],[0.8888888888888888,\"#fdca26\"],[1.0,\"#f0f921\"]]}],\"heatmap\":[{\"type\":\"heatmap\",\"colorbar\":{\"outlinewidth\":0,\"ticks\":\"\"},\"colorscale\":[[0.0,\"#0d0887\"],[0.1111111111111111,\"#46039f\"],[0.2222222222222222,\"#7201a8\"],[0.3333333333333333,\"#9c179e\"],[0.4444444444444444,\"#bd3786\"],[0.5555555555555556,\"#d8576b\"],[0.6666666666666666,\"#ed7953\"],[0.7777777777777778,\"#fb9f3a\"],[0.8888888888888888,\"#fdca26\"],[1.0,\"#f0f921\"]]}],\"heatmapgl\":[{\"type\":\"heatmapgl\",\"colorbar\":{\"outlinewidth\":0,\"ticks\":\"\"},\"colorscale\":[[0.0,\"#0d0887\"],[0.1111111111111111,\"#46039f\"],[0.2222222222222222,\"#7201a8\"],[0.3333333333333333,\"#9c179e\"],[0.4444444444444444,\"#bd3786\"],[0.5555555555555556,\"#d8576b\"],[0.6666666666666666,\"#ed7953\"],[0.7777777777777778,\"#fb9f3a\"],[0.8888888888888888,\"#fdca26\"],[1.0,\"#f0f921\"]]}],\"contourcarpet\":[{\"type\":\"contourcarpet\",\"colorbar\":{\"outlinewidth\":0,\"ticks\":\"\"}}],\"contour\":[{\"type\":\"contour\",\"colorbar\":{\"outlinewidth\":0,\"ticks\":\"\"},\"colorscale\":[[0.0,\"#0d0887\"],[0.1111111111111111,\"#46039f\"],[0.2222222222222222,\"#7201a8\"],[0.3333333333333333,\"#9c179e\"],[0.4444444444444444,\"#bd3786\"],[0.5555555555555556,\"#d8576b\"],[0.6666666666666666,\"#ed7953\"],[0.7777777777777778,\"#fb9f3a\"],[0.8888888888888888,\"#fdca26\"],[1.0,\"#f0f921\"]]}],\"surface\":[{\"type\":\"surface\",\"colorbar\":{\"outlinewidth\":0,\"ticks\":\"\"},\"colorscale\":[[0.0,\"#0d0887\"],[0.1111111111111111,\"#46039f\"],[0.2222222222222222,\"#7201a8\"],[0.3333333333333333,\"#9c179e\"],[0.4444444444444444,\"#bd3786\"],[0.5555555555555556,\"#d8576b\"],[0.6666666666666666,\"#ed7953\"],[0.7777777777777778,\"#fb9f3a\"],[0.8888888888888888,\"#fdca26\"],[1.0,\"#f0f921\"]]}],\"mesh3d\":[{\"type\":\"mesh3d\",\"colorbar\":{\"outlinewidth\":0,\"ticks\":\"\"}}],\"scatter\":[{\"fillpattern\":{\"fillmode\":\"overlay\",\"size\":10,\"solidity\":0.2},\"type\":\"scatter\"}],\"parcoords\":[{\"type\":\"parcoords\",\"line\":{\"colorbar\":{\"outlinewidth\":0,\"ticks\":\"\"}}}],\"scatterpolargl\":[{\"type\":\"scatterpolargl\",\"marker\":{\"colorbar\":{\"outlinewidth\":0,\"ticks\":\"\"}}}],\"bar\":[{\"error_x\":{\"color\":\"#2a3f5f\"},\"error_y\":{\"color\":\"#2a3f5f\"},\"marker\":{\"line\":{\"color\":\"#E5ECF6\",\"width\":0.5},\"pattern\":{\"fillmode\":\"overlay\",\"size\":10,\"solidity\":0.2}},\"type\":\"bar\"}],\"scattergeo\":[{\"type\":\"scattergeo\",\"marker\":{\"colorbar\":{\"outlinewidth\":0,\"ticks\":\"\"}}}],\"scatterpolar\":[{\"type\":\"scatterpolar\",\"marker\":{\"colorbar\":{\"outlinewidth\":0,\"ticks\":\"\"}}}],\"histogram\":[{\"marker\":{\"pattern\":{\"fillmode\":\"overlay\",\"size\":10,\"solidity\":0.2}},\"type\":\"histogram\"}],\"scattergl\":[{\"type\":\"scattergl\",\"marker\":{\"colorbar\":{\"outlinewidth\":0,\"ticks\":\"\"}}}],\"scatter3d\":[{\"type\":\"scatter3d\",\"line\":{\"colorbar\":{\"outlinewidth\":0,\"ticks\":\"\"}},\"marker\":{\"colorbar\":{\"outlinewidth\":0,\"ticks\":\"\"}}}],\"scattermapbox\":[{\"type\":\"scattermapbox\",\"marker\":{\"colorbar\":{\"outlinewidth\":0,\"ticks\":\"\"}}}],\"scatterternary\":[{\"type\":\"scatterternary\",\"marker\":{\"colorbar\":{\"outlinewidth\":0,\"ticks\":\"\"}}}],\"scattercarpet\":[{\"type\":\"scattercarpet\",\"marker\":{\"colorbar\":{\"outlinewidth\":0,\"ticks\":\"\"}}}],\"carpet\":[{\"aaxis\":{\"endlinecolor\":\"#2a3f5f\",\"gridcolor\":\"white\",\"linecolor\":\"white\",\"minorgridcolor\":\"white\",\"startlinecolor\":\"#2a3f5f\"},\"baxis\":{\"endlinecolor\":\"#2a3f5f\",\"gridcolor\":\"white\",\"linecolor\":\"white\",\"minorgridcolor\":\"white\",\"startlinecolor\":\"#2a3f5f\"},\"type\":\"carpet\"}],\"table\":[{\"cells\":{\"fill\":{\"color\":\"#EBF0F8\"},\"line\":{\"color\":\"white\"}},\"header\":{\"fill\":{\"color\":\"#C8D4E3\"},\"line\":{\"color\":\"white\"}},\"type\":\"table\"}],\"barpolar\":[{\"marker\":{\"line\":{\"color\":\"#E5ECF6\",\"width\":0.5},\"pattern\":{\"fillmode\":\"overlay\",\"size\":10,\"solidity\":0.2}},\"type\":\"barpolar\"}],\"pie\":[{\"automargin\":true,\"type\":\"pie\"}]},\"layout\":{\"autotypenumbers\":\"strict\",\"colorway\":[\"#636efa\",\"#EF553B\",\"#00cc96\",\"#ab63fa\",\"#FFA15A\",\"#19d3f3\",\"#FF6692\",\"#B6E880\",\"#FF97FF\",\"#FECB52\"],\"font\":{\"color\":\"#2a3f5f\"},\"hovermode\":\"closest\",\"hoverlabel\":{\"align\":\"left\"},\"paper_bgcolor\":\"white\",\"plot_bgcolor\":\"#E5ECF6\",\"polar\":{\"bgcolor\":\"#E5ECF6\",\"angularaxis\":{\"gridcolor\":\"white\",\"linecolor\":\"white\",\"ticks\":\"\"},\"radialaxis\":{\"gridcolor\":\"white\",\"linecolor\":\"white\",\"ticks\":\"\"}},\"ternary\":{\"bgcolor\":\"#E5ECF6\",\"aaxis\":{\"gridcolor\":\"white\",\"linecolor\":\"white\",\"ticks\":\"\"},\"baxis\":{\"gridcolor\":\"white\",\"linecolor\":\"white\",\"ticks\":\"\"},\"caxis\":{\"gridcolor\":\"white\",\"linecolor\":\"white\",\"ticks\":\"\"}},\"coloraxis\":{\"colorbar\":{\"outlinewidth\":0,\"ticks\":\"\"}},\"colorscale\":{\"sequential\":[[0.0,\"#0d0887\"],[0.1111111111111111,\"#46039f\"],[0.2222222222222222,\"#7201a8\"],[0.3333333333333333,\"#9c179e\"],[0.4444444444444444,\"#bd3786\"],[0.5555555555555556,\"#d8576b\"],[0.6666666666666666,\"#ed7953\"],[0.7777777777777778,\"#fb9f3a\"],[0.8888888888888888,\"#fdca26\"],[1.0,\"#f0f921\"]],\"sequentialminus\":[[0.0,\"#0d0887\"],[0.1111111111111111,\"#46039f\"],[0.2222222222222222,\"#7201a8\"],[0.3333333333333333,\"#9c179e\"],[0.4444444444444444,\"#bd3786\"],[0.5555555555555556,\"#d8576b\"],[0.6666666666666666,\"#ed7953\"],[0.7777777777777778,\"#fb9f3a\"],[0.8888888888888888,\"#fdca26\"],[1.0,\"#f0f921\"]],\"diverging\":[[0,\"#8e0152\"],[0.1,\"#c51b7d\"],[0.2,\"#de77ae\"],[0.3,\"#f1b6da\"],[0.4,\"#fde0ef\"],[0.5,\"#f7f7f7\"],[0.6,\"#e6f5d0\"],[0.7,\"#b8e186\"],[0.8,\"#7fbc41\"],[0.9,\"#4d9221\"],[1,\"#276419\"]]},\"xaxis\":{\"gridcolor\":\"white\",\"linecolor\":\"white\",\"ticks\":\"\",\"title\":{\"standoff\":15},\"zerolinecolor\":\"white\",\"automargin\":true,\"zerolinewidth\":2},\"yaxis\":{\"gridcolor\":\"white\",\"linecolor\":\"white\",\"ticks\":\"\",\"title\":{\"standoff\":15},\"zerolinecolor\":\"white\",\"automargin\":true,\"zerolinewidth\":2},\"scene\":{\"xaxis\":{\"backgroundcolor\":\"#E5ECF6\",\"gridcolor\":\"white\",\"linecolor\":\"white\",\"showbackground\":true,\"ticks\":\"\",\"zerolinecolor\":\"white\",\"gridwidth\":2},\"yaxis\":{\"backgroundcolor\":\"#E5ECF6\",\"gridcolor\":\"white\",\"linecolor\":\"white\",\"showbackground\":true,\"ticks\":\"\",\"zerolinecolor\":\"white\",\"gridwidth\":2},\"zaxis\":{\"backgroundcolor\":\"#E5ECF6\",\"gridcolor\":\"white\",\"linecolor\":\"white\",\"showbackground\":true,\"ticks\":\"\",\"zerolinecolor\":\"white\",\"gridwidth\":2}},\"shapedefaults\":{\"line\":{\"color\":\"#2a3f5f\"}},\"annotationdefaults\":{\"arrowcolor\":\"#2a3f5f\",\"arrowhead\":0,\"arrowwidth\":1},\"geo\":{\"bgcolor\":\"white\",\"landcolor\":\"#E5ECF6\",\"subunitcolor\":\"white\",\"showland\":true,\"showlakes\":true,\"lakecolor\":\"white\"},\"title\":{\"x\":0.05},\"mapbox\":{\"style\":\"light\"}}},\"xaxis\":{\"anchor\":\"y\",\"domain\":[0.0,1.0],\"title\":{\"text\":\"extracurricular_activities\"}},\"yaxis\":{\"anchor\":\"x\",\"domain\":[0.0,1.0],\"title\":{\"text\":\"count\"}},\"legend\":{\"title\":{\"text\":\"stress_level\"},\"tracegroupgap\":0},\"title\":{\"text\":\"Stress Level Dependence on Depression\"},\"barmode\":\"relative\",\"bargap\":0.2},                        {\"responsive\": true}                    ).then(function(){\n",
              "                            \n",
              "var gd = document.getElementById('24e2627a-a1d1-409a-95cc-bd9f018ec60c');\n",
              "var x = new MutationObserver(function (mutations, observer) {{\n",
              "        var display = window.getComputedStyle(gd).display;\n",
              "        if (!display || display === 'none') {{\n",
              "            console.log([gd, 'removed!']);\n",
              "            Plotly.purge(gd);\n",
              "            observer.disconnect();\n",
              "        }}\n",
              "}});\n",
              "\n",
              "// Listen for the removal of the full notebook cells\n",
              "var notebookContainer = gd.closest('#notebook-container');\n",
              "if (notebookContainer) {{\n",
              "    x.observe(notebookContainer, {childList: true});\n",
              "}}\n",
              "\n",
              "// Listen for the clearing of the current output cell\n",
              "var outputEl = gd.closest('.output');\n",
              "if (outputEl) {{\n",
              "    x.observe(outputEl, {childList: true});\n",
              "}}\n",
              "\n",
              "                        })                };                            </script>        </div>\n",
              "</body>\n",
              "</html>"
            ]
          },
          "metadata": {},
          "output_type": "display_data"
        }
      ],
      "source": [
        "# Too much time spent on activities, thats why positive correlation\n",
        "px.histogram(df,x='extracurricular_activities', color = target, title = 'Stress Level Dependence on Depression').update_layout(bargap=0.2 )"
      ]
    },
    {
      "cell_type": "code",
      "execution_count": 14,
      "metadata": {
        "colab": {
          "base_uri": "https://localhost:8080/"
        },
        "id": "HknQtCr0A96S",
        "outputId": "dca96f26-2da8-42b1-f2b9-ba9c365404a5"
      },
      "outputs": [
        {
          "data": {
            "text/plain": [
              "Index(['anxiety_level', 'self_esteem', 'mental_health_history', 'depression',\n",
              "       'headache', 'blood_pressure', 'sleep_quality', 'breathing_problem',\n",
              "       'noise_level', 'living_conditions', 'safety', 'basic_needs',\n",
              "       'academic_performance', 'study_load', 'teacher_student_relationship',\n",
              "       'future_career_concerns', 'social_support', 'peer_pressure',\n",
              "       'extracurricular_activities', 'bullying', 'stress_level'],\n",
              "      dtype='object')"
            ]
          },
          "execution_count": 14,
          "metadata": {},
          "output_type": "execute_result"
        }
      ],
      "source": [
        "df.columns"
      ]
    },
    {
      "cell_type": "code",
      "execution_count": 15,
      "metadata": {
        "id": "EHmKJtwhLFyS"
      },
      "outputs": [],
      "source": [
        "X_train, X_test, y_train, y_test = train_test_split(df.drop(target,axis=1), df[target], test_size=.2)"
      ]
    },
    {
      "cell_type": "code",
      "execution_count": 16,
      "metadata": {
        "id": "AvPO6BPTLyrU"
      },
      "outputs": [],
      "source": [
        "# Reinforcement Learning\n",
        "# boosting - bagging\n",
        "# LGBM, XGB - RandomForest\n",
        "\n",
        "# Extreme Gradient Boost\n",
        "model = XGBClassifier()"
      ]
    },
    {
      "cell_type": "code",
      "execution_count": null,
      "metadata": {
        "id": "V_Jhj4E1WK_F"
      },
      "outputs": [],
      "source": [
        "#  MODELS\n",
        "\n",
        "# decision tree\n",
        "# random forest\n",
        "# LGBM\n",
        "# KMEANS\n",
        "#"
      ]
    },
    {
      "cell_type": "code",
      "execution_count": 17,
      "metadata": {
        "id": "j0oYbAHfLynb"
      },
      "outputs": [],
      "source": [
        "# fit model\n",
        "model.fit(X_train, y_train)\n",
        "# make predictions\n",
        "preds = model.predict(X_test)"
      ]
    },
    {
      "cell_type": "code",
      "execution_count": null,
      "metadata": {
        "colab": {
          "base_uri": "https://localhost:8080/",
          "height": 35
        },
        "id": "jBz-baHBM569",
        "outputId": "eadcb7b2-f773-4e07-8dbe-9f3154038a28"
      },
      "outputs": [
        {
          "data": {
            "application/vnd.google.colaboratory.intrinsic+json": {
              "type": "string"
            },
            "text/plain": [
              "'\\n----------  PREDICTION    acc=83.(3)\\n----------  A     B\\nA - 100  -> 80 / 20\\nB - 50   -> 5  / 45\\n\\n150 PREDICTION\\n\\n'"
            ]
          },
          "execution_count": 22,
          "metadata": {},
          "output_type": "execute_result"
        }
      ],
      "source": [
        "'''\n",
        "----------  PREDICTION    acc=83.(3)\n",
        "----------  A     B\n",
        "A - 100  -> 80 / 20\n",
        "B - 50   -> 5  / 45\n",
        "\n",
        "150 PREDICTION\n",
        "\n",
        "'''\n"
      ]
    },
    {
      "cell_type": "code",
      "execution_count": 19,
      "metadata": {
        "colab": {
          "base_uri": "https://localhost:8080/",
          "height": 466
        },
        "id": "PKjh1-a4Lykj",
        "outputId": "f0536df2-7e7b-4361-a360-b50c1d60b3d8"
      },
      "outputs": [
        {
          "data": {
            "text/plain": [
              "<sklearn.metrics._plot.confusion_matrix.ConfusionMatrixDisplay at 0x2cef14950d0>"
            ]
          },
          "execution_count": 19,
          "metadata": {},
          "output_type": "execute_result"
        },
        {
          "data": {
            "image/png": "[encoded data removed]",
            "text/plain": [
              "<Figure size 640x480 with 2 Axes>"
            ]
          },
          "metadata": {},
          "output_type": "display_data"
        }
      ],
      "source": [
        "disp = ConfusionMatrixDisplay(confusion_matrix(y_test, preds))\n",
        "disp.plot()"
      ]
    },
    {
      "cell_type": "code",
      "execution_count": 20,
      "metadata": {
        "colab": {
          "base_uri": "https://localhost:8080/"
        },
        "id": "Dn_1LNjOQTRE",
        "outputId": "29f34e66-8ca5-4881-a49a-fbc30e2ce070"
      },
      "outputs": [
        {
          "name": "stderr",
          "output_type": "stream",
          "text": [
            "c:\\Users\\TeymurRzali\\AppData\\Local\\Programs\\Python\\Python311\\Lib\\site-packages\\xgboost\\core.py:160: UserWarning:\n",
            "\n",
            "[09:09:35] WARNING: C:\\buildkite-agent\\builds\\buildkite-windows-cpu-autoscaling-group-i-0750514818a16474a-1\\xgboost\\xgboost-ci-windows\\src\\c_api\\c_api.cc:1240: Saving into deprecated binary model format, please consider using `json` or `ubj`. Model format will default to JSON in XGBoost 2.2 if not specified.\n",
            "\n"
          ]
        }
      ],
      "source": [
        "explainer = shap.Explainer(model, X_train)"
      ]
    },
    {
      "cell_type": "code",
      "execution_count": 21,
      "metadata": {
        "id": "88E3UmduQZBg"
      },
      "outputs": [],
      "source": [
        "shap_values = explainer(X_train)#, check_additivity=False)"
      ]
    },
    {
      "cell_type": "code",
      "execution_count": 22,
      "metadata": {
        "colab": {
          "base_uri": "https://localhost:8080/",
          "height": 822
        },
        "id": "rb6QbSpVR0qe",
        "outputId": "def00d33-4b3e-46b0-bdcd-dff1ba9ed447"
      },
      "outputs": [
        {
          "data": {
            "image/png": "[encoded data removed]",
            "text/plain": [
              "<Figure size 800x950 with 2 Axes>"
            ]
          },
          "metadata": {},
          "output_type": "display_data"
        }
      ],
      "source": [
        "shap.plots.beeswarm(shap_values[:,:,1],max_display=35 , color=plt.get_cmap(\"cool\"))\n",
        "# shap.plots.beeswarm(shap_values,max_display=35 , color=plt.get_cmap(\"cool\"))"
      ]
    },
    {
      "cell_type": "code",
      "execution_count": 23,
      "metadata": {
        "colab": {
          "base_uri": "https://localhost:8080/",
          "height": 854
        },
        "id": "32jxvStETM3f",
        "outputId": "1fafccc5-f408-4952-ff5b-8c05833a9706"
      },
      "outputs": [
        {
          "data": {
            "text/plain": [
              "<Axes: >"
            ]
          },
          "execution_count": 23,
          "metadata": {},
          "output_type": "execute_result"
        },
        {
          "data": {
            "image/png": "[encoded data removed]",
            "text/plain": [
              "<Figure size 1000x1000 with 2 Axes>"
            ]
          },
          "metadata": {},
          "output_type": "display_data"
        }
      ],
      "source": [
        "corr = df.corr()[[target]]\n",
        "plt.figure(figsize = (10,10))\n",
        "sns.heatmap(corr,  annot=True)"
      ]
    },
    {
      "cell_type": "code",
      "execution_count": 24,
      "metadata": {
        "colab": {
          "base_uri": "https://localhost:8080/"
        },
        "id": "9kgPoWkDBf5t",
        "outputId": "9194b6a3-f84d-4e2b-80c1-128a36b7355e"
      },
      "outputs": [
        {
          "name": "stdout",
          "output_type": "stream",
          "text": [
            "                            OLS Regression Results                            \n",
            "==============================================================================\n",
            "Dep. Variable:           stress_level   R-squared:                       0.793\n",
            "Model:                            OLS   Adj. R-squared:                  0.789\n",
            "Method:                 Least Squares   F-statistic:                     217.6\n",
            "Date:                Wed, 06 Dec 2023   Prob (F-statistic):               0.00\n",
            "Time:                        09:10:03   Log-Likelihood:                -478.35\n",
            "No. Observations:                1100   AIC:                             996.7\n",
            "Df Residuals:                    1080   BIC:                             1097.\n",
            "Df Model:                          19                                         \n",
            "Covariance Type:            nonrobust                                         \n",
            "================================================================================================\n",
            "                                   coef    std err          t      P>|t|      [0.025      0.975]\n",
            "------------------------------------------------------------------------------------------------\n",
            "anxiety_level                    0.0045      0.003      1.364      0.173      -0.002       0.011\n",
            "self_esteem                     -0.0134      0.002     -5.908      0.000      -0.018      -0.009\n",
            "mental_health_history            0.0106      0.034      0.314      0.754      -0.056       0.077\n",
            "depression                       0.0060      0.003      2.333      0.020       0.001       0.011\n",
            "headache                         0.0562      0.013      4.381      0.000       0.031       0.081\n",
            "blood_pressure                  -0.0365      0.026     -1.396      0.163      -0.088       0.015\n",
            "sleep_quality                   -0.0581      0.013     -4.533      0.000      -0.083      -0.033\n",
            "breathing_problem                0.0159      0.011      1.476      0.140      -0.005       0.037\n",
            "noise_level                      0.0654      0.012      5.413      0.000       0.042       0.089\n",
            "living_conditions               -0.0094      0.014     -0.688      0.492      -0.036       0.017\n",
            "safety                          -0.0504      0.013     -3.741      0.000      -0.077      -0.024\n",
            "basic_needs                     -0.0566      0.013     -4.375      0.000      -0.082      -0.031\n",
            "academic_performance            -0.0634      0.013     -4.833      0.000      -0.089      -0.038\n",
            "study_load                       0.0475      0.012      4.003      0.000       0.024       0.071\n",
            "teacher_student_relationship     0.0371      0.015      2.527      0.012       0.008       0.066\n",
            "future_career_concerns           0.0206      0.014      1.504      0.133      -0.006       0.047\n",
            "social_support                  -0.0417      0.026     -1.604      0.109      -0.093       0.009\n",
            "peer_pressure                    0.0386      0.013      3.011      0.003       0.013       0.064\n",
            "extracurricular_activities       0.0486      0.013      3.838      0.000       0.024       0.074\n",
            "constant                         1.0359      0.133      7.809      0.000       0.776       1.296\n",
            "==============================================================================\n",
            "Omnibus:                      177.731   Durbin-Watson:                   1.999\n",
            "Prob(Omnibus):                  0.000   Jarque-Bera (JB):             1417.356\n",
            "Skew:                          -0.490   Prob(JB):                    1.68e-308\n",
            "Kurtosis:                       8.474   Cond. No.                         314.\n",
            "==============================================================================\n",
            "\n",
            "Notes:\n",
            "[1] Standard Errors assume that the covariance matrix of the errors is correctly specified.\n"
          ]
        }
      ],
      "source": [
        "import statsmodels.api as sm\n",
        "\n",
        "# Define independent variables and add a constant for the intercept term\n",
        "independent_vars = list(df.columns)[:-2]  # Add other columns as needed\n",
        "df['constant'] = 1\n",
        "\n",
        "# Create the OLS (Ordinary Least Squares) model\n",
        "model = sm.OLS(df['stress_level'], df[independent_vars + ['constant']])\n",
        "\n",
        "# Fit the model to the data\n",
        "results = model.fit()\n",
        "\n",
        "# Display the regression results summary\n",
        "print(results.summary())"
      ]
    },
    {
      "cell_type": "code",
      "execution_count": null,
      "metadata": {},
      "outputs": [],
      "source": []
    }
  ],
  "metadata": {
    "colab": {
      "provenance": []
    },
    "kernelspec": {
      "display_name": "Python 3",
      "language": "python",
      "name": "python3"
    },
    "language_info": {
      "codemirror_mode": {
        "name": "ipython",
        "version": 3
      },
      "file_extension": ".py",
      "mimetype": "text/x-python",
      "name": "python",
      "nbconvert_exporter": "python",
      "pygments_lexer": "ipython3",
      "version": "3.11.0b2"
    }
  },
  "nbformat": 4,
  "nbformat_minor": 0
}
